{
 "cells": [
  {
   "cell_type": "markdown",
   "metadata": {},
   "source": [
    "## Automatyczne Uczenie Maszynowe\n",
    "Lab 09"
   ]
  },
  {
   "cell_type": "markdown",
   "metadata": {},
   "source": [
    "### Learning Curves"
   ]
  },
  {
   "cell_type": "markdown",
   "metadata": {},
   "source": [
    "Istnieje baza LCDB zwierająca wyniki krzywych uczenia (learning curves = LC) dla 246 zbiorów danych i 20 algorytmów do klasyfikacji.\n",
    "\n",
    "**Prace i artykuły:** \n",
    "\n",
    "- [Artykuł o bazie LCDB](https://ada.liacs.leidenuniv.nl/papers/MohEtAl22.pdf)\n",
    "- [Dostęp do bazy](https://github.com/fmohr/lcdb)\n",
    "- [Artykuł o LC](https://arxiv.org/pdf/2103.10948)"
   ]
  },
  {
   "cell_type": "markdown",
   "metadata": {},
   "source": [
    "### Zadanie\n",
    "------"
   ]
  },
  {
   "cell_type": "markdown",
   "metadata": {},
   "source": [
    "Na bazie 2-3 zbiorów danych i 2-3 algorytmów przygotuj eksperyment wyliczający krzywe uczenia. \n",
    "Uwzględnij\n",
    "\n",
    "a) kroswalidację\n",
    "\n",
    "b) problem dla którego będzie wyliczana krzywa uczenia\n",
    "\n",
    "    - jakość modelu\n",
    "\n",
    "    - ważność zmiennych \n",
    "    \n",
    "    - wartość hiperparametru (złożoność modelu)"
   ]
  },
  {
   "cell_type": "markdown",
   "metadata": {},
   "source": []
  }
 ],
 "metadata": {
  "language_info": {
   "name": "python"
  }
 },
 "nbformat": 4,
 "nbformat_minor": 2
}
