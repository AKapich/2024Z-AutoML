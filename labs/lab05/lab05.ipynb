{
 "cells": [
  {
   "cell_type": "markdown",
   "metadata": {},
   "source": [
    "# Laboratorium 05\n",
    "\n",
    "### Ensembles\n",
    "\n"
   ]
  },
  {
   "cell_type": "markdown",
   "metadata": {},
   "source": [
    "#### Zadanie 1\n",
    "\n",
    "Jakie znacie techniki tworzenia ensembli?\n"
   ]
  },
  {
   "cell_type": "markdown",
   "metadata": {},
   "source": [
    "#### Zadanie 2\n",
    "\n",
    "Dla danych Credit-g korzystając z metody `StackingClassifier` i `VotingClassifier` zbuduj dwa pipeline, które będą zakończone komitetami klasyfikatorów, zbudowanych z 4 różnych algorytmów uczenia maszynowego.\n",
    "\n",
    "Następnie odpowiedz na poniższe pytania:\n",
    "1. Jaka jest różnica w jakości poszczególnych modeli, a całego stackingu i votingu?\n",
    "2. Czy algorytmy mają podobny wkład w ostateczną predykcję czy jeden z algorytmów dominuje? \n",
    "3. Czy algorytmy mają podobne predykcje dla poszczególnych obserwacji czy działają komplementarnie?\n",
    "4. \n",
    "\n",
    "Dane: https://www.openml.org/search?type=data&id=44096\n",
    "\n",
    "Opis metod: https://scikit-learn.org/dev/modules/ensemble.html#stacking"
   ]
  },
  {
   "cell_type": "code",
   "execution_count": null,
   "metadata": {},
   "outputs": [],
   "source": [
    "import openml\n",
    "\n",
    "# List all datasets and their properties\n",
    "openml.datasets.list_datasets(output_format=\"dataframe\")\n",
    "\n",
    "# Get dataset by ID\n",
    "dataset = openml.datasets.get_dataset(44096)\n",
    "\n",
    "X, _, _, _ = dataset.get_data(dataset_format=\"dataframe\")\n",
    "y = X.loc[:, 'class']\n",
    "X = X.drop(['class'], axis = 1)\n",
    "print('Dane X', X.head())\n",
    "print('Target: ', y.head())"
   ]
  },
  {
   "cell_type": "markdown",
   "metadata": {},
   "source": [
    "### Zadanie 3\n",
    "\n",
    "Korzystając z kroswalidacji sprawdź stabilność istotności modeli włączanych w skład komitetu."
   ]
  },
  {
   "cell_type": "code",
   "execution_count": null,
   "metadata": {},
   "outputs": [],
   "source": []
  },
  {
   "cell_type": "markdown",
   "metadata": {},
   "source": [
    "#### Zadanie 4\n",
    "\n",
    "Zastanów się jak zbudować komitet klasyfikatorów, gdzie modele będą budowane na różnym podzbiorze zmiennych."
   ]
  },
  {
   "cell_type": "code",
   "execution_count": null,
   "metadata": {},
   "outputs": [],
   "source": []
  },
  {
   "cell_type": "code",
   "execution_count": null,
   "metadata": {},
   "outputs": [],
   "source": []
  }
 ],
 "metadata": {
  "kernelspec": {
   "display_name": "automl_basic",
   "language": "python",
   "name": "python3"
  },
  "language_info": {
   "codemirror_mode": {
    "name": "ipython",
    "version": 3
   },
   "file_extension": ".py",
   "mimetype": "text/x-python",
   "name": "python",
   "nbconvert_exporter": "python",
   "pygments_lexer": "ipython3",
   "version": "3.12.6"
  }
 },
 "nbformat": 4,
 "nbformat_minor": 2
}
