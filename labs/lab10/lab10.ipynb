{
 "cells": [
  {
   "cell_type": "markdown",
   "metadata": {
    "id": "hfgo-ZoVPyNT"
   },
   "source": [
    "## MLJAR"
   ]
  },
  {
   "cell_type": "markdown",
   "metadata": {
    "id": "8E3bcT7sSXKc"
   },
   "source": [
    "### Instalacja\n",
    "\n",
    "https://github.com/mljar/mljar-supervised"
   ]
  },
  {
   "cell_type": "code",
   "execution_count": null,
   "metadata": {
    "colab": {
     "base_uri": "https://localhost:8080/"
    },
    "id": "GXQsVvsGP0pv",
    "outputId": "61a9d479-c2f0-493e-cb93-5f8944985335"
   },
   "outputs": [],
   "source": [
    "!pip install mljar-supervised"
   ]
  },
  {
   "cell_type": "code",
   "execution_count": null,
   "metadata": {
    "colab": {
     "base_uri": "https://localhost:8080/"
    },
    "id": "miqw3ThNQKkt",
    "outputId": "6f913133-8f02-44d7-d90f-cd4b96309197"
   },
   "outputs": [],
   "source": [
    "# przykład wywołania mljar\n",
    "\n",
    "import numpy as np\n",
    "import pandas as pd\n",
    "from sklearn.datasets import fetch_california_housing\n",
    "from sklearn.model_selection import train_test_split\n",
    "from sklearn.metrics import mean_squared_error\n",
    "from supervised.automl import AutoML # mljar-supervised\n",
    "\n",
    "# Load the data\n",
    "housing = fetch_california_housing()\n",
    "X_train, X_test, y_train, y_test = train_test_split(\n",
    "    pd.DataFrame(housing.data, columns=housing.feature_names),\n",
    "    housing.target,\n",
    "    test_size=0.25,\n",
    "    random_state=123,\n",
    ")\n",
    "\n",
    "# train models with AutoML\n",
    "automl = AutoML(mode=\"Explain\")\n",
    "automl.fit(X_train, y_train)\n",
    "\n",
    "# compute the MSE on test data\n",
    "predictions = automl.predict(X_test)\n",
    "print(\"Test MSE:\", mean_squared_error(y_test, predictions))"
   ]
  },
  {
   "cell_type": "markdown",
   "metadata": {
    "id": "sGZGqclJStJC"
   },
   "source": [
    "### Zadanie 1\n",
    "\n",
    "Wybierz zbiór danych - może być to na przykład zbiór danych, którym pracowałeś/aś podczas laboratorium z `autogluon`. Przygotuj model/e używając pakietu `mljar`.\n",
    "\n",
    "Bazując na wiedzy o przygotowanych modelach i ich jakości porównaj jak poradził sobie pakiet z tym zadaniem. Odpowiedz na pytania:\n",
    "\n",
    "a) jakie typy modeli rozważył framework?\n",
    "\n",
    "b) jaką miarę wylicza jako bazową?\n",
    "\n",
    "Bazująć na wiedz jak działa `autogluon`. Porównaj te dwa frameworki i odpowiedz na pytania:\n",
    "\n",
    "c) który uzyskał lepsze rezultaty?\n",
    "\n",
    "d) czy w obu przypadkach komitet modeli równie dobrze się sprawdził? (tzn. czy komitet modeli jest najlepszym modelem jaki uzyskaliśmy)\n"
   ]
  },
  {
   "cell_type": "code",
   "execution_count": null,
   "metadata": {
    "id": "8iobsUJrSs78"
   },
   "outputs": [],
   "source": []
  },
  {
   "cell_type": "code",
   "execution_count": null,
   "metadata": {
    "id": "Gpr2zkvPQ3ij"
   },
   "outputs": [],
   "source": []
  },
  {
   "cell_type": "markdown",
   "metadata": {
    "id": "PKNAWrHgUW38"
   },
   "source": [
    "### Zadanie 2\n",
    "\n",
    "Porównaj wyniki uzyskane różnymi trybami (*mode*) pracy pakietu `mljar`. Czy otrzymane wyniki są znacząco różne. Czy wykorzystując podstawowy tryb jesteśmy w stanie uzyskać dobre wyniki?"
   ]
  },
  {
   "cell_type": "code",
   "execution_count": null,
   "metadata": {
    "colab": {
     "base_uri": "https://localhost:8080/",
     "height": 1000
    },
    "id": "uMvrrYYnUxPL",
    "outputId": "431c3693-2859-43d2-b1a8-24c5660e5895"
   },
   "outputs": [],
   "source": [
    "# train models with AutoML\n",
    "automl = AutoML(mode=\"Perform\", total_time_limit = 60)\n",
    "automl.fit(X_train, y_train)"
   ]
  },
  {
   "cell_type": "code",
   "execution_count": null,
   "metadata": {
    "id": "nln_WSrWUyEr"
   },
   "outputs": [],
   "source": []
  },
  {
   "cell_type": "code",
   "execution_count": null,
   "metadata": {
    "id": "jT3lF-WOUycG"
   },
   "outputs": [],
   "source": []
  },
  {
   "cell_type": "markdown",
   "metadata": {
    "id": "xlxSMmWvV1Bz"
   },
   "source": [
    "### Zadanie 3\n",
    "\n",
    "Fairness Aware Training (more https://mljar.com/blog/fairness-machine-learning/)\n",
    "\n",
    "- `fairness_metric` - metric which will be used to decide if the model is fair,\n",
    "\n",
    "- `fairness_threshold` - threshold used in decision about model fairness,\n",
    "\n",
    "- `privileged_groups` privileged groups used in fairness metrics computation,\n",
    "\n",
    "- `underprivileged_groups` - underprivileged groups used in fairness metrics computation.\n",
    "\n",
    "\n",
    "The `fit()` method accepts `sensitive_features`. When sensitive features are passed to AutoML, the best model will be selected among fair models only. In the AutoML reports, additional information about fairness metrics will be added. The MLJAR AutoML supports two methods for bias mitigation:\n",
    "\n",
    "- Sample Weighting - assigns weights to samples to treat samples equally,\n",
    "- Smart Grid Search - similar to Sample Weighting, where different weights are checked to optimize fairness metric.\n"
   ]
  },
  {
   "cell_type": "code",
   "execution_count": null,
   "metadata": {
    "id": "gw2tCMyGV2hi"
   },
   "outputs": [],
   "source": [
    "from sklearn.model_selection import train_test_split\n",
    "from sklearn.datasets import fetch_openml\n",
    "from supervised.automl import AutoML\n",
    "\n",
    "data = fetch_openml(data_id=1590, as_frame=True)\n",
    "X = data.data\n",
    "y = (data.target == \">50K\") * 1\n",
    "sensitive_features = X[[\"sex\"]]\n",
    "\n",
    "X_train, X_test, y_train, y_test, S_train, S_test = train_test_split(\n",
    "    X, y, sensitive_features, stratify=y, test_size=0.75, random_state=42\n",
    ")\n",
    "\n",
    "automl = AutoML(\n",
    "    algorithms=[\n",
    "        \"Xgboost\"\n",
    "    ],\n",
    "    train_ensemble=False,\n",
    "    fairness_metric=\"demographic_parity_ratio\",\n",
    "    fairness_threshold=0.8,\n",
    "    privileged_groups = [{\"sex\": \"Male\"}],\n",
    "    underprivileged_groups = [{\"sex\": \"Female\"}],\n",
    ")\n",
    "\n",
    "automl.fit(X_train, y_train, sensitive_features=S_train)"
   ]
  }
 ],
 "metadata": {
  "colab": {
   "provenance": []
  },
  "kernelspec": {
   "display_name": "Python 3",
   "name": "python3"
  },
  "language_info": {
   "name": "python"
  }
 },
 "nbformat": 4,
 "nbformat_minor": 0
}
