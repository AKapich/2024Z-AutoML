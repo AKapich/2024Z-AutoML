{
 "cells": [
  {
   "cell_type": "markdown",
   "metadata": {},
   "source": [
    "# Hyperparameters tuning via Random Search\n",
    "In this notebook, we perform hyperparameter tuning of three models: Logistic Regression, K Nearest Neighbours and XGBoost using Random Search method."
   ]
  },
  {
   "cell_type": "markdown",
   "metadata": {},
   "source": [
    "## Table of contents\n",
    "* [Libraries & packages](#lib)\n",
    "* [Datasets](#data)\n",
    "* [Preprocessing and models](#pr)\n",
    "* [Crossvalidation with default hyperparameters](#def)\n",
    "* [Random Search](#rs)\n",
    "* [Bayes Search](#bs)\n"
   ]
  },
  {
   "cell_type": "markdown",
   "metadata": {},
   "source": [
    "## **Libraries & packages** <a class=\"anchor\" id=\"lib\"></a>"
   ]
  },
  {
   "cell_type": "code",
   "execution_count": null,
   "metadata": {},
   "outputs": [],
   "source": [
    "# %pip install scikit-learn\n",
    "# %pip install pandas\n",
    "# %pip install xgboost\n",
    "# %pip install scikit-optimize"
   ]
  },
  {
   "cell_type": "code",
   "execution_count": 1,
   "metadata": {},
   "outputs": [],
   "source": [
    "# data load\n",
    "from sklearn.datasets import fetch_openml\n",
    "# read data\n",
    "import numpy as np\n",
    "import pandas as pd\n",
    "#stats\n",
    "from scipy.stats import loguniform\n",
    "# get subset of data\n",
    "from sklearn.model_selection import train_test_split"
   ]
  },
  {
   "cell_type": "code",
   "execution_count": 2,
   "metadata": {},
   "outputs": [],
   "source": [
    "# pipeline and preprocessing\n",
    "from sklearn.pipeline import Pipeline\n",
    "from sklearn.preprocessing import StandardScaler, OneHotEncoder\n",
    "from sklearn.impute import SimpleImputer\n",
    "from sklearn.compose import ColumnTransformer, make_column_selector\n",
    "# label encoding\n",
    "from sklearn.preprocessing import LabelEncoder\n",
    "# models\n",
    "from xgboost import XGBClassifier\n",
    "from sklearn.linear_model import LogisticRegression\n",
    "from sklearn.neighbors import KNeighborsClassifier\n",
    "# cv\n",
    "from sklearn.model_selection import cross_validate\n",
    "# stats\n",
    "from scipy.stats import uniform, expon, randint\n",
    "# search \n",
    "from sklearn.model_selection import RandomizedSearchCV\n",
    "from skopt import BayesSearchCV\n",
    "from skopt.space import Real, Categorical, Integer"
   ]
  },
  {
   "cell_type": "code",
   "execution_count": 3,
   "metadata": {},
   "outputs": [],
   "source": [
    "import warnings\n",
    "from sklearn.exceptions import ConvergenceWarning\n",
    "warnings.filterwarnings('ignore', category=ConvergenceWarning)"
   ]
  },
  {
   "cell_type": "markdown",
   "metadata": {},
   "source": [
    "## **Data** <a class=\"anchor\" id=\"data\"></a>"
   ]
  },
  {
   "cell_type": "code",
   "execution_count": 4,
   "metadata": {},
   "outputs": [],
   "source": [
    "def load_data(dataset, version=1):\n",
    "    data = fetch_openml(name=dataset, as_frame=False, parser='liac-arff', version=version)\n",
    "    X = pd.DataFrame(data.data)\n",
    "    y = data.target\n",
    "    return X, y"
   ]
  },
  {
   "cell_type": "code",
   "execution_count": 5,
   "metadata": {},
   "outputs": [],
   "source": [
    "def split_and_transform(X, y):\n",
    "    # we select random 5000 rows but we preserve the class distribution\n",
    "    # from  dataset to meet our initial constraints \n",
    "    if X.shape[0] > 5000:\n",
    "        X, _, y, _ = train_test_split(X, y, train_size=5000, stratify=y, random_state=0)\n",
    "    X = pd.DataFrame(X)\n",
    "    return X, y"
   ]
  },
  {
   "cell_type": "markdown",
   "metadata": {},
   "source": [
    "Here we create global variable  \n",
    "__DATASETS__=[('dataset_1_name', dataset_1_X, dataset_1_y), (dataset_2_name', dataset_2_X, dataset_2_y), ...].  \n",
    "\n",
    "After loading data, the sets will ba added to the variable."
   ]
  },
  {
   "cell_type": "code",
   "execution_count": 6,
   "metadata": {},
   "outputs": [],
   "source": [
    "DATASETS = []"
   ]
  },
  {
   "cell_type": "markdown",
   "metadata": {},
   "source": [
    "### 1. **Mushroom**"
   ]
  },
  {
   "cell_type": "code",
   "execution_count": 7,
   "metadata": {},
   "outputs": [],
   "source": [
    "mushroom_X, mushroom_y = load_data('mushroom')\n",
    "mushroom_X, mushroom_y = split_and_transform(mushroom_X, mushroom_y)\n",
    "DATASETS.append(('mushroom', mushroom_X, mushroom_y))"
   ]
  },
  {
   "cell_type": "markdown",
   "metadata": {},
   "source": [
    "### 2. **Ozone level**"
   ]
  },
  {
   "cell_type": "code",
   "execution_count": 8,
   "metadata": {},
   "outputs": [],
   "source": [
    "ozone_X, ozone_y = load_data('ozone-level-8hr')\n",
    "ozone_X, ozone_y = split_and_transform(ozone_X, ozone_y)\n",
    "DATASETS.append(('ozone', ozone_X, ozone_y))"
   ]
  },
  {
   "cell_type": "markdown",
   "metadata": {},
   "source": [
    "### 3. **kc1**"
   ]
  },
  {
   "cell_type": "code",
   "execution_count": 9,
   "metadata": {},
   "outputs": [],
   "source": [
    "kc1_X, kc1_y = load_data('kc1')\n",
    "kc1_X, kc1_y = split_and_transform(kc1_X, kc1_y)\n",
    "DATASETS.append(('kc1', kc1_X, kc1_y))"
   ]
  },
  {
   "cell_type": "markdown",
   "metadata": {},
   "source": [
    "### 4. **MagicTelescope**"
   ]
  },
  {
   "cell_type": "code",
   "execution_count": 10,
   "metadata": {},
   "outputs": [],
   "source": [
    "magic_X, magic_y = load_data('MagicTelescope')\n",
    "magic_X, magic_y = split_and_transform(magic_X, magic_y)\n",
    "DATASETS.append(('magic', magic_X, magic_y))"
   ]
  },
  {
   "cell_type": "markdown",
   "metadata": {},
   "source": [
    "### 5. **higgs**"
   ]
  },
  {
   "cell_type": "code",
   "execution_count": 11,
   "metadata": {},
   "outputs": [],
   "source": [
    "higgs_X, higgs_y = load_data('higgs', version=2)\n",
    "higgs_X, higgs_y = split_and_transform(higgs_X, higgs_y)\n",
    "DATASETS.append(('higgs', higgs_X, higgs_y))"
   ]
  },
  {
   "cell_type": "markdown",
   "metadata": {},
   "source": [
    "Finally, we encode all of the labels in y vector."
   ]
  },
  {
   "cell_type": "code",
   "execution_count": 12,
   "metadata": {},
   "outputs": [],
   "source": [
    "# Encode target variables in DATASETS\n",
    "for i, (name, X, y) in enumerate(DATASETS):\n",
    "    le = LabelEncoder()\n",
    "    y_encoded = le.fit_transform(y)\n",
    "    DATASETS[i] = (name, X, y_encoded)"
   ]
  },
  {
   "cell_type": "code",
   "execution_count": 25,
   "metadata": {},
   "outputs": [
    {
     "data": {
      "image/png": "[encoded data removed]",
      "text/plain": [
       "<Figure size 1800x800 with 5 Axes>"
      ]
     },
     "metadata": {},
     "output_type": "display_data"
    }
   ],
   "source": [
    "# distribution of classes on plot\n",
    "import matplotlib.pyplot as plt\n",
    "import seaborn as sns\n",
    "\n",
    "fig, axes = plt.subplots(2, 3, figsize=(18, 8))\n",
    "axes = axes.flatten()\n",
    "\n",
    "for i, (dataset_name, X, y) in enumerate(DATASETS):\n",
    "    ax = axes[i]\n",
    "    \n",
    "    colors = ['#FFBF61', '#605678']\n",
    "    sns.countplot(x=y, ax=ax, palette=colors, hue=y)\n",
    "    ax.set_title(f'Class distribution for {dataset_name.capitalize()} Dataset')\n",
    "\n",
    "for j in range(i + 1, len(axes)):\n",
    "    fig.delaxes(axes[j])\n",
    "\n",
    "fig.suptitle(f'Class Distribution', fontsize='x-large', y=0.99)\n",
    "plt.tight_layout()\n",
    "plt.savefig('../plots/class_distribution.png', transparent=True)\n",
    "plt.show()\n"
   ]
  },
  {
   "cell_type": "markdown",
   "metadata": {},
   "source": [
    "## **Preprocessing and models**  <a class=\"anchor\" id=\"pr\"></a>\n",
    "In this paragraph, we create general pipeline for all possible cases and then use it for specific models."
   ]
  },
  {
   "cell_type": "code",
   "execution_count": 13,
   "metadata": {},
   "outputs": [],
   "source": [
    "# for NAs handling we impute median for numeric values and most frequent for categorical ones\n",
    "num_pipe = Pipeline(steps=[\n",
    "    ('num_impute', SimpleImputer(strategy='median')),\n",
    "    ('scale', StandardScaler())\n",
    "])\n",
    "\n",
    "cat_pipe = Pipeline(steps=[\n",
    "    ('cat_impute', SimpleImputer(strategy='most_frequent')),\n",
    "    ('encoding', OneHotEncoder(handle_unknown='ignore', sparse_output=False))\n",
    "])\n",
    "\n",
    "col_transformer = ColumnTransformer(transformers=[\n",
    "    ('num', num_pipe, make_column_selector(dtype_include=np.number)),\n",
    "    ('non_num', cat_pipe, make_column_selector(dtype_include=np.object_))\n",
    "], remainder='drop', n_jobs=-1)"
   ]
  },
  {
   "cell_type": "markdown",
   "metadata": {},
   "source": [
    "Now we generate three pipelines with models."
   ]
  },
  {
   "cell_type": "code",
   "execution_count": 14,
   "metadata": {},
   "outputs": [],
   "source": [
    "xgb_pipe = Pipeline(steps=[\n",
    "    ('preprocessing', col_transformer),\n",
    "    ('xgb', XGBClassifier())\n",
    "])\n",
    "\n",
    "logreg_pipe = Pipeline(steps=[\n",
    "    ('preprocessing', col_transformer),\n",
    "    ('logreg', LogisticRegression())\n",
    "])\n",
    "\n",
    "knn_pipe = Pipeline(steps=[\n",
    "    ('preprocessing', col_transformer),\n",
    "    ('knn', KNeighborsClassifier())\n",
    "])"
   ]
  },
  {
   "cell_type": "markdown",
   "metadata": {},
   "source": [
    "Finally, we create global variable PIPES including all the pipelines and model names.  \n",
    "__PIPES__ = [('xgb', xgb_pipe), ...]"
   ]
  },
  {
   "cell_type": "code",
   "execution_count": 15,
   "metadata": {},
   "outputs": [],
   "source": [
    "PIPES = [('xgb', xgb_pipe), ('logreg', logreg_pipe), ('knn', knn_pipe)]"
   ]
  },
  {
   "cell_type": "markdown",
   "metadata": {},
   "source": [
    "## **Crossvalidation with default hyperparameters**  <a class=\"anchor\" id=\"def\"></a>"
   ]
  },
  {
   "cell_type": "code",
   "execution_count": 16,
   "metadata": {},
   "outputs": [],
   "source": [
    "def default_hyperparaeter_cv(DATASETS, PIPES):\n",
    "    ''' \n",
    "    This function returns cross validation results on models with default hyperparameters and saves them to proper file.\n",
    "    '''\n",
    "    results = []\n",
    "    for dataset_name, X, y in DATASETS:\n",
    "        for pipe_name, pipe in PIPES:\n",
    "            cv_results = cross_validate(pipe, X, y, cv=5, n_jobs=-1, return_train_score=True)\n",
    "            cv_results['dataset'] = dataset_name\n",
    "            cv_results['model'] = pipe_name\n",
    "            results.append(cv_results)\n",
    "    np.save('../results/default_hyperparameter.npy', results)\n"
   ]
  },
  {
   "cell_type": "code",
   "execution_count": 17,
   "metadata": {},
   "outputs": [],
   "source": [
    "default_hyperparaeter_cv(DATASETS, PIPES)"
   ]
  },
  {
   "cell_type": "markdown",
   "metadata": {},
   "source": [
    "## **Random Search**  <a class=\"anchor\" id=\"rs\"></a>\n",
    "Here, we perform hyperparameter tuning on all datasets, using Random Search method.  \n",
    "\n",
    "Firstly, let's define the hyperparameters grids.  "
   ]
  },
  {
   "cell_type": "markdown",
   "metadata": {},
   "source": [
    "For Random Search purposes, we define **MODEL_PARAMS_R** grids."
   ]
  },
  {
   "cell_type": "code",
   "execution_count": 18,
   "metadata": {},
   "outputs": [],
   "source": [
    "XGB_PARAMS_RAND = {\n",
    "    'xgb__n_estimators': randint(100, 1000), \n",
    "    'xgb__learning_rate': uniform(0.01, 1),\n",
    "    'xgb__reg_alpha': loguniform(2**-10, 2**10),\n",
    "    'xgb__reg_lambda': loguniform(2**-10, 2**10),\n",
    "    'xgb__min_child_weight': randint(1, 100),\n",
    "}\n",
    "\n",
    "LOG_REG_PARAMS_RAND = {\n",
    "    'logreg__C': loguniform(2**-10, 2**10),\n",
    "    'logreg__max_iter': randint(7000, 8000), # to avoid ConvergenceWarning\n",
    "    'logreg__penalty': ['l1', 'l2'],\n",
    "    'logreg__solver': ['liblinear', 'saga'],\n",
    "    'logreg__fit_intercept': [True, False]\n",
    "}\n",
    "\n",
    "KNN_PARAMS_RAND = {\n",
    "    'knn__n_neighbors': randint(1, 100),\n",
    "    'knn__weights': ['uniform', 'distance'],\n",
    "    'knn__metric': ['euclidean', 'manhattan', 'minkowski']\n",
    "}"
   ]
  },
  {
   "cell_type": "markdown",
   "metadata": {},
   "source": [
    "The function for running hyperparameter tuning on *all* datasets and *all* models."
   ]
  },
  {
   "cell_type": "code",
   "execution_count": 19,
   "metadata": {},
   "outputs": [],
   "source": [
    "def random_search_tuning(DATASETS, PIPES):\n",
    "    ''' \n",
    "    This function performs RandomizedSearchCV search tuning on models and saves results to proper files.\n",
    "    '''\n",
    "    results = []\n",
    "    for dataset_name, X, y in DATASETS:\n",
    "        for pipe_name, pipe in PIPES:\n",
    "            if pipe_name == 'xgb':\n",
    "                search = RandomizedSearchCV(pipe, XGB_PARAMS_RAND, n_iter=100, cv=5, n_jobs=-1, scoring='accuracy', random_state=2137, error_score='raise')\n",
    "            elif pipe_name == 'logreg':\n",
    "                search = RandomizedSearchCV(pipe, LOG_REG_PARAMS_RAND, n_iter=100, cv=5, n_jobs=-1, scoring='accuracy', random_state=2137)\n",
    "            elif pipe_name == 'knn':\n",
    "                search = RandomizedSearchCV(pipe, KNN_PARAMS_RAND, n_iter=100, cv=5, n_jobs=-1, scoring='accuracy', random_state=2137, error_score='raise')\n",
    "            search.fit(X, y)\n",
    "            # save results and dataset_name and model_name\n",
    "            search.cv_results_['dataset'] = dataset_name\n",
    "            search.cv_results_['model'] = pipe_name\n",
    "            results.append(search.cv_results_)\n",
    "            print(f'Random search on dataset: {dataset_name}, model: {pipe_name}, status: done')\n",
    "    np.save('../results/random_search_tuning.npy', results)\n",
    "    print('Random search tuning done, results saved to file.')"
   ]
  },
  {
   "cell_type": "code",
   "execution_count": 20,
   "metadata": {},
   "outputs": [],
   "source": [
    "# for testing & debugging purposes\n",
    "# est. time 24 sec\n",
    "\n",
    "# dataset_test = [('mushroom', DATASETS[0][1], DATASETS[0][2])]\n",
    "# random_search_tuning(dataset_test, PIPES)"
   ]
  },
  {
   "cell_type": "markdown",
   "metadata": {},
   "source": [
    "Our final calculations:"
   ]
  },
  {
   "cell_type": "code",
   "execution_count": 20,
   "metadata": {},
   "outputs": [
    {
     "name": "stdout",
     "output_type": "stream",
     "text": [
      "Random search on dataset: mushroom, model: xgb, status: done\n",
      "Random search on dataset: mushroom, model: logreg, status: done\n",
      "Random search on dataset: mushroom, model: knn, status: done\n",
      "Random search on dataset: ozone, model: xgb, status: done\n",
      "Random search on dataset: ozone, model: logreg, status: done\n",
      "Random search on dataset: ozone, model: knn, status: done\n",
      "Random search on dataset: kc1, model: xgb, status: done\n",
      "Random search on dataset: kc1, model: logreg, status: done\n",
      "Random search on dataset: kc1, model: knn, status: done\n",
      "Random search on dataset: magic, model: xgb, status: done\n",
      "Random search on dataset: magic, model: logreg, status: done\n",
      "Random search on dataset: magic, model: knn, status: done\n",
      "Random search on dataset: higgs, model: xgb, status: done\n",
      "Random search on dataset: higgs, model: logreg, status: done\n",
      "Random search on dataset: higgs, model: knn, status: done\n",
      "Random search tuning done, results saved to file.\n"
     ]
    }
   ],
   "source": [
    "random_search_tuning(DATASETS, PIPES)"
   ]
  },
  {
   "cell_type": "markdown",
   "metadata": {},
   "source": [
    "We present a sample element of our results file - the very last calculations results:  \n",
    "- model: **KNN**,\n",
    "- dataset: **higgs**."
   ]
  },
  {
   "cell_type": "code",
   "execution_count": 21,
   "metadata": {},
   "outputs": [
    {
     "data": {
      "text/html": [
       "<div>\n",
       "<style scoped>\n",
       "    .dataframe tbody tr th:only-of-type {\n",
       "        vertical-align: middle;\n",
       "    }\n",
       "\n",
       "    .dataframe tbody tr th {\n",
       "        vertical-align: top;\n",
       "    }\n",
       "\n",
       "    .dataframe thead th {\n",
       "        text-align: right;\n",
       "    }\n",
       "</style>\n",
       "<table border=\"1\" class=\"dataframe\">\n",
       "  <thead>\n",
       "    <tr style=\"text-align: right;\">\n",
       "      <th></th>\n",
       "      <th>mean_fit_time</th>\n",
       "      <th>std_fit_time</th>\n",
       "      <th>mean_score_time</th>\n",
       "      <th>std_score_time</th>\n",
       "      <th>param_knn__metric</th>\n",
       "      <th>param_knn__n_neighbors</th>\n",
       "      <th>param_knn__weights</th>\n",
       "      <th>params</th>\n",
       "      <th>split0_test_score</th>\n",
       "      <th>split1_test_score</th>\n",
       "      <th>split2_test_score</th>\n",
       "      <th>split3_test_score</th>\n",
       "      <th>split4_test_score</th>\n",
       "      <th>mean_test_score</th>\n",
       "      <th>std_test_score</th>\n",
       "      <th>rank_test_score</th>\n",
       "      <th>dataset</th>\n",
       "      <th>model</th>\n",
       "    </tr>\n",
       "  </thead>\n",
       "  <tbody>\n",
       "    <tr>\n",
       "      <th>0</th>\n",
       "      <td>0.014776</td>\n",
       "      <td>0.001022</td>\n",
       "      <td>0.039786</td>\n",
       "      <td>0.003467</td>\n",
       "      <td>euclidean</td>\n",
       "      <td>22</td>\n",
       "      <td>uniform</td>\n",
       "      <td>{'knn__metric': 'euclidean', 'knn__n_neighbors...</td>\n",
       "      <td>0.594</td>\n",
       "      <td>0.589</td>\n",
       "      <td>0.570</td>\n",
       "      <td>0.590</td>\n",
       "      <td>0.594</td>\n",
       "      <td>0.5874</td>\n",
       "      <td>0.008935</td>\n",
       "      <td>94</td>\n",
       "      <td>higgs</td>\n",
       "      <td>knn</td>\n",
       "    </tr>\n",
       "    <tr>\n",
       "      <th>1</th>\n",
       "      <td>0.016265</td>\n",
       "      <td>0.000851</td>\n",
       "      <td>0.043003</td>\n",
       "      <td>0.001974</td>\n",
       "      <td>euclidean</td>\n",
       "      <td>46</td>\n",
       "      <td>uniform</td>\n",
       "      <td>{'knn__metric': 'euclidean', 'knn__n_neighbors...</td>\n",
       "      <td>0.607</td>\n",
       "      <td>0.599</td>\n",
       "      <td>0.595</td>\n",
       "      <td>0.608</td>\n",
       "      <td>0.616</td>\n",
       "      <td>0.6050</td>\n",
       "      <td>0.007348</td>\n",
       "      <td>64</td>\n",
       "      <td>higgs</td>\n",
       "      <td>knn</td>\n",
       "    </tr>\n",
       "    <tr>\n",
       "      <th>2</th>\n",
       "      <td>0.016141</td>\n",
       "      <td>0.002096</td>\n",
       "      <td>0.035466</td>\n",
       "      <td>0.001399</td>\n",
       "      <td>euclidean</td>\n",
       "      <td>52</td>\n",
       "      <td>distance</td>\n",
       "      <td>{'knn__metric': 'euclidean', 'knn__n_neighbors...</td>\n",
       "      <td>0.612</td>\n",
       "      <td>0.601</td>\n",
       "      <td>0.592</td>\n",
       "      <td>0.601</td>\n",
       "      <td>0.609</td>\n",
       "      <td>0.6030</td>\n",
       "      <td>0.007014</td>\n",
       "      <td>72</td>\n",
       "      <td>higgs</td>\n",
       "      <td>knn</td>\n",
       "    </tr>\n",
       "    <tr>\n",
       "      <th>3</th>\n",
       "      <td>0.019191</td>\n",
       "      <td>0.004771</td>\n",
       "      <td>0.080704</td>\n",
       "      <td>0.005264</td>\n",
       "      <td>manhattan</td>\n",
       "      <td>54</td>\n",
       "      <td>uniform</td>\n",
       "      <td>{'knn__metric': 'manhattan', 'knn__n_neighbors...</td>\n",
       "      <td>0.622</td>\n",
       "      <td>0.632</td>\n",
       "      <td>0.625</td>\n",
       "      <td>0.653</td>\n",
       "      <td>0.633</td>\n",
       "      <td>0.6330</td>\n",
       "      <td>0.010826</td>\n",
       "      <td>17</td>\n",
       "      <td>higgs</td>\n",
       "      <td>knn</td>\n",
       "    </tr>\n",
       "    <tr>\n",
       "      <th>4</th>\n",
       "      <td>0.016056</td>\n",
       "      <td>0.001005</td>\n",
       "      <td>0.031455</td>\n",
       "      <td>0.003526</td>\n",
       "      <td>minkowski</td>\n",
       "      <td>35</td>\n",
       "      <td>distance</td>\n",
       "      <td>{'knn__metric': 'minkowski', 'knn__n_neighbors...</td>\n",
       "      <td>0.605</td>\n",
       "      <td>0.599</td>\n",
       "      <td>0.581</td>\n",
       "      <td>0.609</td>\n",
       "      <td>0.594</td>\n",
       "      <td>0.5976</td>\n",
       "      <td>0.009749</td>\n",
       "      <td>79</td>\n",
       "      <td>higgs</td>\n",
       "      <td>knn</td>\n",
       "    </tr>\n",
       "  </tbody>\n",
       "</table>\n",
       "</div>"
      ],
      "text/plain": [
       "   mean_fit_time  std_fit_time  mean_score_time  std_score_time  \\\n",
       "0       0.014776      0.001022         0.039786        0.003467   \n",
       "1       0.016265      0.000851         0.043003        0.001974   \n",
       "2       0.016141      0.002096         0.035466        0.001399   \n",
       "3       0.019191      0.004771         0.080704        0.005264   \n",
       "4       0.016056      0.001005         0.031455        0.003526   \n",
       "\n",
       "  param_knn__metric  param_knn__n_neighbors param_knn__weights  \\\n",
       "0         euclidean                      22            uniform   \n",
       "1         euclidean                      46            uniform   \n",
       "2         euclidean                      52           distance   \n",
       "3         manhattan                      54            uniform   \n",
       "4         minkowski                      35           distance   \n",
       "\n",
       "                                              params  split0_test_score  \\\n",
       "0  {'knn__metric': 'euclidean', 'knn__n_neighbors...              0.594   \n",
       "1  {'knn__metric': 'euclidean', 'knn__n_neighbors...              0.607   \n",
       "2  {'knn__metric': 'euclidean', 'knn__n_neighbors...              0.612   \n",
       "3  {'knn__metric': 'manhattan', 'knn__n_neighbors...              0.622   \n",
       "4  {'knn__metric': 'minkowski', 'knn__n_neighbors...              0.605   \n",
       "\n",
       "   split1_test_score  split2_test_score  split3_test_score  split4_test_score  \\\n",
       "0              0.589              0.570              0.590              0.594   \n",
       "1              0.599              0.595              0.608              0.616   \n",
       "2              0.601              0.592              0.601              0.609   \n",
       "3              0.632              0.625              0.653              0.633   \n",
       "4              0.599              0.581              0.609              0.594   \n",
       "\n",
       "   mean_test_score  std_test_score  rank_test_score dataset model  \n",
       "0           0.5874        0.008935               94   higgs   knn  \n",
       "1           0.6050        0.007348               64   higgs   knn  \n",
       "2           0.6030        0.007014               72   higgs   knn  \n",
       "3           0.6330        0.010826               17   higgs   knn  \n",
       "4           0.5976        0.009749               79   higgs   knn  "
      ]
     },
     "execution_count": 21,
     "metadata": {},
     "output_type": "execute_result"
    }
   ],
   "source": [
    "results = np.load('../results/random_search_tuning.npy', allow_pickle=True)\n",
    "pd.DataFrame(results[14]).head()"
   ]
  },
  {
   "cell_type": "markdown",
   "metadata": {},
   "source": [
    "## **Bayes Search**  <a class=\"anchor\" id=\"bs\"></a>\n",
    "Here, we perform hyperparameter tuning on all datasets, using Bayes Search method.  "
   ]
  },
  {
   "cell_type": "code",
   "execution_count": 23,
   "metadata": {},
   "outputs": [],
   "source": [
    "from skopt import BayesSearchCV\n",
    "from skopt.space import Real, Integer, Categorical"
   ]
  },
  {
   "cell_type": "code",
   "execution_count": 22,
   "metadata": {},
   "outputs": [],
   "source": [
    "\n",
    "XGB_PARAMS_BAYES = {\n",
    "    'xgb__n_estimators': Integer(100, 1000, prior='uniform', transform='identity'),\n",
    "    'xgb__learning_rate': Real(0.01, 1, prior='uniform', transform='identity'),\n",
    "    'xgb__reg_alpha': Real(2**-10, 2*10, prior='log-uniform', transform='identity'),\n",
    "    'xgb__reg_lambda': Real(2**-10, 2**10, prior='log-uniform', transform='identity'),\n",
    "    'xgb__min_child_weight': Integer(1, 100, prior='uniform', transform='identity')\n",
    "}\n",
    "\n",
    "LOG_REG_PARAMS_BAYES = {\n",
    "    'logreg__C': Real(2**-10, 2**10, prior='log-uniform', transform='identity'),\n",
    "    'logreg__max_iter': Integer(7000, 8000, prior='uniform', transform='identity'),\n",
    "    'logreg__penalty': Categorical(['l1', 'l2']),\n",
    "    'logreg__solver': Categorical(['liblinear', 'saga']),\n",
    "    'logreg__fit_intercept': Categorical([True, False])\n",
    "}\n",
    "\n",
    "KNN_PARAMS_BAYES = {\n",
    "    'knn__n_neighbors': Integer(1, 100, prior='uniform', transform='identity'),\n",
    "    'knn__weights': Categorical(['uniform', 'distance']),\n",
    "    'knn__metric': Categorical(['euclidean', 'manhattan', 'minkowski'])\n",
    "}"
   ]
  },
  {
   "cell_type": "code",
   "execution_count": 23,
   "metadata": {},
   "outputs": [],
   "source": [
    "def bayes_optimization_tuning(DATASETS, PIPES):\n",
    "    ''' \n",
    "    This function performs BayesSearchCV on models and saves results to proper files.\n",
    "    '''\n",
    "    results = []\n",
    "    for dataset_name, X, y in DATASETS:\n",
    "        for pipe_name, pipe in PIPES:\n",
    "            if pipe_name == 'xgb':\n",
    "                search = BayesSearchCV(pipe, XGB_PARAMS_BAYES, n_iter=60, cv=5, n_jobs=-1, scoring='roc_auc', random_state=2137, error_score='raise')\n",
    "            elif pipe_name == 'logreg':\n",
    "                search = BayesSearchCV(pipe, LOG_REG_PARAMS_BAYES, n_iter=60, cv=5, n_jobs=-1, scoring='roc_auc', random_state=2137, error_score='raise')\n",
    "            elif pipe_name == 'knn':\n",
    "                search = BayesSearchCV(pipe, KNN_PARAMS_BAYES, n_iter=60, cv=5, n_jobs=-1, scoring='roc_auc', random_state=2137, error_score='raise')\n",
    "            search.fit(X, y)\n",
    "            # save results and dataset_name and model_name\n",
    "            search.cv_results_['dataset'] = dataset_name\n",
    "            search.cv_results_['model'] = pipe_name\n",
    "            results.append(search.cv_results_)\n",
    "            print(f'Bayes search on dataset: {dataset_name}, model: {pipe_name}, status: done')\n",
    "    np.save('../results/bayes_search_tuning.npy', results)\n",
    "    print('Bayes optimization done, results saved to file.')"
   ]
  },
  {
   "cell_type": "code",
   "execution_count": 24,
   "metadata": {},
   "outputs": [
    {
     "name": "stdout",
     "output_type": "stream",
     "text": [
      "Bayes search on dataset: mushroom, model: xgb, status: done\n",
      "Bayes search on dataset: mushroom, model: logreg, status: done\n",
      "Bayes search on dataset: mushroom, model: knn, status: done\n",
      "Bayes search on dataset: ozone, model: xgb, status: done\n",
      "Bayes search on dataset: ozone, model: logreg, status: done\n",
      "Bayes search on dataset: ozone, model: knn, status: done\n",
      "Bayes search on dataset: kc1, model: xgb, status: done\n",
      "Bayes search on dataset: kc1, model: logreg, status: done\n",
      "Bayes search on dataset: kc1, model: knn, status: done\n",
      "Bayes search on dataset: magic, model: xgb, status: done\n",
      "Bayes search on dataset: magic, model: logreg, status: done\n",
      "Bayes search on dataset: magic, model: knn, status: done\n",
      "Bayes search on dataset: higgs, model: xgb, status: done\n",
      "Bayes search on dataset: higgs, model: logreg, status: done\n",
      "Bayes search on dataset: higgs, model: knn, status: done\n",
      "Bayes optimization done, results saved to file.\n"
     ]
    }
   ],
   "source": [
    "bayes_optimization_tuning(DATASETS, PIPES)"
   ]
  },
  {
   "cell_type": "markdown",
   "metadata": {},
   "source": [
    "Sample element of our results file - the very last calculations results:  \n",
    "- model: **KNN**,\n",
    "- dataset: **higgs**."
   ]
  },
  {
   "cell_type": "code",
   "execution_count": 25,
   "metadata": {},
   "outputs": [
    {
     "data": {
      "text/html": [
       "<div>\n",
       "<style scoped>\n",
       "    .dataframe tbody tr th:only-of-type {\n",
       "        vertical-align: middle;\n",
       "    }\n",
       "\n",
       "    .dataframe tbody tr th {\n",
       "        vertical-align: top;\n",
       "    }\n",
       "\n",
       "    .dataframe thead th {\n",
       "        text-align: right;\n",
       "    }\n",
       "</style>\n",
       "<table border=\"1\" class=\"dataframe\">\n",
       "  <thead>\n",
       "    <tr style=\"text-align: right;\">\n",
       "      <th></th>\n",
       "      <th>mean_fit_time</th>\n",
       "      <th>std_fit_time</th>\n",
       "      <th>mean_score_time</th>\n",
       "      <th>std_score_time</th>\n",
       "      <th>param_knn__metric</th>\n",
       "      <th>param_knn__n_neighbors</th>\n",
       "      <th>param_knn__weights</th>\n",
       "      <th>params</th>\n",
       "      <th>split0_test_score</th>\n",
       "      <th>split1_test_score</th>\n",
       "      <th>split2_test_score</th>\n",
       "      <th>split3_test_score</th>\n",
       "      <th>split4_test_score</th>\n",
       "      <th>mean_test_score</th>\n",
       "      <th>std_test_score</th>\n",
       "      <th>rank_test_score</th>\n",
       "      <th>dataset</th>\n",
       "      <th>model</th>\n",
       "    </tr>\n",
       "  </thead>\n",
       "  <tbody>\n",
       "    <tr>\n",
       "      <th>0</th>\n",
       "      <td>0.014823</td>\n",
       "      <td>0.000882</td>\n",
       "      <td>0.032256</td>\n",
       "      <td>0.000355</td>\n",
       "      <td>euclidean</td>\n",
       "      <td>55</td>\n",
       "      <td>uniform</td>\n",
       "      <td>{'knn__metric': 'euclidean', 'knn__n_neighbors...</td>\n",
       "      <td>0.653743</td>\n",
       "      <td>0.633415</td>\n",
       "      <td>0.618519</td>\n",
       "      <td>0.646851</td>\n",
       "      <td>0.659526</td>\n",
       "      <td>0.642411</td>\n",
       "      <td>0.014784</td>\n",
       "      <td>50</td>\n",
       "      <td>higgs</td>\n",
       "      <td>knn</td>\n",
       "    </tr>\n",
       "    <tr>\n",
       "      <th>1</th>\n",
       "      <td>0.014321</td>\n",
       "      <td>0.000735</td>\n",
       "      <td>0.069007</td>\n",
       "      <td>0.004207</td>\n",
       "      <td>manhattan</td>\n",
       "      <td>43</td>\n",
       "      <td>distance</td>\n",
       "      <td>{'knn__metric': 'manhattan', 'knn__n_neighbors...</td>\n",
       "      <td>0.695584</td>\n",
       "      <td>0.671114</td>\n",
       "      <td>0.667730</td>\n",
       "      <td>0.691573</td>\n",
       "      <td>0.701400</td>\n",
       "      <td>0.685480</td>\n",
       "      <td>0.013521</td>\n",
       "      <td>19</td>\n",
       "      <td>higgs</td>\n",
       "      <td>knn</td>\n",
       "    </tr>\n",
       "    <tr>\n",
       "      <th>2</th>\n",
       "      <td>0.014231</td>\n",
       "      <td>0.000591</td>\n",
       "      <td>0.039709</td>\n",
       "      <td>0.001324</td>\n",
       "      <td>euclidean</td>\n",
       "      <td>82</td>\n",
       "      <td>distance</td>\n",
       "      <td>{'knn__metric': 'euclidean', 'knn__n_neighbors...</td>\n",
       "      <td>0.657793</td>\n",
       "      <td>0.637890</td>\n",
       "      <td>0.636517</td>\n",
       "      <td>0.658738</td>\n",
       "      <td>0.668051</td>\n",
       "      <td>0.651798</td>\n",
       "      <td>0.012451</td>\n",
       "      <td>40</td>\n",
       "      <td>higgs</td>\n",
       "      <td>knn</td>\n",
       "    </tr>\n",
       "    <tr>\n",
       "      <th>3</th>\n",
       "      <td>0.014092</td>\n",
       "      <td>0.000734</td>\n",
       "      <td>0.029545</td>\n",
       "      <td>0.000272</td>\n",
       "      <td>euclidean</td>\n",
       "      <td>37</td>\n",
       "      <td>uniform</td>\n",
       "      <td>{'knn__metric': 'euclidean', 'knn__n_neighbors...</td>\n",
       "      <td>0.651120</td>\n",
       "      <td>0.628693</td>\n",
       "      <td>0.607965</td>\n",
       "      <td>0.647657</td>\n",
       "      <td>0.655106</td>\n",
       "      <td>0.638108</td>\n",
       "      <td>0.017588</td>\n",
       "      <td>51</td>\n",
       "      <td>higgs</td>\n",
       "      <td>knn</td>\n",
       "    </tr>\n",
       "    <tr>\n",
       "      <th>4</th>\n",
       "      <td>0.014138</td>\n",
       "      <td>0.000967</td>\n",
       "      <td>0.054536</td>\n",
       "      <td>0.002375</td>\n",
       "      <td>manhattan</td>\n",
       "      <td>7</td>\n",
       "      <td>uniform</td>\n",
       "      <td>{'knn__metric': 'manhattan', 'knn__n_neighbors...</td>\n",
       "      <td>0.654700</td>\n",
       "      <td>0.633959</td>\n",
       "      <td>0.618844</td>\n",
       "      <td>0.653826</td>\n",
       "      <td>0.628952</td>\n",
       "      <td>0.638056</td>\n",
       "      <td>0.014103</td>\n",
       "      <td>52</td>\n",
       "      <td>higgs</td>\n",
       "      <td>knn</td>\n",
       "    </tr>\n",
       "  </tbody>\n",
       "</table>\n",
       "</div>"
      ],
      "text/plain": [
       "   mean_fit_time  std_fit_time  mean_score_time  std_score_time  \\\n",
       "0       0.014823      0.000882         0.032256        0.000355   \n",
       "1       0.014321      0.000735         0.069007        0.004207   \n",
       "2       0.014231      0.000591         0.039709        0.001324   \n",
       "3       0.014092      0.000734         0.029545        0.000272   \n",
       "4       0.014138      0.000967         0.054536        0.002375   \n",
       "\n",
       "  param_knn__metric  param_knn__n_neighbors param_knn__weights  \\\n",
       "0         euclidean                      55            uniform   \n",
       "1         manhattan                      43           distance   \n",
       "2         euclidean                      82           distance   \n",
       "3         euclidean                      37            uniform   \n",
       "4         manhattan                       7            uniform   \n",
       "\n",
       "                                              params  split0_test_score  \\\n",
       "0  {'knn__metric': 'euclidean', 'knn__n_neighbors...           0.653743   \n",
       "1  {'knn__metric': 'manhattan', 'knn__n_neighbors...           0.695584   \n",
       "2  {'knn__metric': 'euclidean', 'knn__n_neighbors...           0.657793   \n",
       "3  {'knn__metric': 'euclidean', 'knn__n_neighbors...           0.651120   \n",
       "4  {'knn__metric': 'manhattan', 'knn__n_neighbors...           0.654700   \n",
       "\n",
       "   split1_test_score  split2_test_score  split3_test_score  split4_test_score  \\\n",
       "0           0.633415           0.618519           0.646851           0.659526   \n",
       "1           0.671114           0.667730           0.691573           0.701400   \n",
       "2           0.637890           0.636517           0.658738           0.668051   \n",
       "3           0.628693           0.607965           0.647657           0.655106   \n",
       "4           0.633959           0.618844           0.653826           0.628952   \n",
       "\n",
       "   mean_test_score  std_test_score  rank_test_score dataset model  \n",
       "0         0.642411        0.014784               50   higgs   knn  \n",
       "1         0.685480        0.013521               19   higgs   knn  \n",
       "2         0.651798        0.012451               40   higgs   knn  \n",
       "3         0.638108        0.017588               51   higgs   knn  \n",
       "4         0.638056        0.014103               52   higgs   knn  "
      ]
     },
     "execution_count": 25,
     "metadata": {},
     "output_type": "execute_result"
    }
   ],
   "source": [
    "bayes_results = np.load('../results/bayes_search_tuning.npy', allow_pickle=True)\n",
    "pd.DataFrame(bayes_results[14]).head()"
   ]
  },
  {
   "cell_type": "markdown",
   "metadata": {},
   "source": [
    "---"
   ]
  }
 ],
 "metadata": {
  "kernelspec": {
   "display_name": "automl",
   "language": "python",
   "name": "python3"
  },
  "language_info": {
   "codemirror_mode": {
    "name": "ipython",
    "version": 3
   },
   "file_extension": ".py",
   "mimetype": "text/x-python",
   "name": "python",
   "nbconvert_exporter": "python",
   "pygments_lexer": "ipython3",
   "version": "3.12.4"
  }
 },
 "nbformat": 4,
 "nbformat_minor": 2
}
