{
 "cells": [
  {
   "cell_type": "markdown",
   "metadata": {},
   "source": [
    "# Support vector classifier (SVC)"
   ]
  },
  {
   "cell_type": "markdown",
   "metadata": {},
   "source": [
    "## Setup"
   ]
  },
  {
   "cell_type": "code",
   "execution_count": null,
   "metadata": {},
   "outputs": [],
   "source": [
    "import numpy as np\n",
    "import pandas as pd \n",
    "\n",
    "from sklearn.model_selection import RandomizedSearchCV\n",
    "from sklearn.datasets import fetch_openml\n",
    "from sklearn import set_config\n",
    "from sklearn.pipeline import Pipeline\n",
    "from sklearn.svm import SVC\n",
    "from sklearn.model_selection import train_test_split\n",
    "from sklearn.model_selection import cross_validate\n",
    "from sklearn.metrics import accuracy_score, make_scorer\n",
    "\n",
    "\n",
    "from shared import RANDOM_STATE, DIABETES_DATASET_ID, BANKNOTE_DATASET_ID, CREDIT_DATASET_ID, SPAMBASE_DATASET_ID\n",
    "from shared.utilities import prepare_and_split, create_preprocessor"
   ]
  },
  {
   "cell_type": "code",
   "execution_count": null,
   "metadata": {},
   "outputs": [],
   "source": [
    "random_state = RANDOM_STATE\n",
    "output_path =\"..\\\\results\\\\svc\\\\random_search_results.csv\"\n",
    "bayes_output_path = \"..\\\\results\\\\svc\\\\bayes_search_results.csv\"\n",
    "set_config(transform_output = \"pandas\")"
   ]
  },
  {
   "cell_type": "code",
   "execution_count": null,
   "metadata": {},
   "outputs": [],
   "source": [
    "C_MIN = 0.01\n",
    "C_MAX = 100.0\n",
    "N_C_POINTS = 25\n",
    "KERNEL = ['linear', 'sigmoid', 'rbf']\n",
    "GAMMA_MIN = 0.001\n",
    "GAMMA_MAX = 10.0\n",
    "N_GAMMA_POINTS = 25\n",
    "\n",
    "N_JOBS = -1\n",
    "N_ITERS = 100"
   ]
  },
  {
   "cell_type": "code",
   "execution_count": null,
   "metadata": {},
   "outputs": [],
   "source": [
    "diabetes_dataset = fetch_openml(data_id=DIABETES_DATASET_ID, as_frame=True)\n",
    "banknote_authentication_dataset = fetch_openml(data_id=BANKNOTE_DATASET_ID, as_frame=True)\n",
    "credit_dataset = fetch_openml(data_id=CREDIT_DATASET_ID, as_frame=True)\n",
    "spambase_dataset = fetch_openml(data_id=SPAMBASE_DATASET_ID, as_frame=True)"
   ]
  },
  {
   "cell_type": "code",
   "execution_count": null,
   "metadata": {},
   "outputs": [],
   "source": [
    "diabetes_train_x, diabetes_train_y= prepare_and_split(diabetes_dataset)\n",
    "banknotes_train_x, banknotes_train_y= prepare_and_split(banknote_authentication_dataset)\n",
    "credit_train_x, credit_train_y= prepare_and_split(credit_dataset)\n",
    "spambase_train_x, spambase_train_y= prepare_and_split(spambase_dataset)"
   ]
  },
  {
   "cell_type": "markdown",
   "metadata": {},
   "source": [
    "## Randomized Search"
   ]
  },
  {
   "cell_type": "code",
   "execution_count": null,
   "metadata": {},
   "outputs": [],
   "source": [
    "param_distributions = {\n",
    "    'model__C': np.logspace(np.log10(C_MIN), np.log10(C_MAX), num=N_C_POINTS).astype(float),\n",
    "    'model__kernel': KERNEL,\n",
    "    'model__gamma':  np.logspace(np.log10(GAMMA_MIN), np.log10(GAMMA_MAX), num=N_GAMMA_POINTS).astype(float),\n",
    "}\n",
    "\n",
    "pipeline = Pipeline([\n",
    "    ('preprocessing', create_preprocessor()),\n",
    "    ('model', SVC())\n",
    "])\n",
    "\n",
    "randomized_search_CV = RandomizedSearchCV(\n",
    "    estimator=pipeline,\n",
    "    param_distributions=param_distributions,\n",
    "    n_jobs=N_JOBS,\n",
    "    n_iter=N_ITERS,\n",
    "    verbose=1,\n",
    "    random_state=RANDOM_STATE,\n",
    "    cv=5,\n",
    "    scoring='roc_auc'\n",
    "    )"
   ]
  },
  {
   "cell_type": "code",
   "execution_count": null,
   "metadata": {},
   "outputs": [],
   "source": [
    "datasets = [\n",
    "    (diabetes_train_x, diabetes_train_y, \"diabetes\"),\n",
    "    (banknotes_train_x, banknotes_train_y, \"banknotes\"),\n",
    "    (credit_train_x, credit_train_y, \"credit\"),\n",
    "    (spambase_train_x, spambase_train_y, \"spambase\")\n",
    "]"
   ]
  },
  {
   "cell_type": "code",
   "execution_count": null,
   "metadata": {},
   "outputs": [],
   "source": [
    "random_search_results = []\n",
    "\n",
    "for x, y, name in datasets:\n",
    "    randomized_search_CV.fit(x, y)\n",
    "    cv_results = randomized_search_CV.cv_results_\n",
    "    df_results = pd.DataFrame(cv_results)\n",
    "    df_results['dataset'] = name\n",
    "    random_search_results.append(df_results)\n",
    "    \n",
    "all_results = pd.concat(random_search_results)\n",
    "all_results.to_csv(output_path, index=False)"
   ]
  },
  {
   "cell_type": "code",
   "execution_count": null,
   "metadata": {},
   "outputs": [],
   "source": [
    "all_results.groupby('dataset').agg({'mean_test_score': 'max'})"
   ]
  },
  {
   "cell_type": "markdown",
   "metadata": {},
   "source": [
    "# Default params score"
   ]
  },
  {
   "cell_type": "code",
   "execution_count": null,
   "metadata": {},
   "outputs": [],
   "source": [
    "results = []\n",
    "scoring = make_scorer(accuracy_score)\n",
    "for x, y, name in datasets:\n",
    "    result = cross_validate(pipeline, x, y, cv=5, scoring=scoring)['test_score'].mean()\n",
    "    \n",
    "    results.append({'dataset': name, 'score': result})\n",
    "pd.DataFrame(results)"
   ]
  },
  {
   "cell_type": "markdown",
   "metadata": {},
   "source": [
    "## Bayes Optimization"
   ]
  },
  {
   "cell_type": "code",
   "execution_count": null,
   "metadata": {},
   "outputs": [],
   "source": [
    "from smac.scenario import Scenario\n",
    "from ConfigSpace import ConfigurationSpace\n",
    "from ConfigSpace.hyperparameters import UniformFloatHyperparameter, CategoricalHyperparameter\n",
    "from smac.facade.hyperparameter_optimization_facade import HyperparameterOptimizationFacade\n",
    "from sklearn.svm import SVC\n",
    "from sklearn.model_selection import cross_val_score\n",
    "from sklearn.pipeline import Pipeline\n",
    "import numpy as np"
   ]
  },
  {
   "cell_type": "code",
   "execution_count": null,
   "metadata": {},
   "outputs": [],
   "source": [
    "bayes_results_log = []\n",
    "def objective_function(config, seed=RANDOM_STATE):\n",
    "    scores = []\n",
    "    \n",
    "    for x, y, name in datasets:\n",
    "        pipeline = Pipeline([\n",
    "            ('preprocessing', create_preprocessor()),\n",
    "            ('model', SVC())\n",
    "        ])\n",
    "        \n",
    "        pipeline.set_params(\n",
    "            model__C=config['C'],\n",
    "            model__kernel=config['kernel'],\n",
    "            model__gamma=config['gamma']\n",
    "        )\n",
    "        \n",
    "        score = cross_val_score(pipeline, x, y, cv=5, scoring='roc_auc').mean()\n",
    "        scores.append({'score': score, 'dataset': name})\n",
    "    \n",
    "        bayes_results_log.append({\n",
    "            'C': config['C'],\n",
    "            'kernel': config['kernel'],\n",
    "            'gamma': config['gamma'],\n",
    "            'score': score,\n",
    "            'dataset': name\n",
    "        })\n",
    "    \n",
    "    scores_mean = np.mean([s['score'] for s in scores])\n",
    "    \n",
    "    return 1 - scores_mean\n"
   ]
  },
  {
   "cell_type": "code",
   "execution_count": null,
   "metadata": {},
   "outputs": [],
   "source": [
    "cs = ConfigurationSpace()\n",
    "\n",
    "c_bayes_values = np.logspace(np.log10(C_MIN), np.log10(C_MAX), num=N_C_POINTS).tolist()\n",
    "gamma_bayes_values = np.logspace(np.log10(GAMMA_MIN), np.log10(GAMMA_MAX), num=N_GAMMA_POINTS).tolist()\n",
    "C = CategoricalHyperparameter(\"C\", c_bayes_values, default_value=1.0)\n",
    "gamma = CategoricalHyperparameter(\"gamma\", gamma_bayes_values, default_value=0.001)\n",
    "kernel = CategoricalHyperparameter(\"kernel\", KERNEL, default_value=\"rbf\")\n",
    "\n",
    "cs.add([C, kernel, gamma])\n",
    "\n",
    "scenario = Scenario(cs, deterministic=True, n_trials=N_ITERS)\n",
    "\n",
    "smac = HyperparameterOptimizationFacade(scenario, objective_function)\n",
    "bayes_best_hyperparameters = smac.optimize()\n",
    "\n",
    "pd.DataFrame(bayes_results_log).to_csv(bayes_output_path, index=False)"
   ]
  },
  {
   "cell_type": "code",
   "execution_count": null,
   "metadata": {},
   "outputs": [],
   "source": [
    "pd.DataFrame(bayes_results_log).groupby('dataset').agg({'score': 'max'})"
   ]
  }
 ],
 "metadata": {
  "kernelspec": {
   "display_name": "Python 3",
   "language": "python",
   "name": "python3"
  },
  "language_info": {
   "codemirror_mode": {
    "name": "ipython",
    "version": 3
   },
   "file_extension": ".py",
   "mimetype": "text/x-python",
   "name": "python",
   "nbconvert_exporter": "python",
   "pygments_lexer": "ipython3",
   "version": "3.12.4"
  }
 },
 "nbformat": 4,
 "nbformat_minor": 2
}
