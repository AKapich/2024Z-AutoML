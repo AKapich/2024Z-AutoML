{
 "cells": [
  {
   "cell_type": "code",
   "execution_count": null,
   "metadata": {},
   "outputs": [],
   "source": [
    "import pandas as pd\n",
    "import numpy as np\n",
    "from itertools import accumulate\n",
    "import matplotlib.pyplot as plt"
   ]
  },
  {
   "cell_type": "code",
   "execution_count": null,
   "metadata": {},
   "outputs": [],
   "source": [
    "datasets = ['diabetes', 'banknotes', 'credit', 'spambase']\n",
    "algorithms = ['gradient-boost', 'random-forest', 'svc']"
   ]
  },
  {
   "cell_type": "code",
   "execution_count": null,
   "metadata": {},
   "outputs": [],
   "source": [
    "def generate_graph(algorithm, optim):\n",
    "    if algorithm == 'bayes':\n",
    "        file = '../results/' + optim + '/bayes_search_results.csv'\n",
    "        score_col = 'score'\n",
    "    else:\n",
    "        file = '../results/' + optim + '/random_search_results.csv'\n",
    "        score_col = 'mean_test_score'\n",
    "        \n",
    "    data = pd.read_csv(file)\n",
    "    for dataset in datasets:\n",
    "        df = data[data['dataset'] == dataset]\n",
    "        vals = list(accumulate(df[score_col].values, max))\n",
    "        vals = vals / np.max(vals)\n",
    "        plt.plot(vals, label=dataset)\n",
    "    plt.title(algorithm + ' for ' + optim)\n",
    "    plt.legend()\n",
    "    plt.show()"
   ]
  },
  {
   "cell_type": "code",
   "execution_count": null,
   "metadata": {},
   "outputs": [],
   "source": [
    "for algorithm in ['gradient-boost', 'random-forest', 'svc']:\n",
    "    for optim in ['bayes', 'random search'] :\n",
    "        generate_graph(optim, algorithm)"
   ]
  }
 ],
 "metadata": {
  "kernelspec": {
   "display_name": "Python 3",
   "language": "python",
   "name": "python3"
  },
  "language_info": {
   "codemirror_mode": {
    "name": "ipython",
    "version": 3
   },
   "file_extension": ".py",
   "mimetype": "text/x-python",
   "name": "python",
   "nbconvert_exporter": "python",
   "pygments_lexer": "ipython3",
   "version": "3.12.4"
  }
 },
 "nbformat": 4,
 "nbformat_minor": 2
}
