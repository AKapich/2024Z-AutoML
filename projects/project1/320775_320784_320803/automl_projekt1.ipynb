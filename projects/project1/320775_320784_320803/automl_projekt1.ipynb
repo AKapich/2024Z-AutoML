{
 "cells": [
  {
   "cell_type": "code",
   "execution_count": 309,
   "id": "1aa5e3c2ba261cab",
   "metadata": {
    "ExecuteTime": {
     "end_time": "2024-11-14T12:04:22.825773Z",
     "start_time": "2024-11-14T12:04:22.804758Z"
    }
   },
   "outputs": [],
   "source": [
    "import kagglehub\n",
    "import glob\n",
    "import os\n",
    "import pandas as pd\n",
    "import numpy as np\n",
    "#from scipy.special import integer\n",
    "from ucimlrepo import fetch_ucirepo \n",
    "from sklearn import svm\n",
    "from tqdm import tqdm\n",
    "from skopt import BayesSearchCV\n",
    "\n",
    "from skopt.space import Real, Categorical, Integer\n",
    "from skopt.plots import plot_objective, plot_histogram\n",
    "from sklearn.datasets import load_digits\n",
    "from sklearn.svm import LinearSVC, SVC\n",
    "from sklearn.pipeline import Pipeline\n",
    "from sklearn.model_selection import train_test_split, GridSearchCV, RandomizedSearchCV\n",
    "\n",
    "from sklearn.ensemble import RandomForestClassifier, ExtraTreesClassifier,  GradientBoostingClassifier\n",
    "\n",
    "from sklearn.pipeline import Pipeline\n",
    "from sklearn.impute import SimpleImputer\n",
    "from sklearn.preprocessing import OneHotEncoder, MinMaxScaler\n",
    "from sklearn.compose import ColumnTransformer, make_column_selector\n",
    "from sklearn.feature_selection import SelectFromModel\n",
    "from sklearn.neighbors import KNeighborsClassifier\n",
    "\n",
    "import openml\n",
    "from sklearn.metrics import accuracy_score, recall_score, precision_score, roc_auc_score\n",
    "from scipy.stats import uniform, randint\n",
    "import random\n",
    "import csv\n",
    "import ast\n",
    "import matplotlib.pyplot as plt\n",
    "import matplotlib.colors as mcolors\n",
    "import seaborn as sns\n",
    "from scipy.stats import loguniform"
   ]
  },
  {
   "cell_type": "markdown",
   "id": "8211da05",
   "metadata": {},
   "source": [
    "### Wczytywanie danych"
   ]
  },
  {
   "cell_type": "code",
   "execution_count": 310,
   "id": "be98a2c46b6d2c2e",
   "metadata": {
    "ExecuteTime": {
     "end_time": "2024-11-14T12:04:24.634999Z",
     "start_time": "2024-11-14T12:04:23.781980Z"
    }
   },
   "outputs": [
    {
     "name": "stdout",
     "output_type": "stream",
     "text": [
      "Warning: Looks like you're using an outdated `kagglehub` version, please consider updating (latest version: 0.3.4)\n",
      "Warning: Looks like you're using an outdated `kagglehub` version, please consider updating (latest version: 0.3.4)\n"
     ]
    }
   ],
   "source": [
    "path_banana = kagglehub.dataset_download(\"l3llff/banana\")\n",
    "path_credit = kagglehub.dataset_download(\"rohitudageri/credit-card-details\")"
   ]
  },
  {
   "cell_type": "code",
   "execution_count": 311,
   "id": "96e18175463ff78c",
   "metadata": {
    "ExecuteTime": {
     "end_time": "2024-11-14T12:04:24.678775Z",
     "start_time": "2024-11-14T12:04:24.646467Z"
    }
   },
   "outputs": [],
   "source": [
    "full_path_banana = glob.glob(os.path.join(path_banana, '*.csv')) # zawsze dobre wyniki\n",
    "df_banana = pd.read_csv(full_path_banana[0])\n",
    "\n",
    "X_banana = df_banana.drop('Quality', axis=1)\n",
    "y_banana = df_banana.Quality\n",
    "\n",
    "y_banana = y_banana.map({'Good': 1, 'Bad': 0})"
   ]
  },
  {
   "cell_type": "code",
   "execution_count": 312,
   "id": "62935a19dc28000",
   "metadata": {
    "ExecuteTime": {
     "end_time": "2024-11-14T12:04:25.539817Z",
     "start_time": "2024-11-14T12:04:25.525777Z"
    }
   },
   "outputs": [],
   "source": [
    "X_credit = pd.read_csv(f\"{path_credit}/Credit_card.csv\") # nie zbalansowany ale git\n",
    "y_credit = pd.read_csv(f\"{path_credit}/Credit_card_label.csv\").label"
   ]
  },
  {
   "cell_type": "code",
   "execution_count": 313,
   "id": "ceb5197a",
   "metadata": {
    "ExecuteTime": {
     "end_time": "2024-11-14T12:04:25.642004Z",
     "start_time": "2024-11-14T12:04:25.582413Z"
    }
   },
   "outputs": [],
   "source": [
    "dataset = openml.datasets.get_dataset(847)\n",
    "\n",
    "X, _, _, _ = dataset.get_data(dataset_format=\"dataframe\")\n",
    "X['binaryClass'] = X['binaryClass'].map({'P': 1, 'N': 0})\n",
    "y_wind = X.loc[:, 'binaryClass']\n",
    "X_wind = X.drop(['binaryClass'], axis = 1)"
   ]
  },
  {
   "cell_type": "code",
   "execution_count": 314,
   "id": "2557f9b6",
   "metadata": {
    "ExecuteTime": {
     "end_time": "2024-11-14T12:04:26.367906Z",
     "start_time": "2024-11-14T12:04:26.347335Z"
    }
   },
   "outputs": [],
   "source": [
    "dataset = openml.datasets.get_dataset(846)\n",
    "\n",
    "X, _, _, _ = dataset.get_data(dataset_format=\"dataframe\")\n",
    "X['binaryClass'] = X['binaryClass'].map({'P': 1, 'N': 0})\n",
    "X = X.sample(n=5000, random_state=123)\n",
    "y_elevators = X.loc[:, 'binaryClass']\n",
    "X_elevators= X.drop(['binaryClass'], axis = 1)"
   ]
  },
  {
   "cell_type": "code",
   "execution_count": 315,
   "id": "2bd4bfe7",
   "metadata": {
    "ExecuteTime": {
     "end_time": "2024-11-14T12:08:15.098226Z",
     "start_time": "2024-11-14T12:08:15.091930Z"
    }
   },
   "outputs": [],
   "source": [
    "names_list = ['banana', 'credit', 'wind', 'elevators']\n",
    "feature_list = [X_banana, X_credit, X_wind, X_elevators]\n",
    "target_list = [y_banana, y_credit, y_wind, y_elevators]\n",
    "dict = {key: {\n",
    "    \"X\": None,\n",
    "    \"y\": None,\n",
    "    \"search_results\": None,\n",
    "    \"bayes_results\": None,\n",
    "    \"basic_score\": None,\n",
    "    \"search_score\": None,\n",
    "    \"bayes_score\": None,\n",
    "    \"search_results_1\":None,\n",
    "    \"search_results_2\":None,\n",
    "    \"search_results_3\":None,\n",
    "    \"search_results_4\":None,\n",
    "    \"search_results_5\":None,\n",
    "    \"search_results_6\":None,\n",
    "    \"search_results_7\":None,\n",
    "    \"cv_1\":None,\n",
    "    \"cv_2\":None,\n",
    "    \"cv_3\":None,\n",
    "    \"cv_4\":None,\n",
    "    \"cv_5\":None,\n",
    "    \"cv_6\":None,\n",
    "    \"cv_7\":None\n",
    "} for key in names_list}\n",
    "\n",
    "for name, X, y in zip(names_list, feature_list, target_list):\n",
    "    dict[name][\"X\"] = X\n",
    "    dict[name][\"y\"] = y"
   ]
  },
  {
   "cell_type": "code",
   "execution_count": 316,
   "id": "3baf13ab8e8267f5",
   "metadata": {
    "ExecuteTime": {
     "end_time": "2024-11-14T12:04:27.070071Z",
     "start_time": "2024-11-14T12:04:27.054819Z"
    }
   },
   "outputs": [],
   "source": [
    "banana_class_1 = y_banana[y_banana == 1].count() / len(y_banana) * 100\n",
    "credit_class_1 = y_credit[y_credit == 1].count() / len(y_credit) * 100\n",
    "wind_class_1 = y_wind[y_wind == 1].count() / len(y_wind) * 100\n",
    "elevators_class_1 = y_elevators[y_elevators == 1].count() / len(y_elevators) * 100"
   ]
  },
  {
   "cell_type": "code",
   "execution_count": 317,
   "id": "77a57c906acf942b",
   "metadata": {
    "ExecuteTime": {
     "end_time": "2024-11-14T12:04:27.593553Z",
     "start_time": "2024-11-14T12:04:27.590088Z"
    }
   },
   "outputs": [
    {
     "name": "stdout",
     "output_type": "stream",
     "text": [
      "{'banana': 50, 'credit': 11, 'wind': 53, 'elevators': 69}\n"
     ]
    }
   ],
   "source": [
    "print({'banana': round(banana_class_1), 'credit': round(credit_class_1), 'wind': round(wind_class_1), 'elevators': round(elevators_class_1)})"
   ]
  },
  {
   "cell_type": "markdown",
   "id": "46ff20ca",
   "metadata": {},
   "source": [
    "# Przygotowanie modeli"
   ]
  },
  {
   "cell_type": "code",
   "execution_count": 318,
   "id": "b204d096",
   "metadata": {
    "ExecuteTime": {
     "end_time": "2024-11-14T12:08:34.381786Z",
     "start_time": "2024-11-14T12:08:34.372380Z"
    }
   },
   "outputs": [],
   "source": [
    "num_pipeline = Pipeline(steps=[\n",
    "    ('impute', SimpleImputer()),\n",
    "    ('scale', MinMaxScaler())\n",
    "])\n",
    "\n",
    "cat_pipeline = Pipeline(steps=[\n",
    "    ('impute', SimpleImputer(strategy='most_frequent')),\n",
    "    ('one-hot', OneHotEncoder(handle_unknown='ignore', sparse_output=False))\n",
    "])\n",
    "\n",
    "\n",
    "col_trans = ColumnTransformer([\n",
    "    ('num_pipeline', num_pipeline, make_column_selector(dtype_include = np.number)),\n",
    "    ('cat_pipeline', cat_pipeline, make_column_selector(dtype_include = np.object_))\n",
    "])\n"
   ]
  },
  {
   "cell_type": "code",
   "execution_count": 319,
   "id": "2ce6b8bc",
   "metadata": {
    "ExecuteTime": {
     "end_time": "2024-11-14T12:08:35.002716Z",
     "start_time": "2024-11-14T12:08:34.997250Z"
    }
   },
   "outputs": [],
   "source": [
    "svm_pipeline = Pipeline([('preprocessing', col_trans),    \n",
    "                           ('feature_selection', SelectFromModel(RandomForestClassifier())),\n",
    "                           ('model', svm.SVC())])\n",
    "\n",
    "knn_pipeline = Pipeline([\n",
    "    ('preprocess', col_trans),\n",
    "    ('feature_selection', SelectFromModel(RandomForestClassifier())),\n",
    "    ('model', KNeighborsClassifier())\n",
    "])\n",
    "\n",
    "gb_pipeline = Pipeline([\n",
    "    ('preprocess', col_trans),\n",
    "    ('feature_selection', SelectFromModel(RandomForestClassifier())),\n",
    "    ('model', GradientBoostingClassifier())\n",
    "])\n",
    "\n",
    "scoring = 'roc_auc'\n",
    "n_cv_folds = 3\n"
   ]
  },
  {
   "cell_type": "markdown",
   "id": "0fc9fe22",
   "metadata": {},
   "source": [
    "# Gradient Boosting"
   ]
  },
  {
   "cell_type": "code",
   "execution_count": 320,
   "id": "8ffd9502",
   "metadata": {
    "ExecuteTime": {
     "end_time": "2024-11-14T12:04:30.620075Z",
     "start_time": "2024-11-14T12:04:30.614543Z"
    }
   },
   "outputs": [],
   "source": [
    "n_estimators = randint(100, 500)\n",
    "learning_rate =uniform(loc=0.001, scale=0.999)\n",
    "subsample = uniform(loc = 0.1, scale = 0.9)\n",
    "max_depth = randint(4, 10)\n",
    "\n",
    "parameters = {\n",
    "    'model__n_estimators' : n_estimators, \n",
    "    'model__learning_rate' : learning_rate, \n",
    "    'model__subsample' : subsample,\n",
    "    'model__max_depth' : max_depth\n",
    "}"
   ]
  },
  {
   "cell_type": "code",
   "execution_count": 321,
   "id": "cca79f47",
   "metadata": {
    "ExecuteTime": {
     "end_time": "2024-11-14T11:59:32.731072Z",
     "start_time": "2024-11-14T11:59:10.830831Z"
    }
   },
   "outputs": [
    {
     "name": "stderr",
     "output_type": "stream",
     "text": [
      "Processing keys: 100%|██████████| 4/4 [08:31<00:00, 127.84s/it]\n"
     ]
    }
   ],
   "source": [
    "for key in tqdm(dict.keys(), desc=\"Processing keys\"):\n",
    "\n",
    "    X = dict[key][\"X\"]\n",
    "    y = dict[key][\"y\"]\n",
    "    \n",
    "    X_train, X_test, y_train, y_test = train_test_split(X, y, test_size=0.2, random_state=0)\n",
    "    \n",
    "    basic_model = gb_pipeline.fit(X_train, y_train)\n",
    "    y_pred_basic = basic_model.predict(X_test)\n",
    "\n",
    "    grid = RandomizedSearchCV(estimator=gb_pipeline, \n",
    "                                param_distributions=parameters, \n",
    "                                n_iter=150, \n",
    "                                random_state=0, \n",
    "                                n_jobs=-1, \n",
    "                                cv=n_cv_folds, \n",
    "                                scoring=scoring)\n",
    "    \n",
    "    grid.fit(X_train, y_train)\n",
    "    y_pred_grid = grid.predict(X_test)\n",
    "\n",
    "    dict[key][\"search_results\"] = grid\n",
    "    dict[key][\"basic_score\"] = roc_auc_score(y_test, y_pred_basic)\n",
    "    dict[key][\"search_score\"] = roc_auc_score(y_test, y_pred_grid)\n",
    "    "
   ]
  },
  {
   "cell_type": "code",
   "execution_count": 322,
   "id": "84d9f4eb",
   "metadata": {},
   "outputs": [],
   "source": [
    "gb_parameters = {\n",
    "    'model__n_estimators' : Integer(100, 500), \n",
    "    'model__learning_rate' : Real(0.001, 1.0), \n",
    "    'model__subsample' : Real(0.1, 1.0),\n",
    "    'model__max_depth' : Integer(4, 10)\n",
    "}"
   ]
  },
  {
   "cell_type": "code",
   "execution_count": 323,
   "id": "becd314b",
   "metadata": {},
   "outputs": [
    {
     "name": "stderr",
     "output_type": "stream",
     "text": [
      "Processing keys: 100%|██████████| 4/4 [52:07<00:00, 781.77s/it]\n"
     ]
    }
   ],
   "source": [
    "for key in tqdm(dict.keys(), desc=\"Processing keys\"):\n",
    "\n",
    "    X = dict[key][\"X\"]\n",
    "    y = dict[key][\"y\"]\n",
    "        \n",
    "    X_train, X_test, y_train, y_test = train_test_split(X, y, test_size=0.2, random_state=0)\n",
    "\n",
    "    bayes = BayesSearchCV(\n",
    "        gb_pipeline,\n",
    "        gb_parameters,\n",
    "        n_iter=150,\n",
    "        cv=n_cv_folds,\n",
    "        n_jobs=-1,\n",
    "        random_state=0,\n",
    "        scoring=scoring\n",
    ")\n",
    "        \n",
    "    bayes.fit(X_train, y_train)\n",
    "    y_pred_bayes = bayes.predict(X_test)\n",
    "        \n",
    "    dict[key][\"bayes_results\"] = bayes\n",
    "    dict[key][\"bayes_score\"] = roc_auc_score(y_test, y_pred_bayes) "
   ]
  },
  {
   "cell_type": "code",
   "execution_count": 324,
   "id": "eb22739f",
   "metadata": {},
   "outputs": [
    {
     "name": "stdout",
     "output_type": "stream",
     "text": [
      "banana rs best cv score: 0.9859650362171011\n",
      "banana rs best params: {'model__learning_rate': 0.06508334885243558, 'model__max_depth': 6, 'model__n_estimators': 327, 'model__subsample': 0.8785923051748464}\n",
      "banana bayes best cv score: 0.9902817705530681\n",
      "banana bayes best params: OrderedDict([('model__learning_rate', 0.23941969605875246), ('model__max_depth', 10), ('model__n_estimators', 100), ('model__subsample', 1.0)])\n",
      "credit rs best cv score: 0.7449696193061475\n",
      "credit rs best params: {'model__learning_rate': 0.11708570770278201, 'model__max_depth': 9, 'model__n_estimators': 477, 'model__subsample': 0.4568551667622862}\n",
      "credit bayes best cv score: 0.751614027017418\n",
      "credit bayes best params: OrderedDict([('model__learning_rate', 0.2035144452155986), ('model__max_depth', 10), ('model__n_estimators', 500), ('model__subsample', 0.48859723639228236)])\n",
      "wind rs best cv score: 0.9186970352640502\n",
      "wind rs best params: {'model__learning_rate': 0.017312174181024185, 'model__max_depth': 4, 'model__n_estimators': 220, 'model__subsample': 0.4611335507232479}\n",
      "wind bayes best cv score: 0.920104946896061\n",
      "wind bayes best params: OrderedDict([('model__learning_rate', 0.001), ('model__max_depth', 7), ('model__n_estimators', 500), ('model__subsample', 0.2834686257596155)])\n",
      "elevators rs best cv score: 0.9186715331723825\n",
      "elevators rs best params: {'model__learning_rate': 0.07196502213968906, 'model__max_depth': 5, 'model__n_estimators': 215, 'model__subsample': 0.43141738585649314}\n",
      "elevators bayes best cv score: 0.92283371193037\n",
      "elevators bayes best params: OrderedDict([('model__learning_rate', 0.3097111111517766), ('model__max_depth', 4), ('model__n_estimators', 500), ('model__subsample', 0.8550829607001498)])\n"
     ]
    }
   ],
   "source": [
    "for key in dict.keys():\n",
    "    print(f\"{key} rs best cv score: {dict[key]['search_results'].best_score_}\")\n",
    "    print(f\"{key} rs best params: {dict[key]['search_results'].best_params_}\")\n",
    "    print(f\"{key} bayes best cv score: {dict[key]['bayes_results'].best_score_}\")\n",
    "    print(f\"{key} bayes best params: {dict[key]['bayes_results'].best_params_}\")\n",
    "    \n",
    "# TODO: zmienic na tabelke"
   ]
  },
  {
   "cell_type": "code",
   "execution_count": 325,
   "id": "7da1bd9e",
   "metadata": {
    "ExecuteTime": {
     "end_time": "2024-11-14T12:19:47.288889Z",
     "start_time": "2024-11-14T12:19:47.278999Z"
    }
   },
   "outputs": [
    {
     "name": "stdout",
     "output_type": "stream",
     "text": [
      "banana basic test score: 0.9293194617197218\n",
      "banana rs test score: 0.9718312280065754\n",
      "banana bayes test score: 0.9255598752429823\n",
      "credit basic test score: 0.6267532467532467\n",
      "credit rs test score: 0.7212987012987012\n",
      "credit bayes test score: 0.7355844155844156\n",
      "wind basic test score: 0.8257766174612213\n",
      "wind rs test score: 0.8234401688630905\n",
      "wind bayes test score: 0.8236449986807571\n",
      "elevators basic test score: 0.8042652027027029\n",
      "elevators rs test score: 0.8248234029484028\n",
      "elevators bayes test score: 0.8270500614250614\n"
     ]
    }
   ],
   "source": [
    "for key in dict.keys():\n",
    "    print(f\"{key} basic test score: {dict[key]['basic_score']}\")\n",
    "    print(f\"{key} rs test score: {dict[key]['search_score']}\")\n",
    "    print(f\"{key} bayes test score: {dict[key]['bayes_score']}\")"
   ]
  },
  {
   "cell_type": "code",
   "execution_count": 326,
   "id": "fff3bd01",
   "metadata": {},
   "outputs": [
    {
     "name": "stdout",
     "output_type": "stream",
     "text": [
      "banana tunability: 0.010831150931346456\n",
      "credit tunability: 0.0\n",
      "wind tunability: 0.01308462757635942\n",
      "elevators tunability: 0.008422500407686218\n"
     ]
    }
   ],
   "source": [
    "scores_sum = {}\n",
    "for key in dict.keys():\n",
    "    for param in dict[key]['search_results'].cv_results_['params']:\n",
    "        score = dict[key]['search_results'].cv_results_['mean_test_score'][dict[key]['search_results'].cv_results_['params'].index(param)]\n",
    "        if str(param) in scores_sum:\n",
    "            scores_sum[str(param)] += float(score)\n",
    "        else:\n",
    "            scores_sum[str(param)] = float(score)\n",
    "\n",
    "best_params = max(scores_sum, key=scores_sum.get)\n",
    "best_params = ast.literal_eval(best_params)\n",
    "\n",
    "for key in dict.keys():\n",
    "    \n",
    "    tunability = dict[key]['search_results'].best_score_ -  dict[key]['search_results'].cv_results_['mean_test_score'][dict[key]['search_results'].cv_results_['params'].index(best_params)]\n",
    "    print(f\"{key} tunability: {tunability}\")"
   ]
  },
  {
   "cell_type": "code",
   "execution_count": 327,
   "metadata": {},
   "outputs": [
    {
     "name": "stdout",
     "output_type": "stream",
     "text": [
      "{'model__learning_rate': 0.11708570770278201, 'model__max_depth': 9, 'model__n_estimators': 477, 'model__subsample': 0.4568551667622862}\n"
     ]
    }
   ],
   "source": [
    "print(best_params)"
   ]
  },
  {
   "cell_type": "code",
   "execution_count": 328,
   "id": "45ed57ba",
   "metadata": {
    "ExecuteTime": {
     "end_time": "2024-11-14T11:23:47.179419Z",
     "start_time": "2024-11-14T11:23:46.652305Z"
    }
   },
   "outputs": [],
   "source": [
    "tunability = [dict[key]['search_results'].best_score_ - dict[key]['search_results'].cv_results_['mean_test_score'][dict[key]['search_results'].cv_results_['params'].index(best_params)] for key in dict.keys()]\n",
    "\n",
    "with open('tunability_boost.csv', mode='w', newline='') as file:\n",
    "    writer = csv.writer(file)\n",
    "    for value in tunability:\n",
    "        writer.writerow([value])"
   ]
  },
  {
   "cell_type": "code",
   "execution_count": 329,
   "id": "531694c5",
   "metadata": {
    "ExecuteTime": {
     "end_time": "2024-11-14T11:24:10.215325Z",
     "start_time": "2024-11-14T11:24:10.160881Z"
    }
   },
   "outputs": [],
   "source": [
    "data = {}\n",
    "\n",
    "for key in dict.keys():\n",
    "    split_test_score_list = []\n",
    "    \n",
    "    for i in range(n_cv_folds): \n",
    "        split_scores = dict[key]['search_results'].cv_results_[f\"split{i}_test_score\"].tolist()\n",
    "        split_test_score_list += split_scores \n",
    "    \n",
    "    data[key] = split_test_score_list\n",
    "\n",
    "df_scores = pd.DataFrame(data)\n",
    "df_scores.to_csv('dane/boost_scores.csv', index=False)"
   ]
  },
  {
   "cell_type": "code",
   "execution_count": 330,
   "id": "fa1b5a01",
   "metadata": {
    "ExecuteTime": {
     "end_time": "2024-11-14T11:58:56.693316Z",
     "start_time": "2024-11-14T11:58:56.476941Z"
    }
   },
   "outputs": [],
   "source": [
    "iteration_scores = [dict[key][\"bayes_results\"].cv_results_['mean_test_score'] for key in dict.keys()]\n",
    "df_scores.to_csv('dane/boost_iterations.csvrations.csv', index=False) \n",
    "\n",
    "    "
   ]
  },
  {
   "cell_type": "code",
   "execution_count": 331,
   "metadata": {},
   "outputs": [
    {
     "name": "stdout",
     "output_type": "stream",
     "text": [
      "[array([0.96000257, 0.98006598, 0.90127073, 0.97097967, 0.91662562,\n",
      "       0.69246795, 0.74679524, 0.6724469 , 0.96232788, 0.9714911 ,\n",
      "       0.94015661, 0.97681726, 0.94474114, 0.97351944, 0.97806044,\n",
      "       0.96717361, 0.97820465, 0.94548391, 0.9639438 , 0.96741176,\n",
      "       0.97904469, 0.97093427, 0.97656458, 0.96833568, 0.96820928,\n",
      "       0.92749215, 0.97777698, 0.95958827, 0.96991751, 0.97852843,\n",
      "       0.98306885, 0.95322803, 0.95033131, 0.96215373, 0.96627805,\n",
      "       0.98416343, 0.96760373, 0.97907064, 0.9452341 , 0.98014338,\n",
      "       0.94113262, 0.96852482, 0.96852473, 0.97679139, 0.96267723,\n",
      "       0.96518116, 0.95635604, 0.94700877, 0.9827804 , 0.96966368,\n",
      "       0.96577437, 0.88751988, 0.97072562, 0.93616356, 0.79067323,\n",
      "       0.98076025, 0.95945982, 0.96645032, 0.97119647, 0.95785176,\n",
      "       0.65300874, 0.97985989, 0.98409979, 0.9730623 , 0.97072709,\n",
      "       0.99028177, 0.96036154, 0.95761897, 0.95360152, 0.97004346,\n",
      "       0.96124192, 0.97605167, 0.96169023, 0.97272963, 0.9746851 ,\n",
      "       0.97805243, 0.87966819, 0.94188641, 0.94925145, 0.91446964,\n",
      "       0.96734494, 0.95274329, 0.97109327, 0.95234879, 0.96669392,\n",
      "       0.97774295, 0.9720336 , 0.95773276, 0.98189877, 0.96837998,\n",
      "       0.82493094, 0.98248428, 0.97081295, 0.96115899, 0.98750449,\n",
      "       0.95252401, 0.97486588, 0.98141456, 0.89796317, 0.97429619,\n",
      "       0.95356491, 0.95135517, 0.95932752, 0.96974175, 0.97432983,\n",
      "       0.96971476, 0.94207   , 0.97732429, 0.97722767, 0.96033149,\n",
      "       0.96327696, 0.9592231 , 0.97401873, 0.96989942, 0.95782151,\n",
      "       0.95879861, 0.94912282, 0.97717257, 0.9500807 , 0.97695876,\n",
      "       0.9813863 , 0.98146076, 0.96310065, 0.94139028, 0.951765  ,\n",
      "       0.96505844, 0.96402438, 0.96968939, 0.95999065, 0.96773197,\n",
      "       0.95420656, 0.96043444, 0.98167634, 0.94679921, 0.98030809,\n",
      "       0.94780458, 0.95933691, 0.96693918, 0.97080327, 0.9804386 ,\n",
      "       0.97967006, 0.94448315, 0.97827744, 0.97900712, 0.954809  ,\n",
      "       0.97269608, 0.980489  , 0.96588847, 0.98054506, 0.97563881]), array([0.69971999, 0.71636956, 0.53443798, 0.7317322 , 0.71094678,\n",
      "       0.61754595, 0.43785459, 0.49148123, 0.70408585, 0.70399739,\n",
      "       0.70484073, 0.69252669, 0.69208185, 0.62956237, 0.73557612,\n",
      "       0.70572873, 0.70292235, 0.64132983, 0.66324357, 0.68786638,\n",
      "       0.72870171, 0.70265949, 0.73324028, 0.73603655, 0.72646865,\n",
      "       0.70252174, 0.72759087, 0.70341732, 0.68840348, 0.6997756 ,\n",
      "       0.7062098 , 0.74796219, 0.7145746 , 0.71547061, 0.71412681,\n",
      "       0.69617137, 0.70144249, 0.68851764, 0.74066906, 0.73878227,\n",
      "       0.69045498, 0.72301186, 0.72326882, 0.73620505, 0.69002404,\n",
      "       0.70207311, 0.72371493, 0.73511822, 0.7182416 , 0.71773989,\n",
      "       0.69558751, 0.69482462, 0.70445571, 0.70050858, 0.7416194 ,\n",
      "       0.7297561 , 0.70661842, 0.70217168, 0.73086863, 0.73351915,\n",
      "       0.68741649, 0.71480208, 0.74952125, 0.71882082, 0.727419  ,\n",
      "       0.7201267 , 0.71160141, 0.71701702, 0.75054742, 0.72446771,\n",
      "       0.71799854, 0.70014925, 0.65128739, 0.73033785, 0.73868285,\n",
      "       0.73942342, 0.73796673, 0.71397769, 0.6903404 , 0.70510907,\n",
      "       0.73662504, 0.72677785, 0.72351273, 0.7360673 , 0.72354559,\n",
      "       0.68382531, 0.72035502, 0.70569082, 0.73343616, 0.73399432,\n",
      "       0.72978854, 0.49362941, 0.68185133, 0.73077595, 0.72807278,\n",
      "       0.70053217, 0.70526199, 0.73997357, 0.72361214, 0.71566817,\n",
      "       0.70510191, 0.70352853, 0.7203942 , 0.70823434, 0.70051869,\n",
      "       0.71757307, 0.69742965, 0.7281663 , 0.73013902, 0.72529884,\n",
      "       0.72751799, 0.710079  , 0.71935623, 0.71359814, 0.70002835,\n",
      "       0.69520712, 0.71783678, 0.7234567 , 0.71869697, 0.73375505,\n",
      "       0.73010322, 0.73335444, 0.68884622, 0.71938656, 0.69655723,\n",
      "       0.54904827, 0.73900764, 0.7114843 , 0.74013196, 0.69402256,\n",
      "       0.72490749, 0.72184204, 0.70758687, 0.74533358, 0.72162257,\n",
      "       0.72946881, 0.73606856, 0.72911159, 0.6659954 , 0.7221643 ,\n",
      "       0.72457218, 0.71611428, 0.75161403, 0.72416651, 0.68265002,\n",
      "       0.74418904, 0.72591049, 0.71860641, 0.74185362, 0.7086598 ]), array([0.89606473, 0.90576834, 0.45514423, 0.90551348, 0.68511361,\n",
      "       0.48692029, 0.58432264, 0.62398914, 0.90723122, 0.90277592,\n",
      "       0.90069985, 0.91861436, 0.91306797, 0.89094875, 0.88777456,\n",
      "       0.91618297, 0.8945984 , 0.86931129, 0.906037  , 0.91812601,\n",
      "       0.91526094, 0.9178273 , 0.91799166, 0.91885955, 0.91761259,\n",
      "       0.91489686, 0.90375121, 0.88078371, 0.91820017, 0.9163381 ,\n",
      "       0.90914394, 0.89833792, 0.89315449, 0.91017186, 0.51333154,\n",
      "       0.90417858, 0.82851596, 0.89357418, 0.90414214, 0.91131558,\n",
      "       0.91858332, 0.90046673, 0.91341227, 0.920001  , 0.90502708,\n",
      "       0.91359434, 0.90900363, 0.89402836, 0.88630627, 0.91451758,\n",
      "       0.91791237, 0.91632989, 0.91395009, 0.85370565, 0.8999035 ,\n",
      "       0.90363881, 0.9186982 , 0.91778059, 0.90876506, 0.90269285,\n",
      "       0.91579011, 0.88312499, 0.90442537, 0.90371996, 0.9051647 ,\n",
      "       0.88975403, 0.91146854, 0.91886912, 0.90720222, 0.91760429,\n",
      "       0.74505555, 0.91893104, 0.85386235, 0.57587514, 0.91895041,\n",
      "       0.91761346, 0.9160948 , 0.91645448, 0.90090657, 0.75306215,\n",
      "       0.63174228, 0.90495234, 0.58047846, 0.91418009, 0.8952023 ,\n",
      "       0.89181183, 0.60413205, 0.87296314, 0.87405984, 0.84883282,\n",
      "       0.91040492, 0.90768759, 0.90326979, 0.90111543, 0.90853352,\n",
      "       0.9184835 , 0.9026652 , 0.91986943, 0.90254014, 0.89952047,\n",
      "       0.90753474, 0.9053087 , 0.91864342, 0.88003578, 0.9010352 ,\n",
      "       0.90096845, 0.88163834, 0.91361491, 0.90531854, 0.91857701,\n",
      "       0.91143779, 0.91487296, 0.89430164, 0.91122082, 0.91492015,\n",
      "       0.90578954, 0.90374687, 0.9185185 , 0.896385  , 0.90728095,\n",
      "       0.91705817, 0.90613002, 0.91690567, 0.90769108, 0.90784294,\n",
      "       0.91659607, 0.90997196, 0.90376446, 0.90187326, 0.92010495,\n",
      "       0.91730289, 0.89337385, 0.90290226, 0.90829644, 0.91902125,\n",
      "       0.89918252, 0.90567442, 0.92003505, 0.91967787, 0.88923883,\n",
      "       0.90424842, 0.9168022 , 0.8961142 , 0.90823585, 0.68703274,\n",
      "       0.91884333, 0.89995856, 0.90598531, 0.90327054, 0.90503108]), array([0.90868777, 0.91041771, 0.80178629, 0.90718198, 0.87316513,\n",
      "       0.70368996, 0.57847784, 0.55478801, 0.91334627, 0.91017907,\n",
      "       0.90966697, 0.88515477, 0.90610548, 0.91509487, 0.90909312,\n",
      "       0.91301831, 0.89177913, 0.84335996, 0.84179286, 0.89327116,\n",
      "       0.91054679, 0.91035854, 0.85347786, 0.90191521, 0.90938469,\n",
      "       0.862963  , 0.90841396, 0.89945198, 0.91687882, 0.90831258,\n",
      "       0.89064108, 0.9004466 , 0.90278449, 0.91446206, 0.91004396,\n",
      "       0.90552093, 0.91104669, 0.91349754, 0.89278225, 0.90806863,\n",
      "       0.89082616, 0.91452476, 0.91601948, 0.9112358 , 0.90578942,\n",
      "       0.91453692, 0.91395431, 0.90457243, 0.90639818, 0.88644986,\n",
      "       0.89657996, 0.91046311, 0.91805174, 0.91671824, 0.9075742 ,\n",
      "       0.91450692, 0.91360268, 0.90795542, 0.91337615, 0.91019731,\n",
      "       0.90389427, 0.91102077, 0.91187192, 0.91154595, 0.88158704,\n",
      "       0.91322051, 0.89849322, 0.91169333, 0.86346387, 0.90572237,\n",
      "       0.89659647, 0.91885998, 0.88363528, 0.85733174, 0.88914718,\n",
      "       0.84150591, 0.90937807, 0.90553165, 0.91130982, 0.89802474,\n",
      "       0.91447314, 0.91399893, 0.77330006, 0.86143126, 0.90846665,\n",
      "       0.90591538, 0.91052733, 0.89831265, 0.90070314, 0.91129046,\n",
      "       0.91276627, 0.90952276, 0.89714186, 0.90209314, 0.88761376,\n",
      "       0.90181982, 0.91422085, 0.91780083, 0.90532671, 0.90854045,\n",
      "       0.91108705, 0.92236864, 0.87437313, 0.90730936, 0.91855528,\n",
      "       0.90069323, 0.91285011, 0.90702109, 0.89896898, 0.92283371,\n",
      "       0.89243916, 0.9092378 , 0.91952105, 0.90496433, 0.90534826,\n",
      "       0.91561249, 0.91879862, 0.91767666, 0.92105698, 0.91672334,\n",
      "       0.90940744, 0.90703283, 0.90529419, 0.91272691, 0.91003744,\n",
      "       0.91808998, 0.91735313, 0.91851728, 0.84651317, 0.90062924,\n",
      "       0.91975207, 0.90956142, 0.91451855, 0.9156138 , 0.91160311,\n",
      "       0.73773404, 0.89374789, 0.87690872, 0.91692409, 0.90967079,\n",
      "       0.90203834, 0.90895301, 0.90785688, 0.91714891, 0.913094  ,\n",
      "       0.91665931, 0.89440216, 0.91343269, 0.89552714, 0.91925085])]\n"
     ]
    }
   ],
   "source": [
    "print(iteration_scores)"
   ]
  },
  {
   "cell_type": "code",
   "execution_count": 332,
   "metadata": {},
   "outputs": [],
   "source": [
    "gb_scores_banana_search = dict['banana'][\"search_results\"].cv_results_['mean_test_score']\n",
    "gb_scores_banana_bayes = dict['banana'][\"bayes_results\"].cv_results_['mean_test_score']\n",
    "gb_scores_wind_search = dict['wind'][\"search_results\"].cv_results_['mean_test_score']\n",
    "gb_scores_wind_bayes = dict['wind'][\"bayes_results\"].cv_results_['mean_test_score']\n",
    "gb_scores_credit_search = dict['credit'][\"search_results\"].cv_results_['mean_test_score']\n",
    "gb_scores_credit_bayes = dict['credit'][\"bayes_results\"].cv_results_['mean_test_score']\n",
    "gb_scores_elevators_search = dict['elevators'][\"search_results\"].cv_results_['mean_test_score']\n",
    "gb_scores_elevators_bayes = dict['elevators'][\"bayes_results\"].cv_results_['mean_test_score']\n",
    "\n",
    "def not_descending_list(a):\n",
    "    for i in range(1,len(a)):\n",
    "        a[i] = max(a[i], a[i-1])\n",
    "\n",
    "not_descending_list(gb_scores_banana_search)\n",
    "not_descending_list(gb_scores_banana_bayes)\n",
    "not_descending_list(gb_scores_wind_search)\n",
    "not_descending_list(gb_scores_wind_bayes)\n",
    "not_descending_list(gb_scores_credit_search)\n",
    "not_descending_list(gb_scores_credit_bayes)\n",
    "not_descending_list(gb_scores_elevators_search)\n",
    "not_descending_list(gb_scores_elevators_bayes)"
   ]
  },
  {
   "cell_type": "markdown",
   "id": "276d2700a4c26b5c",
   "metadata": {},
   "source": [
    "# SVM"
   ]
  },
  {
   "cell_type": "code",
   "execution_count": 333,
   "id": "8356e77747fcd249",
   "metadata": {},
   "outputs": [
    {
     "name": "stderr",
     "output_type": "stream",
     "text": [
      "Processing keys: 100%|██████████| 4/4 [04:18<00:00, 64.53s/it] \n"
     ]
    }
   ],
   "source": [
    "from scipy.stats import loguniform\n",
    "\n",
    "C_values = uniform(loc=0.001, scale=(1000-0.001))\n",
    "gamma_values = uniform(loc = 0.001, scale = (1000-0.001))\n",
    "\n",
    "\n",
    "parameters_svm = {\n",
    "    'model__C' : C_values, \n",
    "    'model__gamma' : gamma_values\n",
    "}\n",
    "\n",
    "for key in tqdm(dict.keys(), desc=\"Processing keys\"):\n",
    "\n",
    "    X = dict[key][\"X\"]\n",
    "    y = dict[key][\"y\"]\n",
    "    \n",
    "    X_train, X_test, y_train, y_test = train_test_split(X, y, test_size=0.2, random_state=0)\n",
    "    \n",
    "    basic_model = svm_pipeline.fit(X_train, y_train)\n",
    "    y_pred_basic = basic_model.predict(X_test)\n",
    "    \n",
    "\n",
    "    random_svm = RandomizedSearchCV(estimator=svm_pipeline, \n",
    "                                    param_distributions=parameters_svm, \n",
    "                                    n_iter=150, \n",
    "                                    random_state=0, \n",
    "                                    n_jobs=-1, \n",
    "                                    cv=n_cv_folds, \n",
    "                                    scoring=scoring)\n",
    "        \n",
    "    random_svm.fit(X_train, y_train)\n",
    "    y_pred = random_svm.predict(X_test)\n",
    "\n",
    "    dict[key][\"search_results\"] = random_svm\n",
    "    dict[key][\"basic_score\"] = roc_auc_score(y_test, y_pred_basic)\n",
    "    dict[key][\"search_score\"] = roc_auc_score(y_test, y_pred)\n"
   ]
  },
  {
   "cell_type": "code",
   "execution_count": 334,
   "id": "ea344e2f37ed4a21",
   "metadata": {},
   "outputs": [
    {
     "name": "stdout",
     "output_type": "stream",
     "text": [
      "banana grid best cv score: 0.9751202152537237\n",
      "banana grid best params: {'model__C': 729.9908324334956, 'model__gamma': 171.63050563176327}\n",
      "credit grid best cv score: 0.7185539598529999\n",
      "credit grid best params: {'model__C': 64.14843220128802, 'model__gamma': 692.4724268979005}\n",
      "wind grid best cv score: 0.9045647448898942\n",
      "wind grid best params: {'model__C': 828.9402002773339, 'model__gamma': 4.696471497070873}\n",
      "elevators grid best cv score: 0.9012807620780546\n",
      "elevators grid best params: {'model__C': 828.9402002773339, 'model__gamma': 4.696471497070873}\n"
     ]
    }
   ],
   "source": [
    "for key in dict.keys():\n",
    "    print(f\"{key} grid best cv score: {dict[key]['search_results'].best_score_}\")\n",
    "    print(f\"{key} grid best params: {dict[key]['search_results'].best_params_}\")"
   ]
  },
  {
   "cell_type": "code",
   "execution_count": 335,
   "metadata": {},
   "outputs": [
    {
     "name": "stdout",
     "output_type": "stream",
     "text": [
      "banana basic test score: 0.9599039945996961\n",
      "banana Random Search test score: 0.9055118725428306\n",
      "credit basic test score: 0.5\n",
      "credit Random Search test score: 0.6927272727272726\n",
      "wind basic test score: 0.824746682219846\n",
      "wind Random Search test score: 0.8254896242703661\n",
      "elevators basic test score: 0.8242475429975431\n",
      "elevators Random Search test score: 0.8202357186732187\n"
     ]
    }
   ],
   "source": [
    "for key in dict.keys():\n",
    "    print(f\"{key} basic test score: {dict[key]['basic_score']}\")\n",
    "    print(f\"{key} Random Search test score: {dict[key]['search_score']}\")"
   ]
  },
  {
   "cell_type": "code",
   "execution_count": 336,
   "id": "39b74010793fe636",
   "metadata": {},
   "outputs": [
    {
     "name": "stdout",
     "output_type": "stream",
     "text": [
      "banana difference: 0.019806855558016423\n",
      "credit difference: 0.06761894892572307\n",
      "wind difference: 0.0\n",
      "elevators difference: 0.0\n"
     ]
    }
   ],
   "source": [
    "scores_sum = {}\n",
    "for key in dict.keys():\n",
    "    for param in dict[key]['search_results'].cv_results_['params']:\n",
    "        score = dict[key]['search_results'].cv_results_['mean_test_score'][dict[key]['search_results'].cv_results_['params'].index(param)]\n",
    "        if str(param) in scores_sum:\n",
    "            scores_sum[str(param)] += float(score)\n",
    "        else:\n",
    "            scores_sum[str(param)] = float(score)\n",
    "\n",
    "best_params = max(scores_sum, key=scores_sum.get)\n",
    "best_params = ast.literal_eval(best_params)\n",
    "\n",
    "for key in dict.keys():\n",
    "    \n",
    "    tunability = dict[key]['search_results'].best_score_ -  dict[key]['search_results'].cv_results_['mean_test_score'][dict[key]['search_results'].cv_results_['params'].index(best_params)]\n",
    "    print(f\"{key} difference: {tunability}\")"
   ]
  },
  {
   "cell_type": "code",
   "execution_count": 337,
   "metadata": {},
   "outputs": [
    {
     "name": "stdout",
     "output_type": "stream",
     "text": [
      "{'model__C': 828.9402002773339, 'model__gamma': 4.696471497070873}\n"
     ]
    }
   ],
   "source": [
    "print(best_params)"
   ]
  },
  {
   "cell_type": "code",
   "execution_count": 338,
   "id": "a3e556e6f3b163ce",
   "metadata": {
    "ExecuteTime": {
     "end_time": "2024-11-14T11:25:03.600427Z",
     "start_time": "2024-11-14T11:25:03.506547Z"
    }
   },
   "outputs": [],
   "source": [
    "tunability = [dict[key]['search_results'].best_score_ - dict[key]['search_results'].cv_results_['mean_test_score'][dict[key]['search_results'].cv_results_['params'].index(best_params)] for key in dict.keys()]\n",
    "with open('tunability_svm_random.csv', mode='w', newline='') as file:\n",
    "    writer = csv.writer(file)\n",
    "    for value in tunability:\n",
    "        writer.writerow([value])"
   ]
  },
  {
   "cell_type": "code",
   "execution_count": 339,
   "id": "464e33ecfab56655",
   "metadata": {
    "ExecuteTime": {
     "end_time": "2024-11-14T11:25:11.121291Z",
     "start_time": "2024-11-14T11:25:11.091354Z"
    }
   },
   "outputs": [],
   "source": [
    "data = {}\n",
    "\n",
    "for key in dict.keys():\n",
    "    split_test_score_list = []\n",
    "    \n",
    "    for i in range(n_cv_folds): \n",
    "        split_scores = dict[key]['search_results'].cv_results_[f\"split{i}_test_score\"].tolist()\n",
    "        split_test_score_list += split_scores \n",
    "    \n",
    "    data[key] = split_test_score_list\n",
    "\n",
    "df_scores = pd.DataFrame(data)\n",
    "df_scores.to_csv('dane/svm_random_scores.csv', index=False)"
   ]
  },
  {
   "cell_type": "markdown",
   "id": "26c62872",
   "metadata": {},
   "source": [
    "# SVM\n"
   ]
  },
  {
   "cell_type": "code",
   "execution_count": 340,
   "id": "fc0f8133",
   "metadata": {
    "ExecuteTime": {
     "end_time": "2024-11-14T12:07:22.595364Z",
     "start_time": "2024-11-14T12:07:17.610890Z"
    }
   },
   "outputs": [
    {
     "name": "stderr",
     "output_type": "stream",
     "text": [
      "Processing keys: 100%|██████████| 4/4 [07:15<00:00, 108.84s/it]\n"
     ]
    }
   ],
   "source": [
    "n = 15\n",
    "\n",
    "\n",
    "C_values = uniform(loc=0.001, scale=(1000-0.001)).rvs(n)\n",
    "gamma_values = uniform(loc=0.001, scale=(1000-0.001)).rvs(n)\n",
    "\n",
    "\n",
    "parameters_svm = {\n",
    "    'model__C' : C_values, \n",
    "    'model__gamma' : gamma_values\n",
    "}\n",
    "for key in tqdm(dict.keys(), desc=\"Processing keys\"):\n",
    "\n",
    "    X = dict[key][\"X\"]\n",
    "    y = dict[key][\"y\"]\n",
    "    \n",
    "    X_train, X_test, y_train, y_test = train_test_split(X, y, test_size=0.2, random_state=0)\n",
    "    \n",
    "    basic_model = svm_pipeline.fit(X_train, y_train)\n",
    "    y_pred_basic = basic_model.predict(X_test)\n",
    "\n",
    "    grid_clsf = GridSearchCV(estimator=svm_pipeline,\n",
    "                             param_grid=parameters_svm,\n",
    "                             n_jobs=-1,\n",
    "                             scoring=scoring, \n",
    "                             cv=n_cv_folds)\n",
    "    \n",
    "    grid_clsf.fit(X_train, y_train)\n",
    "    y_pred_grid = grid_clsf.predict(X_test)\n",
    "\n",
    "    \n",
    "\n",
    "    dict[key][\"search_results\"] = grid_clsf\n",
    "    dict[key][\"basic_score\"] = roc_auc_score(y_test, y_pred_basic)\n",
    "    dict[key][\"search_score\"] = roc_auc_score(y_test, y_pred_grid)\n",
    "    "
   ]
  },
  {
   "cell_type": "code",
   "execution_count": 341,
   "id": "13858821",
   "metadata": {
    "ExecuteTime": {
     "end_time": "2024-11-14T12:08:50.790461Z",
     "start_time": "2024-11-14T12:08:50.775292Z"
    }
   },
   "outputs": [],
   "source": [
    "svm_parameters = {\n",
    "    'model__C' : Real(0.001, 1000.0), \n",
    "    'model__gamma' : Real(0.001, 1000.0)\n",
    "}\n",
    "\n",
    "# TODO: sprawdzić "
   ]
  },
  {
   "cell_type": "code",
   "execution_count": 342,
   "id": "86645443",
   "metadata": {
    "ExecuteTime": {
     "end_time": "2024-11-14T12:11:14.319609Z",
     "start_time": "2024-11-14T12:08:51.312471Z"
    }
   },
   "outputs": [
    {
     "name": "stderr",
     "output_type": "stream",
     "text": [
      "Processing keys: 100%|██████████| 4/4 [25:28<00:00, 382.04s/it]\n"
     ]
    }
   ],
   "source": [
    "for key in tqdm(dict.keys(), desc=\"Processing keys\"):\n",
    "\n",
    "    X = dict[key][\"X\"]\n",
    "    y = dict[key][\"y\"]\n",
    "        \n",
    "    X_train, X_test, y_train, y_test = train_test_split(X, y, test_size=0.2, random_state=0)\n",
    "\n",
    "    bayes = BayesSearchCV(\n",
    "        svm_pipeline,\n",
    "        svm_parameters,\n",
    "        n_iter=150,\n",
    "        cv=n_cv_folds,\n",
    "        n_jobs=-1,\n",
    "        random_state=0,\n",
    "        scoring=scoring\n",
    ")\n",
    "        \n",
    "    bayes.fit(X_train, y_train)\n",
    "    y_pred_bayes = bayes.predict(X_test)\n",
    "        \n",
    "    dict[key][\"bayes_results\"] = bayes\n",
    "    dict[key][\"bayes_score\"] = roc_auc_score(y_test, y_pred_bayes) "
   ]
  },
  {
   "cell_type": "code",
   "execution_count": 343,
   "metadata": {},
   "outputs": [],
   "source": [
    "svm_scores_banana_bayes = dict['banana'][\"bayes_results\"].cv_results_['mean_test_score']\n",
    "svm_scores_wind_bayes = dict['wind'][\"bayes_results\"].cv_results_['mean_test_score']\n",
    "svm_scores_credit_bayes = dict['credit'][\"bayes_results\"].cv_results_['mean_test_score']\n",
    "svm_scores_elevators_bayes = dict['elevators'][\"bayes_results\"].cv_results_['mean_test_score']\n",
    "\n",
    "not_descending_list(svm_scores_banana_bayes)\n",
    "not_descending_list(svm_scores_wind_bayes)\n",
    "not_descending_list(svm_scores_credit_bayes)\n",
    "not_descending_list(svm_scores_elevators_bayes)"
   ]
  },
  {
   "cell_type": "code",
   "execution_count": 344,
   "id": "0c85efcf",
   "metadata": {
    "ExecuteTime": {
     "end_time": "2024-11-14T12:04:09.669548Z",
     "start_time": "2024-11-14T12:04:09.591404Z"
    }
   },
   "outputs": [
    {
     "name": "stdout",
     "output_type": "stream",
     "text": [
      "banana rs best cv score: 0.9683384408188956\n",
      "banana rs best params: {'model__C': 340.1570329472851, 'model__gamma': 30.783141760968434}\n",
      "banana bayes best cv score: 0.9883750104603942\n",
      "banana bayes best params: OrderedDict([('model__C', 2.943955949227207), ('model__gamma', 3.57123450968366)])\n",
      "credit rs best cv score: 0.7174608109269398\n",
      "credit rs best params: {'model__C': 582.9471819421768, 'model__gamma': 344.5657087373566}\n",
      "credit bayes best cv score: 0.7114196360719768\n",
      "credit bayes best params: OrderedDict([('model__C', 642.8564044842809), ('model__gamma', 998.5052954602633)])\n",
      "wind rs best cv score: 0.8766340675966494\n",
      "wind rs best params: {'model__C': 610.2015707775013, 'model__gamma': 30.783141760968434}\n",
      "wind bayes best cv score: 0.9216169244247842\n",
      "wind bayes best params: OrderedDict([('model__C', 700.7425044075942), ('model__gamma', 0.001)])\n",
      "elevators rs best cv score: 0.8749402955744591\n",
      "elevators rs best params: {'model__C': 582.9471819421768, 'model__gamma': 30.783141760968434}\n",
      "elevators bayes best cv score: 0.939861072920443\n",
      "elevators bayes best params: OrderedDict([('model__C', 541.3539360617532), ('model__gamma', 0.027053754885891214)])\n"
     ]
    }
   ],
   "source": [
    "for key in dict.keys():\n",
    "    print(f\"{key} rs best cv score: {dict[key]['search_results'].best_score_}\")\n",
    "    print(f\"{key} rs best params: {dict[key]['search_results'].best_params_}\")\n",
    "    print(f\"{key} bayes best cv score: {dict[key]['bayes_results'].best_score_}\")\n",
    "    print(f\"{key} bayes best params: {dict[key]['bayes_results'].best_params_}\")\n",
    "    \n",
    "# TODO: zmienic na tabelke"
   ]
  },
  {
   "cell_type": "code",
   "execution_count": 345,
   "id": "1ba6fc06",
   "metadata": {},
   "outputs": [
    {
     "name": "stdout",
     "output_type": "stream",
     "text": [
      "banana basic test score: 0.898641173566013\n",
      "banana rs test score: 0.9068275715508997\n",
      "banana bayes test score: 0.9736922701901983\n",
      "credit basic test score: 0.5\n",
      "credit rs test score: 0.6836363636363636\n",
      "credit bayes test score: 0.6945454545454546\n",
      "wind basic test score: 0.824746682219846\n",
      "wind rs test score: 0.8065573315187957\n",
      "wind bayes test score: 0.8255254984192231\n",
      "elevators basic test score: 0.8182969901719903\n",
      "elevators rs test score: 0.7958768427518427\n",
      "elevators bayes test score: 0.8396421990171989\n"
     ]
    }
   ],
   "source": [
    "for key in dict.keys():\n",
    "    print(f\"{key} basic test score: {dict[key]['basic_score']}\")\n",
    "    print(f\"{key} rs test score: {dict[key]['search_score']}\")\n",
    "    print(f\"{key} bayes test score: {dict[key]['bayes_score']}\")"
   ]
  },
  {
   "cell_type": "code",
   "execution_count": 346,
   "id": "b4fa31c2",
   "metadata": {},
   "outputs": [
    {
     "name": "stdout",
     "output_type": "stream",
     "text": [
      "banana difference: 0.0\n",
      "credit difference: 0.055083753321572115\n",
      "wind difference: 0.0023774008664930735\n",
      "elevators difference: 0.0067931403765937315\n"
     ]
    }
   ],
   "source": [
    "scores_sum = {}\n",
    "for key in dict.keys():\n",
    "    for param in dict[key]['search_results'].cv_results_['params']:\n",
    "        score = dict[key]['search_results'].cv_results_['mean_test_score'][dict[key]['search_results'].cv_results_['params'].index(param)]\n",
    "        if str(param) in scores_sum:\n",
    "            scores_sum[str(param)] += float(score)\n",
    "        else:\n",
    "            scores_sum[str(param)] = float(score)\n",
    "\n",
    "best_params = max(scores_sum, key=scores_sum.get)\n",
    "best_params = ast.literal_eval(best_params)\n",
    "\n",
    "for key in dict.keys():\n",
    "    \n",
    "    tunability = dict[key]['search_results'].best_score_ -  dict[key]['search_results'].cv_results_['mean_test_score'][dict[key]['search_results'].cv_results_['params'].index(best_params)]\n",
    "    print(f\"{key} difference: {tunability}\")"
   ]
  },
  {
   "cell_type": "code",
   "execution_count": 347,
   "metadata": {},
   "outputs": [
    {
     "name": "stdout",
     "output_type": "stream",
     "text": [
      "{'model__C': 340.1570329472851, 'model__gamma': 30.783141760968434}\n"
     ]
    }
   ],
   "source": [
    "print(best_params)"
   ]
  },
  {
   "cell_type": "code",
   "execution_count": 348,
   "id": "1c525511",
   "metadata": {
    "ExecuteTime": {
     "end_time": "2024-11-14T11:25:38.988927Z",
     "start_time": "2024-11-14T11:25:38.925521Z"
    }
   },
   "outputs": [],
   "source": [
    "tunability = [dict[key]['search_results'].best_score_ - dict[key]['search_results'].cv_results_['mean_test_score'][dict[key]['search_results'].cv_results_['params'].index(best_params)] for key in dict.keys()]\n",
    "with open('tunability_svm_grid.csv', mode='w', newline='') as file:\n",
    "    writer = csv.writer(file)\n",
    "    for value in tunability:\n",
    "        writer.writerow([value])"
   ]
  },
  {
   "cell_type": "code",
   "execution_count": 349,
   "id": "78fef7ee",
   "metadata": {
    "ExecuteTime": {
     "end_time": "2024-11-14T11:25:44.169009Z",
     "start_time": "2024-11-14T11:25:44.153632Z"
    }
   },
   "outputs": [],
   "source": [
    "data = {}\n",
    "\n",
    "for key in dict.keys():\n",
    "    split_test_score_list = []\n",
    "    \n",
    "    for i in range(n_cv_folds): \n",
    "        split_scores = dict[key]['search_results'].cv_results_[f\"split{i}_test_score\"].tolist()\n",
    "        split_test_score_list += split_scores \n",
    "    \n",
    "    data[key] = split_test_score_list\n",
    "\n",
    "df_scores = pd.DataFrame(data)\n",
    "df_scores.to_csv('dane/svm_grid_scores.csv', index=False)"
   ]
  },
  {
   "cell_type": "code",
   "execution_count": 350,
   "id": "7ef88749",
   "metadata": {
    "ExecuteTime": {
     "end_time": "2024-11-14T12:11:38.888587Z",
     "start_time": "2024-11-14T12:11:38.863511Z"
    }
   },
   "outputs": [],
   "source": [
    "iteration_scores = [dict[key][\"bayes_results\"].cv_results_['mean_test_score'] for key in dict.keys()]\n",
    "iteration_scores.to_csv('dane/svm_iterations.csvrations.csv', index=False) "
   ]
  },
  {
   "cell_type": "markdown",
   "id": "4cb55f76",
   "metadata": {},
   "source": [
    "# KNN"
   ]
  },
  {
   "cell_type": "code",
   "execution_count": 371,
   "id": "a6f378f9",
   "metadata": {},
   "outputs": [],
   "source": [
    "n=45\n",
    "\n",
    "param_knn = {\n",
    "    'model__n_neighbors': list(range(1, n)),\n",
    "    'model__p': [ 1, 1.5, 1.25, 2 ]\n",
    "}"
   ]
  },
  {
   "cell_type": "code",
   "execution_count": 372,
   "id": "fdd889bd",
   "metadata": {},
   "outputs": [
    {
     "name": "stderr",
     "output_type": "stream",
     "text": [
      "Processing keys: 100%|██████████| 4/4 [02:29<00:00, 37.37s/it]\n"
     ]
    }
   ],
   "source": [
    "for key in tqdm(dict.keys(), desc=\"Processing keys\"):\n",
    "\n",
    "    X = dict[key][\"X\"]\n",
    "    y = dict[key][\"y\"]\n",
    "    \n",
    "    X_train, X_test, y_train, y_test = train_test_split(X, y, test_size=0.2, random_state=0)\n",
    "    \n",
    "    basic_model = knn_pipeline.fit(X_train, y_train)\n",
    "    y_pred_basic = basic_model.predict(X_test)\n",
    "\n",
    "\n",
    "\n",
    "    grid_knn = GridSearchCV(estimator=knn_pipeline,\n",
    "                             param_grid=param_knn,\n",
    "                             n_jobs=-1, \n",
    "                             scoring=scoring, \n",
    "                             cv=n_cv_folds)\n",
    "    \n",
    "    grid_knn.fit(X_train, y_train)\n",
    "    y_pred_grid = grid_knn.predict(X_test)\n",
    "\n",
    "    dict[key][\"search_results\"] = grid_knn\n",
    "    dict[key][\"basic_score\"] = roc_auc_score(y_test, y_pred_basic)\n",
    "    dict[key][\"search_score\"] = roc_auc_score(y_test, y_pred_grid) \n",
    "   \n",
    "\n",
    "    params_dist = grid_knn.cv_results_['params']\n"
   ]
  },
  {
   "cell_type": "code",
   "execution_count": 373,
   "id": "96b9eb89",
   "metadata": {},
   "outputs": [],
   "source": [
    "knn_parameters = {\n",
    "    'model__n_neighbors' : Integer(1, 45), \n",
    "    'model__p' : Real(1, 2)\n",
    "}"
   ]
  },
  {
   "cell_type": "code",
   "execution_count": 374,
   "id": "2fd5f817",
   "metadata": {},
   "outputs": [
    {
     "name": "stderr",
     "output_type": "stream",
     "text": [
      "Processing keys: 100%|██████████| 4/4 [24:37<00:00, 369.44s/it]\n"
     ]
    }
   ],
   "source": [
    "for key in tqdm(dict.keys(), desc=\"Processing keys\"):\n",
    "\n",
    "    X = dict[key][\"X\"]\n",
    "    y = dict[key][\"y\"]\n",
    "        \n",
    "    X_train, X_test, y_train, y_test = train_test_split(X, y, test_size=0.2, random_state=0)\n",
    "\n",
    "    bayes = BayesSearchCV(\n",
    "        knn_pipeline,\n",
    "        knn_parameters,\n",
    "        n_iter=150,\n",
    "        cv=n_cv_folds,\n",
    "        n_jobs=-1,\n",
    "        random_state=0,\n",
    "        scoring=scoring\n",
    ")\n",
    "        \n",
    "    bayes.fit(X_train, y_train)\n",
    "    y_pred_bayes = bayes.predict(X_test)\n",
    "        \n",
    "    dict[key][\"bayes_results\"] = bayes\n",
    "    dict[key][\"bayes_score\"] = roc_auc_score(y_test, y_pred_bayes) "
   ]
  },
  {
   "cell_type": "code",
   "execution_count": 375,
   "id": "db51f89e",
   "metadata": {},
   "outputs": [
    {
     "name": "stdout",
     "output_type": "stream",
     "text": [
      "banana grid best cv score: 0.9899703088664111\n",
      "banana grid best params: {'model__n_neighbors': 37, 'model__p': 1.25}\n",
      "banana bayes best cv score: 0.9923428559358748\n",
      "banana bayes best params: OrderedDict([('model__n_neighbors', 41), ('model__p', 1.9979553046526242)])\n",
      "credit grid best cv score: 0.6786196920142417\n",
      "credit grid best params: {'model__n_neighbors': 2, 'model__p': 1}\n",
      "credit bayes best cv score: 0.6947923985920074\n",
      "credit bayes best params: OrderedDict([('model__n_neighbors', 1), ('model__p', 1.0)])\n",
      "wind grid best cv score: 0.921260649817782\n",
      "wind grid best params: {'model__n_neighbors': 41, 'model__p': 1.25}\n",
      "wind bayes best cv score: 0.9228569086106561\n",
      "wind bayes best params: OrderedDict([('model__n_neighbors', 43), ('model__p', 1.997456919501304)])\n",
      "elevators grid best cv score: 0.866545977136035\n",
      "elevators grid best params: {'model__n_neighbors': 20, 'model__p': 1}\n",
      "elevators bayes best cv score: 0.8680220788984192\n",
      "elevators bayes best params: OrderedDict([('model__n_neighbors', 18), ('model__p', 1.0023402999516802)])\n"
     ]
    }
   ],
   "source": [
    "for key in dict.keys():\n",
    "    print(f\"{key} grid best cv score: {dict[key]['search_results'].best_score_}\")\n",
    "    print(f\"{key} grid best params: {dict[key]['search_results'].best_params_}\")\n",
    "    print(f\"{key} bayes best cv score: {dict[key]['bayes_results'].best_score_}\")\n",
    "    print(f\"{key} bayes best params: {dict[key]['bayes_results'].best_params_}\")\n",
    "    \n"
   ]
  },
  {
   "cell_type": "code",
   "execution_count": 376,
   "metadata": {},
   "outputs": [
    {
     "data": {
      "text/plain": [
       "{'model__n_neighbors': 20, 'model__p': 1}"
      ]
     },
     "execution_count": 376,
     "metadata": {},
     "output_type": "execute_result"
    }
   ],
   "source": [
    "dict[key]['search_results'].best_params_"
   ]
  },
  {
   "cell_type": "code",
   "execution_count": 377,
   "id": "a794415b",
   "metadata": {},
   "outputs": [
    {
     "name": "stdout",
     "output_type": "stream",
     "text": [
      "banana basic test score: 0.9718312280065754\n",
      "banana grid test score: 0.9755908144833147\n",
      "banana bayes test score: 0.9718499790613222\n",
      "credit basic test score: 0.5374025974025974\n",
      "credit grid test score: 0.5693506493506494\n",
      "credit bayes test score: 0.6545454545454545\n",
      "wind basic test score: 0.8165384455152686\n",
      "wind grid test score: 0.8234042947142336\n",
      "wind bayes test score: 0.8272266274134045\n",
      "elevators basic test score: 0.7561041154791154\n",
      "elevators grid test score: 0.7729768120393119\n",
      "elevators bayes test score: 0.7749347358722359\n"
     ]
    }
   ],
   "source": [
    "for key in dict.keys():\n",
    "    print(f\"{key} basic test score: {dict[key]['basic_score']}\")\n",
    "    print(f\"{key} grid test score: {dict[key]['search_score']}\")\n",
    "    print(f\"{key} bayes test score: {dict[key]['bayes_score']}\")"
   ]
  },
  {
   "cell_type": "code",
   "execution_count": 378,
   "id": "2b723c25",
   "metadata": {},
   "outputs": [
    {
     "name": "stdout",
     "output_type": "stream",
     "text": [
      "banana difference: 0.013043169911146957\n",
      "credit difference: 0.0468305842428165\n",
      "wind difference: 0.020387248317108586\n",
      "elevators difference: 0.01765182893163697\n"
     ]
    }
   ],
   "source": [
    "scores_sum = {}\n",
    "for key in dict.keys():\n",
    "    for param in dict[key]['search_results'].cv_results_['params']:\n",
    "        score = dict[key]['search_results'].cv_results_['mean_test_score'][dict[key]['search_results'].cv_results_['params'].index(param)]\n",
    "        if str(param) in scores_sum:\n",
    "            scores_sum[str(param)] += float(score)\n",
    "        else:\n",
    "            scores_sum[str(param)] = float(score)\n",
    "\n",
    "best_params = max(scores_sum, key=scores_sum.get)\n",
    "best_params = ast.literal_eval(best_params)\n",
    "\n",
    "for key in dict.keys():\n",
    "    \n",
    "    tunability = dict[key]['search_results'].best_score_ -  dict[key]['search_results'].cv_results_['mean_test_score'][dict[key]['search_results'].cv_results_['params'].index(best_params)]\n",
    "    print(f\"{key} difference: {tunability}\")"
   ]
  },
  {
   "cell_type": "code",
   "execution_count": 379,
   "metadata": {},
   "outputs": [
    {
     "data": {
      "text/plain": [
       "[{'model__n_neighbors': 1, 'model__p': 1},\n",
       " {'model__n_neighbors': 1, 'model__p': 1.5},\n",
       " {'model__n_neighbors': 1, 'model__p': 1.25},\n",
       " {'model__n_neighbors': 1, 'model__p': 2},\n",
       " {'model__n_neighbors': 2, 'model__p': 1},\n",
       " {'model__n_neighbors': 2, 'model__p': 1.5},\n",
       " {'model__n_neighbors': 2, 'model__p': 1.25},\n",
       " {'model__n_neighbors': 2, 'model__p': 2},\n",
       " {'model__n_neighbors': 3, 'model__p': 1},\n",
       " {'model__n_neighbors': 3, 'model__p': 1.5},\n",
       " {'model__n_neighbors': 3, 'model__p': 1.25},\n",
       " {'model__n_neighbors': 3, 'model__p': 2},\n",
       " {'model__n_neighbors': 4, 'model__p': 1},\n",
       " {'model__n_neighbors': 4, 'model__p': 1.5},\n",
       " {'model__n_neighbors': 4, 'model__p': 1.25},\n",
       " {'model__n_neighbors': 4, 'model__p': 2},\n",
       " {'model__n_neighbors': 5, 'model__p': 1},\n",
       " {'model__n_neighbors': 5, 'model__p': 1.5},\n",
       " {'model__n_neighbors': 5, 'model__p': 1.25},\n",
       " {'model__n_neighbors': 5, 'model__p': 2},\n",
       " {'model__n_neighbors': 6, 'model__p': 1},\n",
       " {'model__n_neighbors': 6, 'model__p': 1.5},\n",
       " {'model__n_neighbors': 6, 'model__p': 1.25},\n",
       " {'model__n_neighbors': 6, 'model__p': 2},\n",
       " {'model__n_neighbors': 7, 'model__p': 1},\n",
       " {'model__n_neighbors': 7, 'model__p': 1.5},\n",
       " {'model__n_neighbors': 7, 'model__p': 1.25},\n",
       " {'model__n_neighbors': 7, 'model__p': 2},\n",
       " {'model__n_neighbors': 8, 'model__p': 1},\n",
       " {'model__n_neighbors': 8, 'model__p': 1.5},\n",
       " {'model__n_neighbors': 8, 'model__p': 1.25},\n",
       " {'model__n_neighbors': 8, 'model__p': 2},\n",
       " {'model__n_neighbors': 9, 'model__p': 1},\n",
       " {'model__n_neighbors': 9, 'model__p': 1.5},\n",
       " {'model__n_neighbors': 9, 'model__p': 1.25},\n",
       " {'model__n_neighbors': 9, 'model__p': 2},\n",
       " {'model__n_neighbors': 10, 'model__p': 1},\n",
       " {'model__n_neighbors': 10, 'model__p': 1.5},\n",
       " {'model__n_neighbors': 10, 'model__p': 1.25},\n",
       " {'model__n_neighbors': 10, 'model__p': 2},\n",
       " {'model__n_neighbors': 11, 'model__p': 1},\n",
       " {'model__n_neighbors': 11, 'model__p': 1.5},\n",
       " {'model__n_neighbors': 11, 'model__p': 1.25},\n",
       " {'model__n_neighbors': 11, 'model__p': 2},\n",
       " {'model__n_neighbors': 12, 'model__p': 1},\n",
       " {'model__n_neighbors': 12, 'model__p': 1.5},\n",
       " {'model__n_neighbors': 12, 'model__p': 1.25},\n",
       " {'model__n_neighbors': 12, 'model__p': 2},\n",
       " {'model__n_neighbors': 13, 'model__p': 1},\n",
       " {'model__n_neighbors': 13, 'model__p': 1.5},\n",
       " {'model__n_neighbors': 13, 'model__p': 1.25},\n",
       " {'model__n_neighbors': 13, 'model__p': 2},\n",
       " {'model__n_neighbors': 14, 'model__p': 1},\n",
       " {'model__n_neighbors': 14, 'model__p': 1.5},\n",
       " {'model__n_neighbors': 14, 'model__p': 1.25},\n",
       " {'model__n_neighbors': 14, 'model__p': 2},\n",
       " {'model__n_neighbors': 15, 'model__p': 1},\n",
       " {'model__n_neighbors': 15, 'model__p': 1.5},\n",
       " {'model__n_neighbors': 15, 'model__p': 1.25},\n",
       " {'model__n_neighbors': 15, 'model__p': 2},\n",
       " {'model__n_neighbors': 16, 'model__p': 1},\n",
       " {'model__n_neighbors': 16, 'model__p': 1.5},\n",
       " {'model__n_neighbors': 16, 'model__p': 1.25},\n",
       " {'model__n_neighbors': 16, 'model__p': 2},\n",
       " {'model__n_neighbors': 17, 'model__p': 1},\n",
       " {'model__n_neighbors': 17, 'model__p': 1.5},\n",
       " {'model__n_neighbors': 17, 'model__p': 1.25},\n",
       " {'model__n_neighbors': 17, 'model__p': 2},\n",
       " {'model__n_neighbors': 18, 'model__p': 1},\n",
       " {'model__n_neighbors': 18, 'model__p': 1.5},\n",
       " {'model__n_neighbors': 18, 'model__p': 1.25},\n",
       " {'model__n_neighbors': 18, 'model__p': 2},\n",
       " {'model__n_neighbors': 19, 'model__p': 1},\n",
       " {'model__n_neighbors': 19, 'model__p': 1.5},\n",
       " {'model__n_neighbors': 19, 'model__p': 1.25},\n",
       " {'model__n_neighbors': 19, 'model__p': 2},\n",
       " {'model__n_neighbors': 20, 'model__p': 1},\n",
       " {'model__n_neighbors': 20, 'model__p': 1.5},\n",
       " {'model__n_neighbors': 20, 'model__p': 1.25},\n",
       " {'model__n_neighbors': 20, 'model__p': 2},\n",
       " {'model__n_neighbors': 21, 'model__p': 1},\n",
       " {'model__n_neighbors': 21, 'model__p': 1.5},\n",
       " {'model__n_neighbors': 21, 'model__p': 1.25},\n",
       " {'model__n_neighbors': 21, 'model__p': 2},\n",
       " {'model__n_neighbors': 22, 'model__p': 1},\n",
       " {'model__n_neighbors': 22, 'model__p': 1.5},\n",
       " {'model__n_neighbors': 22, 'model__p': 1.25},\n",
       " {'model__n_neighbors': 22, 'model__p': 2},\n",
       " {'model__n_neighbors': 23, 'model__p': 1},\n",
       " {'model__n_neighbors': 23, 'model__p': 1.5},\n",
       " {'model__n_neighbors': 23, 'model__p': 1.25},\n",
       " {'model__n_neighbors': 23, 'model__p': 2},\n",
       " {'model__n_neighbors': 24, 'model__p': 1},\n",
       " {'model__n_neighbors': 24, 'model__p': 1.5},\n",
       " {'model__n_neighbors': 24, 'model__p': 1.25},\n",
       " {'model__n_neighbors': 24, 'model__p': 2},\n",
       " {'model__n_neighbors': 25, 'model__p': 1},\n",
       " {'model__n_neighbors': 25, 'model__p': 1.5},\n",
       " {'model__n_neighbors': 25, 'model__p': 1.25},\n",
       " {'model__n_neighbors': 25, 'model__p': 2},\n",
       " {'model__n_neighbors': 26, 'model__p': 1},\n",
       " {'model__n_neighbors': 26, 'model__p': 1.5},\n",
       " {'model__n_neighbors': 26, 'model__p': 1.25},\n",
       " {'model__n_neighbors': 26, 'model__p': 2},\n",
       " {'model__n_neighbors': 27, 'model__p': 1},\n",
       " {'model__n_neighbors': 27, 'model__p': 1.5},\n",
       " {'model__n_neighbors': 27, 'model__p': 1.25},\n",
       " {'model__n_neighbors': 27, 'model__p': 2},\n",
       " {'model__n_neighbors': 28, 'model__p': 1},\n",
       " {'model__n_neighbors': 28, 'model__p': 1.5},\n",
       " {'model__n_neighbors': 28, 'model__p': 1.25},\n",
       " {'model__n_neighbors': 28, 'model__p': 2},\n",
       " {'model__n_neighbors': 29, 'model__p': 1},\n",
       " {'model__n_neighbors': 29, 'model__p': 1.5},\n",
       " {'model__n_neighbors': 29, 'model__p': 1.25},\n",
       " {'model__n_neighbors': 29, 'model__p': 2},\n",
       " {'model__n_neighbors': 30, 'model__p': 1},\n",
       " {'model__n_neighbors': 30, 'model__p': 1.5},\n",
       " {'model__n_neighbors': 30, 'model__p': 1.25},\n",
       " {'model__n_neighbors': 30, 'model__p': 2},\n",
       " {'model__n_neighbors': 31, 'model__p': 1},\n",
       " {'model__n_neighbors': 31, 'model__p': 1.5},\n",
       " {'model__n_neighbors': 31, 'model__p': 1.25},\n",
       " {'model__n_neighbors': 31, 'model__p': 2},\n",
       " {'model__n_neighbors': 32, 'model__p': 1},\n",
       " {'model__n_neighbors': 32, 'model__p': 1.5},\n",
       " {'model__n_neighbors': 32, 'model__p': 1.25},\n",
       " {'model__n_neighbors': 32, 'model__p': 2},\n",
       " {'model__n_neighbors': 33, 'model__p': 1},\n",
       " {'model__n_neighbors': 33, 'model__p': 1.5},\n",
       " {'model__n_neighbors': 33, 'model__p': 1.25},\n",
       " {'model__n_neighbors': 33, 'model__p': 2},\n",
       " {'model__n_neighbors': 34, 'model__p': 1},\n",
       " {'model__n_neighbors': 34, 'model__p': 1.5},\n",
       " {'model__n_neighbors': 34, 'model__p': 1.25},\n",
       " {'model__n_neighbors': 34, 'model__p': 2},\n",
       " {'model__n_neighbors': 35, 'model__p': 1},\n",
       " {'model__n_neighbors': 35, 'model__p': 1.5},\n",
       " {'model__n_neighbors': 35, 'model__p': 1.25},\n",
       " {'model__n_neighbors': 35, 'model__p': 2},\n",
       " {'model__n_neighbors': 36, 'model__p': 1},\n",
       " {'model__n_neighbors': 36, 'model__p': 1.5},\n",
       " {'model__n_neighbors': 36, 'model__p': 1.25},\n",
       " {'model__n_neighbors': 36, 'model__p': 2},\n",
       " {'model__n_neighbors': 37, 'model__p': 1},\n",
       " {'model__n_neighbors': 37, 'model__p': 1.5},\n",
       " {'model__n_neighbors': 37, 'model__p': 1.25},\n",
       " {'model__n_neighbors': 37, 'model__p': 2},\n",
       " {'model__n_neighbors': 38, 'model__p': 1},\n",
       " {'model__n_neighbors': 38, 'model__p': 1.5},\n",
       " {'model__n_neighbors': 38, 'model__p': 1.25},\n",
       " {'model__n_neighbors': 38, 'model__p': 2},\n",
       " {'model__n_neighbors': 39, 'model__p': 1},\n",
       " {'model__n_neighbors': 39, 'model__p': 1.5},\n",
       " {'model__n_neighbors': 39, 'model__p': 1.25},\n",
       " {'model__n_neighbors': 39, 'model__p': 2},\n",
       " {'model__n_neighbors': 40, 'model__p': 1},\n",
       " {'model__n_neighbors': 40, 'model__p': 1.5},\n",
       " {'model__n_neighbors': 40, 'model__p': 1.25},\n",
       " {'model__n_neighbors': 40, 'model__p': 2},\n",
       " {'model__n_neighbors': 41, 'model__p': 1},\n",
       " {'model__n_neighbors': 41, 'model__p': 1.5},\n",
       " {'model__n_neighbors': 41, 'model__p': 1.25},\n",
       " {'model__n_neighbors': 41, 'model__p': 2},\n",
       " {'model__n_neighbors': 42, 'model__p': 1},\n",
       " {'model__n_neighbors': 42, 'model__p': 1.5},\n",
       " {'model__n_neighbors': 42, 'model__p': 1.25},\n",
       " {'model__n_neighbors': 42, 'model__p': 2},\n",
       " {'model__n_neighbors': 43, 'model__p': 1},\n",
       " {'model__n_neighbors': 43, 'model__p': 1.5},\n",
       " {'model__n_neighbors': 43, 'model__p': 1.25},\n",
       " {'model__n_neighbors': 43, 'model__p': 2},\n",
       " {'model__n_neighbors': 44, 'model__p': 1},\n",
       " {'model__n_neighbors': 44, 'model__p': 1.5},\n",
       " {'model__n_neighbors': 44, 'model__p': 1.25},\n",
       " {'model__n_neighbors': 44, 'model__p': 2}]"
      ]
     },
     "execution_count": 379,
     "metadata": {},
     "output_type": "execute_result"
    }
   ],
   "source": [
    "dict[key]['search_results'].cv_results_['params']"
   ]
  },
  {
   "cell_type": "code",
   "execution_count": 380,
   "metadata": {},
   "outputs": [
    {
     "name": "stdout",
     "output_type": "stream",
     "text": [
      "{'model__n_neighbors': 7, 'model__p': 1.25}\n"
     ]
    }
   ],
   "source": [
    "print(best_params)"
   ]
  },
  {
   "cell_type": "code",
   "execution_count": 381,
   "id": "e87ac471",
   "metadata": {
    "ExecuteTime": {
     "end_time": "2024-11-14T11:26:17.435544Z",
     "start_time": "2024-11-14T11:26:17.374135Z"
    }
   },
   "outputs": [],
   "source": [
    "tunability = [dict[key]['search_results'].best_score_ - dict[key]['search_results'].cv_results_['mean_test_score'][dict[key]['search_results'].cv_results_['params'].index(best_params)] for key in dict.keys()]\n",
    "with open('tunability_knn.csv', mode='w', newline='') as file:\n",
    "    writer = csv.writer(file)\n",
    "    for value in tunability:\n",
    "        writer.writerow([value])"
   ]
  },
  {
   "cell_type": "code",
   "execution_count": 382,
   "id": "0fadff71",
   "metadata": {
    "ExecuteTime": {
     "end_time": "2024-11-14T11:26:24.177272Z",
     "start_time": "2024-11-14T11:26:24.148655Z"
    }
   },
   "outputs": [],
   "source": [
    "data = {}\n",
    "\n",
    "for key in dict.keys():\n",
    "    split_test_score_list = []\n",
    "    \n",
    "    for i in range(n_cv_folds): \n",
    "        split_scores = dict[key]['search_results'].cv_results_[f\"split{i}_test_score\"].tolist()\n",
    "        split_test_score_list += split_scores \n",
    "    \n",
    "    data[key] = split_test_score_list\n",
    "\n",
    "df_scores = pd.DataFrame(data)\n",
    "df_scores.to_csv('dane/knn_scores.csv', index=False)"
   ]
  },
  {
   "cell_type": "code",
   "execution_count": null,
   "metadata": {},
   "outputs": [],
   "source": []
  },
  {
   "cell_type": "code",
   "execution_count": 394,
   "id": "febc51fe",
   "metadata": {
    "ExecuteTime": {
     "end_time": "2024-11-14T11:26:29.953810Z",
     "start_time": "2024-11-14T11:26:29.900401Z"
    }
   },
   "outputs": [
    {
     "data": {
      "text/html": [
       "<div>\n",
       "<style scoped>\n",
       "    .dataframe tbody tr th:only-of-type {\n",
       "        vertical-align: middle;\n",
       "    }\n",
       "\n",
       "    .dataframe tbody tr th {\n",
       "        vertical-align: top;\n",
       "    }\n",
       "\n",
       "    .dataframe thead th {\n",
       "        text-align: right;\n",
       "    }\n",
       "</style>\n",
       "<table border=\"1\" class=\"dataframe\">\n",
       "  <thead>\n",
       "    <tr style=\"text-align: right;\">\n",
       "      <th></th>\n",
       "      <th>banana</th>\n",
       "      <th>credit</th>\n",
       "      <th>wind</th>\n",
       "      <th>elevator</th>\n",
       "    </tr>\n",
       "  </thead>\n",
       "  <tbody>\n",
       "    <tr>\n",
       "      <th>0</th>\n",
       "      <td>[0.978860642410913, 0.9569670224610972, 0.9827...</td>\n",
       "      <td>[0.5725151608592866, 0.6011508183241249, 0.557...</td>\n",
       "      <td>[0.9174410910970762, 0.910658058289774, 0.9162...</td>\n",
       "      <td>[0.8584721604003468, 0.8537244296832567, 0.865...</td>\n",
       "    </tr>\n",
       "  </tbody>\n",
       "</table>\n",
       "</div>"
      ],
      "text/plain": [
       "                                              banana  \\\n",
       "0  [0.978860642410913, 0.9569670224610972, 0.9827...   \n",
       "\n",
       "                                              credit  \\\n",
       "0  [0.5725151608592866, 0.6011508183241249, 0.557...   \n",
       "\n",
       "                                                wind  \\\n",
       "0  [0.9174410910970762, 0.910658058289774, 0.9162...   \n",
       "\n",
       "                                            elevator  \n",
       "0  [0.8584721604003468, 0.8537244296832567, 0.865...  "
      ]
     },
     "execution_count": 394,
     "metadata": {},
     "output_type": "execute_result"
    }
   ],
   "source": [
    "iteration_scores = [dict[key][\"bayes_results\"].cv_results_['mean_test_score'] for key in dict.keys()]"
   ]
  },
  {
   "cell_type": "code",
   "execution_count": 422,
   "metadata": {},
   "outputs": [],
   "source": [
    "df_knn_iter = pd.DataFrame({\"banana\": iteration_scores[0][0].tolist(),\n",
    " \"credit\": iteration_scores[0][1].tolist(),\n",
    " \"wind\": iteration_scores[0][2].tolist(),\n",
    " \"elevators\": iteration_scores[0][3].tolist()})\n",
    "\n",
    "df_knn_iter.to_csv('dane/knn_csvrations.csv', index=False) "
   ]
  },
  {
   "cell_type": "markdown",
   "id": "ddf8f4e416fc0fa6",
   "metadata": {},
   "source": [
    "# Wykresy"
   ]
  },
  {
   "cell_type": "code",
   "execution_count": null,
   "id": "2878dff9cb96d835",
   "metadata": {
    "ExecuteTime": {
     "end_time": "2024-11-14T11:48:23.157666Z",
     "start_time": "2024-11-14T11:48:23.106450Z"
    }
   },
   "outputs": [],
   "source": [
    "colors = {\n",
    "    'banana': (0.95, 0.6, 0.7),\n",
    "    'credit': (0.6, 0.2, 0.3),\n",
    "    'wind': (0.8, 0.7, 0.6),\n",
    "    'elevators': (0.55, 0.27, 0.07)\n",
    "}\n",
    "custom_cmap = mcolors.ListedColormap(colors)\n",
    "\n",
    "color = (0.6, 0.2, 0.3)"
   ]
  },
  {
   "cell_type": "markdown",
   "id": "7c7b3191aacfdbf4",
   "metadata": {},
   "source": [
    "## Tunability"
   ]
  },
  {
   "cell_type": "code",
   "execution_count": null,
   "id": "2b2518c05f45a4a7",
   "metadata": {
    "ExecuteTime": {
     "end_time": "2024-11-14T11:48:26.222118Z",
     "start_time": "2024-11-14T11:48:25.951019Z"
    }
   },
   "outputs": [],
   "source": [
    "tun_boost = pd.read_csv('dane/tunability_boost.csv', header=None)\n",
    "tun_svm_grid = pd.read_csv('dane/tunability_svm_grid.csv', header=None)\n",
    "tun_svm_random = pd.read_csv('dane/tunability_svm_random.csv', header=None)\n",
    "tun_knn = pd.read_csv('dane/tunability_knn.csv', header=None)\n",
    "\n",
    "group_labels = ['banana', 'credit', 'wind', 'elevators']\n",
    "\n",
    "data = {\n",
    "    'banana': [tun_boost[0][0], tun_svm_grid[0][0], tun_svm_random[0][0], tun_knn[0][0]],\n",
    "    'credit': [tun_boost[0][1], tun_svm_grid[0][1], tun_svm_random[0][1], tun_knn[0][1]],\n",
    "    'wind': [tun_boost[0][2], tun_svm_grid[0][2], tun_svm_random[0][2], tun_knn[0][2]],\n",
    "    'elevators': [tun_boost[0][3], tun_svm_grid[0][3], tun_svm_random[0][3], tun_knn[0][3]]\n",
    "}\n",
    "\n",
    "categories = ['Gradient Boosting', 'SVM (Grid Search)', 'SVM (Random Search)', 'KNN']\n",
    "x = np.arange(len(categories))  # Pozycje dla osi X\n",
    "\n",
    "bar_width = 0.2\n",
    "fig, ax = plt.subplots(figsize=(10, 6))\n",
    "\n",
    "for i, (group, values) in enumerate(data.items()):\n",
    "    ax.bar(x + i * bar_width, values, bar_width, label=group, color=colors[group])\n",
    "\n",
    "ax.set_xticks(x + 1.5 * bar_width)\n",
    "ax.set_xticklabels(categories)\n",
    "ax.set_ylabel('Tunowalnośc (Metryka AUC)')\n",
    "ax.legend(title='Zbiór danych')\n",
    "plt.savefig('plots/tunability.pdf', transparent=True)\n",
    "plt.close()"
   ]
  },
  {
   "cell_type": "markdown",
   "id": "a757693f4a70f2ee",
   "metadata": {},
   "source": [
    "## Algorithm scores"
   ]
  },
  {
   "cell_type": "code",
   "execution_count": null,
   "id": "b10dd931523b7d96",
   "metadata": {
    "ExecuteTime": {
     "end_time": "2024-11-14T11:48:30.021929Z",
     "start_time": "2024-11-14T11:48:29.953102Z"
    }
   },
   "outputs": [],
   "source": [
    "boost_scores = pd.read_csv('dane/boost_scores.csv')\n",
    "svm_grid_scores = pd.read_csv('dane/svm_grid_scores.csv')\n",
    "svm_random_scores = pd.read_csv('dane/svm_random_scores.csv')\n",
    "knn_scores = pd.read_csv('dane/knn_scores.csv')"
   ]
  },
  {
   "cell_type": "code",
   "execution_count": null,
   "id": "d3d9cd1a989e27e7",
   "metadata": {
    "ExecuteTime": {
     "end_time": "2024-11-14T11:48:42.544849Z",
     "start_time": "2024-11-14T11:48:42.301617Z"
    }
   },
   "outputs": [],
   "source": [
    "# gradient boosting\n",
    "plt.rcParams['figure.facecolor'] = 'white'  \n",
    "plt.rcParams['axes.edgecolor'] = 'black'    \n",
    "plt.rcParams['axes.linewidth'] = 1.5          \n",
    "\n",
    "plt.figure(figsize=(10, 6))\n",
    "plt.xlabel('Zbiór danych')\n",
    "plt.ylabel(f\"Metryka AUC'\")\n",
    "\n",
    "sns.boxplot(boost_scores, color = color)#, fill=False)\n",
    "plt.grid(False) \n",
    "\n",
    "plt.savefig('plots/boost_boxplot.pdf', transparent=True)\n",
    "plt.close()"
   ]
  },
  {
   "cell_type": "code",
   "execution_count": null,
   "id": "6c6cb99e76f40833",
   "metadata": {
    "ExecuteTime": {
     "end_time": "2024-11-14T11:48:46.155392Z",
     "start_time": "2024-11-14T11:48:45.963976Z"
    }
   },
   "outputs": [],
   "source": [
    "# knn\n",
    "plt.rcParams['figure.facecolor'] = 'white'  \n",
    "plt.rcParams['axes.edgecolor'] = 'black'    \n",
    "plt.rcParams['axes.linewidth'] = 1.5          \n",
    "\n",
    "plt.figure(figsize=(10, 6))\n",
    "plt.xlabel('Zbiór danych')\n",
    "plt.ylabel(f\"Metryka AUC'\")\n",
    "\n",
    "sns.boxplot(knn_scores, color = color)#, fill=False)\n",
    "plt.grid(False) \n",
    "\n",
    "plt.savefig('plots/knn_boxplot.pdf', transparent=True)\n",
    "plt.close()"
   ]
  },
  {
   "cell_type": "code",
   "execution_count": null,
   "id": "5f5c5c348e96d2e7",
   "metadata": {
    "ExecuteTime": {
     "end_time": "2024-11-14T11:48:49.240071Z",
     "start_time": "2024-11-14T11:48:49.018412Z"
    }
   },
   "outputs": [],
   "source": [
    "# svm \n",
    "svm_grid_scores['SearchType'] = 'Grid Search'\n",
    "svm_random_scores['SearchType'] = 'Random Search'\n",
    "\n",
    "merged_scores = pd.concat([svm_grid_scores, svm_random_scores])\n",
    "df = pd.melt(merged_scores, id_vars=['SearchType'], \n",
    "                  var_name='Dataset', value_name='Value')\n",
    "\n",
    "plt.figure(figsize=(10, 6))\n",
    "sns.boxplot(x='Dataset', y='Value', hue='SearchType', data=df)#, fill = False)\n",
    "plt.legend(title = '', loc = 'lower right')\n",
    "plt.ylabel(f\"Metryka AUC'\")\n",
    "plt.xlabel('Zbiór danych')\n",
    "plt.suptitle('')\n",
    "plt.grid(False)\n",
    "\n",
    "plt.savefig('plots/svm_comparison_boxplot.pdf', transparent=True)\n",
    "plt.close()"
   ]
  },
  {
   "cell_type": "markdown",
   "id": "7caad15a25420a40",
   "metadata": {},
   "source": [
    "## Iterations"
   ]
  },
  {
   "cell_type": "code",
   "execution_count": null,
   "metadata": {},
   "outputs": [],
   "source": [
    "plt.plot(np.arange(1, len(gb_scores_banana_search) + 1), gb_scores_banana_search, label='Random Search', linestyle='-')\n",
    "plt.plot(np.arange(1, len(gb_scores_banana_bayes) + 1), gb_scores_banana_bayes, label='bayes', color='red', linestyle='-')\n",
    "plt.xlabel('Numer iteracji')\n",
    "plt.ylabel('Najlepszy wynik')\n",
    "plt.grid(True)\n",
    "plt.legend(loc='lower right')\n",
    "plt.savefig(\"plots/gb_banana_iterations.pdf\", transparent=True)\n",
    "plt.close()"
   ]
  },
  {
   "cell_type": "code",
   "execution_count": null,
   "metadata": {},
   "outputs": [],
   "source": [
    "plt.plot(np.arange(1, len(gb_scores_credit_search) + 1), gb_scores_credit_search, label='Random Search', linestyle='-')\n",
    "plt.plot(np.arange(1, len(gb_scores_credit_bayes) + 1), gb_scores_credit_bayes, label='bayes', color='red', linestyle='-')\n",
    "plt.xlabel('Numer iteracji')\n",
    "plt.ylabel('Najlepszy wynik')\n",
    "plt.grid(True)\n",
    "plt.legend(loc='lower right')\n",
    "plt.savefig(\"plots/gb_credit_iterations.pdf\")\n",
    "plt.close()"
   ]
  },
  {
   "cell_type": "code",
   "execution_count": null,
   "metadata": {},
   "outputs": [],
   "source": [
    "plt.plot(np.arange(1, len(gb_scores_wind_search) + 1), gb_scores_wind_search, label='Random Search', linestyle='-')\n",
    "plt.plot(np.arange(1, len(gb_scores_wind_bayes) + 1), gb_scores_wind_bayes, label='bayes', color='red', linestyle='-')\n",
    "plt.xlabel('Numer iteracji')\n",
    "plt.ylabel('Najlepszy wynik')\n",
    "plt.grid(True)\n",
    "plt.legend(loc='lower right')\n",
    "plt.savefig(\"plots/gb_wind_iterations.pdf\")\n",
    "plt.close()"
   ]
  },
  {
   "cell_type": "code",
   "execution_count": null,
   "metadata": {},
   "outputs": [],
   "source": [
    "plt.plot(np.arange(1, len(gb_scores_elevators_search) + 1), gb_scores_elevators_search, label='Random Search', linestyle='-')\n",
    "plt.plot(np.arange(1, len(gb_scores_elevators_bayes) + 1), gb_scores_elevators_bayes, label='bayes', color='red', linestyle='-')\n",
    "plt.xlabel('Numer iteracji')\n",
    "plt.ylabel('Najlepszy wynik')\n",
    "plt.grid(True)\n",
    "plt.legend(loc='lower right')\n",
    "plt.savefig(\"plots/gb_elevators_iterations.pdf\")\n",
    "plt.close()"
   ]
  },
  {
   "cell_type": "code",
   "execution_count": null,
   "metadata": {},
   "outputs": [],
   "source": [
    "plt.plot(np.arange(1, len(svm_scores_banana_search) + 1), svm_scores_banana_search, label='Random Search', linestyle='-')\n",
    "plt.plot(np.arange(1, len(svm_scores_banana_bayes) + 1), svm_scores_banana_bayes, label='bayes', color='red', linestyle='-')\n",
    "plt.xlabel('Numer iteracji')\n",
    "plt.ylabel('Najlepszy wynik')\n",
    "plt.grid(True)\n",
    "plt.legend(loc='lower right')\n",
    "plt.savefig(\"plots/svm_banana_iterations.pdf\", transparent=True)\n",
    "plt.close()"
   ]
  },
  {
   "cell_type": "code",
   "execution_count": null,
   "metadata": {},
   "outputs": [],
   "source": [
    "plt.plot(np.arange(1, len(svm_scores_credit_search) + 1), svm_scores_credit_search, label='Random Search', linestyle='-')\n",
    "plt.plot(np.arange(1, len(svm_scores_credit_bayes) + 1), svm_scores_credit_bayes, label='bayes', color='red', linestyle='-')\n",
    "plt.xlabel('Numer iteracji')\n",
    "plt.ylabel('Najlepszy wynik')\n",
    "plt.grid(True)\n",
    "plt.legend(loc='lower right')\n",
    "plt.savefig(\"plots/svm_credit_iterations.pdf\")\n",
    "plt.close()"
   ]
  },
  {
   "cell_type": "code",
   "execution_count": null,
   "metadata": {},
   "outputs": [],
   "source": [
    "plt.plot(np.arange(1, len(svm_scores_wind_search) + 1), svm_scores_wind_search, label='Random Search', linestyle='-')\n",
    "plt.plot(np.arange(1, len(svm_scores_wind_bayes) + 1), svm_scores_wind_bayes, label='bayes', color='red', linestyle='-')\n",
    "plt.xlabel('Numer iteracji')\n",
    "plt.ylabel('Najlepszy wynik')\n",
    "plt.grid(True)\n",
    "plt.legend(loc='lower right')\n",
    "plt.savefig(\"plots/svm_wind_iterations.pdf\")\n",
    "plt.close()"
   ]
  },
  {
   "cell_type": "code",
   "execution_count": null,
   "metadata": {},
   "outputs": [],
   "source": [
    "plt.plot(np.arange(1, len(svm_scores_elevators_search) + 1), svm_scores_elevators_search, label='Random Search', linestyle='-')\n",
    "plt.plot(np.arange(1, len(svm_scores_elevators_bayes) + 1), svm_scores_elevators_bayes, label='bayes', color='red', linestyle='-')\n",
    "plt.xlabel('Numer iteracji')\n",
    "plt.ylabel('Najlepszy wynik')\n",
    "plt.grid(True)\n",
    "plt.legend(loc='lower right')\n",
    "plt.savefig(\"plots/svm_elevators_iterations.pdf\")\n",
    "plt.close()"
   ]
  },
  {
   "cell_type": "code",
   "execution_count": null,
   "id": "28562582790df311",
   "metadata": {
    "ExecuteTime": {
     "end_time": "2024-11-14T11:51:20.264113Z",
     "start_time": "2024-11-14T11:51:20.049305Z"
    }
   },
   "outputs": [],
   "source": [
    "iterations_knn = pd.read_csv('dane/knn_iterations.csv', header=None)"
   ]
  },
  {
   "cell_type": "code",
   "execution_count": null,
   "metadata": {},
   "outputs": [],
   "source": [
    "colors = [(0.95, 0.6, 0.7), (0.6, 0.2, 0.3), (0.8, 0.7, 0.6), (0.55, 0.27, 0.07)]\n",
    "\n",
    "plt.rcParams[\"axes.edgecolor\"] = \"black\"\n",
    "plt.rcParams[\"axes.linewidth\"] = 1\n",
    "plt.figure(figsize=(10, 6))\n",
    "for i, column in enumerate(iterations_knn.columns):\n",
    "    plt.plot(np.arange(1, len(iterations_knn) + 1), iterations_knn[column], marker='o', linestyle='-', color=colors[i % len(colors)], label=column)\n",
    "plt.xlabel('Numer iteracji')\n",
    "plt.ylabel('Średni wynik walidacji')\n",
    "plt.grid(False)\n",
    "plt.legend()\n",
    "plt.gca().spines['top'].set_visible(True)\n",
    "plt.gca().spines['right'].set_visible(True)\n",
    "plt.gca().spines['left'].set_visible(True)\n",
    "plt.gca().spines['bottom'].set_visible(True)\n",
    "plt.savefig('plots/iterations_knn.pdf', transparent=True)\n",
    "plt.show()"
   ]
  },
  {
   "cell_type": "markdown",
   "metadata": {},
   "source": [
    "Bias sampling - tunability"
   ]
  },
  {
   "cell_type": "code",
   "execution_count": null,
   "metadata": {},
   "outputs": [],
   "source": [
    "from sklearn.model_selection import KFold\n",
    "n = 100\n",
    "\n",
    "C_values = np.logspace(-10, 10, num=n, base=2)\n",
    "gamma_values = np.logspace(-10, 10, num=n, base=2)\n",
    "\n",
    "\n",
    "parameters_svm = {\n",
    "    'model__C' : C_values, \n",
    "    'model__gamma' : gamma_values\n",
    "}\n",
    "\n",
    "C_values_2 = loguniform(2**(-10), 2**10)\n",
    "gamma_values_2 = loguniform(2**(-10), 2**10)\n",
    "\n",
    "parameters_svm_2 = {\n",
    "    'model__C' : C_values_2, \n",
    "    'model__gamma' : gamma_values_2\n",
    "}\n"
   ]
  },
  {
   "cell_type": "code",
   "execution_count": null,
   "metadata": {},
   "outputs": [],
   "source": [
    "n_cv_folds=7"
   ]
  },
  {
   "cell_type": "code",
   "execution_count": null,
   "metadata": {},
   "outputs": [],
   "source": [
    "for key in dict.keys(): \n",
    "    \n",
    "    X = dict[key][\"X\"]\n",
    "    y = dict[key][\"y\"]\n",
    "        \n",
    "\n",
    "    \n",
    "    random_svm = RandomizedSearchCV(estimator=svm_pipeline, \n",
    "                                        param_distributions=parameters_svm_2, \n",
    "                                        n_iter=50, \n",
    "                                        random_state=10, \n",
    "                                        n_jobs=-1, \n",
    "                                        cv=n_cv_folds, \n",
    "                                        scoring=scoring)\n",
    "\n",
    "    kf = KFold(n_splits=n_cv_folds, shuffle=True, random_state=42)\n",
    "\n",
    "\n",
    "    \n",
    "    i=1\n",
    "    for train_index, test_index in kf.split(X):\n",
    "        \n",
    "        X_train, X_test = X.iloc[train_index], X.iloc[test_index]\n",
    "        y_train, y_test = y.iloc[train_index], y.iloc[test_index]\n",
    "        \n",
    "        random_svm.fit(X_train, y_train)\n",
    "        dict[key][f\"search_results_{i}\"] = random_svm.best_score_\n",
    "        dict[key][f\"cv_{i}\"] = random_svm.cv_results_\n",
    "        dict[key][f\"optimal_{i}\"] = random_svm\n",
    "        i+=1\n",
    "\n",
    "\n",
    "  \n"
   ]
  },
  {
   "cell_type": "code",
   "execution_count": null,
   "metadata": {},
   "outputs": [
    {
     "data": {
      "text/plain": [
       "{'mean_fit_time': array([2.29317025, 1.97165724, 2.02923019, 1.96258589, 2.34986469,\n",
       "        2.75540543, 2.31771258, 2.00602256, 1.83366993, 3.75545011,\n",
       "        2.1607354 , 1.64439695, 1.99998188, 1.88381805, 1.90220359,\n",
       "        1.98587622, 1.92081571, 2.55890172, 2.27294881, 2.15090033,\n",
       "        1.76870625, 2.16136265, 1.71823086, 2.1147606 , 2.26448042,\n",
       "        2.22541182, 1.76126644, 2.20997718, 1.97414919, 1.7507172 ,\n",
       "        2.25056471, 1.68753225, 2.25205823, 2.24533078, 1.72107094,\n",
       "        2.20716003, 1.67553476, 2.19295331, 3.13528742, 1.84266932,\n",
       "        1.6565984 , 1.79335165, 2.23340665, 2.37881715, 1.92293876,\n",
       "        2.06400258, 2.41575343, 1.76448693, 1.85613516, 1.63495725]),\n",
       " 'std_fit_time': array([0.18008798, 0.13701511, 0.08464293, 0.12110986, 0.04835882,\n",
       "        0.15124554, 0.09610733, 0.16523753, 0.09380736, 0.54279284,\n",
       "        0.08221567, 0.12837394, 0.24078947, 0.139456  , 0.25111859,\n",
       "        0.28405312, 0.18526748, 0.07958965, 0.06286599, 0.06229568,\n",
       "        0.0467314 , 0.06802709, 0.13976962, 0.0976139 , 0.07213274,\n",
       "        0.05594869, 0.14417176, 0.05925748, 0.22339257, 0.15103874,\n",
       "        0.22555632, 0.19536636, 0.05984484, 0.04799827, 0.0724972 ,\n",
       "        0.04656345, 0.10824029, 0.05874417, 0.79577042, 0.21149036,\n",
       "        0.19819169, 0.1549408 , 0.06683542, 0.09944564, 0.31306008,\n",
       "        0.13769414, 0.10579073, 0.08091894, 0.18615235, 0.17480885]),\n",
       " 'mean_score_time': array([0.25597719, 0.11558471, 0.25611084, 0.26083732, 0.38864936,\n",
       "        0.27798097, 0.38296434, 0.14849796, 0.16917671, 0.1479044 ,\n",
       "        0.27695489, 0.15748239, 0.22276054, 0.15366684, 0.14837384,\n",
       "        0.1521664 , 0.16855642, 0.40660511, 0.37520194, 0.34297902,\n",
       "        0.15890196, 0.3429811 , 0.17115467, 0.3239523 , 0.38517213,\n",
       "        0.37744996, 0.17735056, 0.32377577, 0.11856345, 0.17407182,\n",
       "        0.22780013, 0.14885436, 0.3999845 , 0.37265815, 0.17470803,\n",
       "        0.37298284, 0.161909  , 0.37307647, 0.1227965 , 0.15477092,\n",
       "        0.14074636, 0.20271311, 0.37654901, 0.40764948, 0.1631074 ,\n",
       "        0.2602911 , 0.39226273, 0.19136156, 0.1150244 , 0.15099818]),\n",
       " 'std_score_time': array([0.02666068, 0.03535453, 0.0273354 , 0.02876902, 0.02185062,\n",
       "        0.07645473, 0.01274208, 0.04742578, 0.03558366, 0.04624546,\n",
       "        0.01757676, 0.04473877, 0.0393322 , 0.04639758, 0.06598933,\n",
       "        0.05947844, 0.05129326, 0.03497047, 0.02107809, 0.02786836,\n",
       "        0.01579467, 0.02910604, 0.0409671 , 0.06813818, 0.01674205,\n",
       "        0.02890362, 0.03927244, 0.06391211, 0.0475491 , 0.03383273,\n",
       "        0.06120934, 0.05208201, 0.02396604, 0.01645056, 0.02954365,\n",
       "        0.019358  , 0.04062252, 0.02320889, 0.04464076, 0.04714455,\n",
       "        0.06408645, 0.04841682, 0.02891176, 0.02790151, 0.0707234 ,\n",
       "        0.04002255, 0.03712945, 0.03377958, 0.03577583, 0.03291208]),\n",
       " 'param_model__C': masked_array(data=[43.00441471271348, 6.377383761462392,\n",
       "                    0.9795155127935885, 0.015210984008505537,\n",
       "                    0.010182366652394342, 13.061026373052,\n",
       "                    0.001031504139747256, 76.23698886277853,\n",
       "                    21.632167890497236, 327.5298194267341,\n",
       "                    1.8036099327220392, 0.17275689546951062,\n",
       "                    0.4464787719519799, 5.117146614171844,\n",
       "                    8.044170377655826, 68.80606991265037,\n",
       "                    288.61002760727644, 0.0034223119499164354,\n",
       "                    0.004741920651888045, 0.0018708717611093046,\n",
       "                    1.93418141606641, 0.015398683173308338,\n",
       "                    0.1278968634155589, 0.059097222514069715,\n",
       "                    0.08901749766983494, 0.2254039775235309,\n",
       "                    85.75287625623403, 0.20058546511510925,\n",
       "                    862.5770359398903, 91.92955658959056,\n",
       "                    3.856876537586143, 1.6145800559050125,\n",
       "                    0.0016834485492509433, 0.002944547788225984,\n",
       "                    0.09568166066741117, 0.0016993328454788551,\n",
       "                    0.07686855916438325, 0.11882769288324853,\n",
       "                    193.7837102295231, 188.95944922572693,\n",
       "                    4.321557293045529, 3.8818192935059046,\n",
       "                    0.06325950945715424, 0.06521064107929744,\n",
       "                    2.2215456284599617, 0.7084043363075216,\n",
       "                    0.0023797425385565793, 0.10837897948554508,\n",
       "                    745.2674904013224, 0.08051805368956386],\n",
       "              mask=[False, False, False, False, False, False, False, False,\n",
       "                    False, False, False, False, False, False, False, False,\n",
       "                    False, False, False, False, False, False, False, False,\n",
       "                    False, False, False, False, False, False, False, False,\n",
       "                    False, False, False, False, False, False, False, False,\n",
       "                    False, False, False, False, False, False, False, False,\n",
       "                    False, False],\n",
       "        fill_value='?',\n",
       "             dtype=object),\n",
       " 'param_model__gamma': masked_array(data=[0.001302084676224726, 31.473760348480134,\n",
       "                    0.022034880924714124, 37.02978438508894,\n",
       "                    0.0033232171536086517, 536.6608828709308,\n",
       "                    1.1841446028736549, 4.758547712365127,\n",
       "                    0.055843042773033036, 19.582806964198394,\n",
       "                    0.007008886377783161, 11.178636332820055,\n",
       "                    0.400612645619977, 1.1997758116098405,\n",
       "                    4.0580286990003325, 1.3499846917964091,\n",
       "                    0.08160049871791697, 0.06310950564985426,\n",
       "                    95.24863590123546, 5.758699199940503,\n",
       "                    83.61790039797016, 140.75145727548158,\n",
       "                    34.12965274545935, 204.8933841304793,\n",
       "                    0.009620435735617827, 0.0035676937397818883,\n",
       "                    0.007938270246233314, 472.8419564057372,\n",
       "                    0.5456663341311205, 0.031851004539071935,\n",
       "                    266.24953705920234, 3.4919363440142197,\n",
       "                    0.13808563722375075, 0.06741429563588738,\n",
       "                    44.52692023678151, 0.37627088560326044,\n",
       "                    6.633741804759777, 0.001774892206310716,\n",
       "                    38.44733626858644, 0.31868055038448456,\n",
       "                    1.2052500989396198, 0.03701652363290779,\n",
       "                    0.0013887432752837446, 0.027998968878615763,\n",
       "                    2.4796566991861164, 0.05656131710367718,\n",
       "                    763.4463224481501, 0.9336622238387552,\n",
       "                    0.43996982863323425, 1.3157995436705547],\n",
       "              mask=[False, False, False, False, False, False, False, False,\n",
       "                    False, False, False, False, False, False, False, False,\n",
       "                    False, False, False, False, False, False, False, False,\n",
       "                    False, False, False, False, False, False, False, False,\n",
       "                    False, False, False, False, False, False, False, False,\n",
       "                    False, False, False, False, False, False, False, False,\n",
       "                    False, False],\n",
       "        fill_value='?',\n",
       "             dtype=object),\n",
       " 'params': [{'model__C': 43.00441471271348,\n",
       "   'model__gamma': 0.001302084676224726},\n",
       "  {'model__C': 6.377383761462392, 'model__gamma': 31.473760348480134},\n",
       "  {'model__C': 0.9795155127935885, 'model__gamma': 0.022034880924714124},\n",
       "  {'model__C': 0.015210984008505537, 'model__gamma': 37.02978438508894},\n",
       "  {'model__C': 0.010182366652394342, 'model__gamma': 0.0033232171536086517},\n",
       "  {'model__C': 13.061026373052, 'model__gamma': 536.6608828709308},\n",
       "  {'model__C': 0.001031504139747256, 'model__gamma': 1.1841446028736549},\n",
       "  {'model__C': 76.23698886277853, 'model__gamma': 4.758547712365127},\n",
       "  {'model__C': 21.632167890497236, 'model__gamma': 0.055843042773033036},\n",
       "  {'model__C': 327.5298194267341, 'model__gamma': 19.582806964198394},\n",
       "  {'model__C': 1.8036099327220392, 'model__gamma': 0.007008886377783161},\n",
       "  {'model__C': 0.17275689546951062, 'model__gamma': 11.178636332820055},\n",
       "  {'model__C': 0.4464787719519799, 'model__gamma': 0.400612645619977},\n",
       "  {'model__C': 5.117146614171844, 'model__gamma': 1.1997758116098405},\n",
       "  {'model__C': 8.044170377655826, 'model__gamma': 4.0580286990003325},\n",
       "  {'model__C': 68.80606991265037, 'model__gamma': 1.3499846917964091},\n",
       "  {'model__C': 288.61002760727644, 'model__gamma': 0.08160049871791697},\n",
       "  {'model__C': 0.0034223119499164354, 'model__gamma': 0.06310950564985426},\n",
       "  {'model__C': 0.004741920651888045, 'model__gamma': 95.24863590123546},\n",
       "  {'model__C': 0.0018708717611093046, 'model__gamma': 5.758699199940503},\n",
       "  {'model__C': 1.93418141606641, 'model__gamma': 83.61790039797016},\n",
       "  {'model__C': 0.015398683173308338, 'model__gamma': 140.75145727548158},\n",
       "  {'model__C': 0.1278968634155589, 'model__gamma': 34.12965274545935},\n",
       "  {'model__C': 0.059097222514069715, 'model__gamma': 204.8933841304793},\n",
       "  {'model__C': 0.08901749766983494, 'model__gamma': 0.009620435735617827},\n",
       "  {'model__C': 0.2254039775235309, 'model__gamma': 0.0035676937397818883},\n",
       "  {'model__C': 85.75287625623403, 'model__gamma': 0.007938270246233314},\n",
       "  {'model__C': 0.20058546511510925, 'model__gamma': 472.8419564057372},\n",
       "  {'model__C': 862.5770359398903, 'model__gamma': 0.5456663341311205},\n",
       "  {'model__C': 91.92955658959056, 'model__gamma': 0.031851004539071935},\n",
       "  {'model__C': 3.856876537586143, 'model__gamma': 266.24953705920234},\n",
       "  {'model__C': 1.6145800559050125, 'model__gamma': 3.4919363440142197},\n",
       "  {'model__C': 0.0016834485492509433, 'model__gamma': 0.13808563722375075},\n",
       "  {'model__C': 0.002944547788225984, 'model__gamma': 0.06741429563588738},\n",
       "  {'model__C': 0.09568166066741117, 'model__gamma': 44.52692023678151},\n",
       "  {'model__C': 0.0016993328454788551, 'model__gamma': 0.37627088560326044},\n",
       "  {'model__C': 0.07686855916438325, 'model__gamma': 6.633741804759777},\n",
       "  {'model__C': 0.11882769288324853, 'model__gamma': 0.001774892206310716},\n",
       "  {'model__C': 193.7837102295231, 'model__gamma': 38.44733626858644},\n",
       "  {'model__C': 188.95944922572693, 'model__gamma': 0.31868055038448456},\n",
       "  {'model__C': 4.321557293045529, 'model__gamma': 1.2052500989396198},\n",
       "  {'model__C': 3.8818192935059046, 'model__gamma': 0.03701652363290779},\n",
       "  {'model__C': 0.06325950945715424, 'model__gamma': 0.0013887432752837446},\n",
       "  {'model__C': 0.06521064107929744, 'model__gamma': 0.027998968878615763},\n",
       "  {'model__C': 2.2215456284599617, 'model__gamma': 2.4796566991861164},\n",
       "  {'model__C': 0.7084043363075216, 'model__gamma': 0.05656131710367718},\n",
       "  {'model__C': 0.0023797425385565793, 'model__gamma': 763.4463224481501},\n",
       "  {'model__C': 0.10837897948554508, 'model__gamma': 0.9336622238387552},\n",
       "  {'model__C': 745.2674904013224, 'model__gamma': 0.43996982863323425},\n",
       "  {'model__C': 0.08051805368956386, 'model__gamma': 1.3157995436705547}],\n",
       " 'split0_test_score': array([0.91612626, 0.97224895, 0.90308998, 0.98408157, 0.72335995,\n",
       "        0.91104919, 0.73427211, 0.9292042 , 0.95171575, 0.91152816,\n",
       "        0.78669632, 0.97252383, 0.88856263, 0.90773806, 0.97152841,\n",
       "        0.91887097, 0.95909604, 0.85464329, 0.95728429, 0.90410206,\n",
       "        0.98014985, 0.98087456, 0.88939562, 0.95530594, 0.68538811,\n",
       "        0.72334745, 0.86487241, 0.93241538, 0.97668878, 0.86470581,\n",
       "        0.90115327, 0.91852111, 0.725255  , 0.72417211, 0.97161171,\n",
       "        0.86006189, 0.6572039 , 0.85423513, 0.97760924, 0.94364408,\n",
       "        0.98610573, 0.85256082, 0.85415599, 0.72405133, 0.95783823,\n",
       "        0.91466853, 0.91500589, 0.86219018, 0.95907938, 0.86389781]),\n",
       " 'split1_test_score': array([0.80941612, 0.95795068, 0.78363092, 0.87637183, 0.87030766,\n",
       "        0.78123607, 0.71113582, 0.90510165, 0.93118672, 0.88555138,\n",
       "        0.76443467, 0.52093095, 0.83908721, 0.96627225, 0.90477261,\n",
       "        0.97295699, 0.87816276, 0.71735826, 0.86873748, 0.7783456 ,\n",
       "        0.87288993, 0.86897488, 0.89076589, 0.92905427, 0.71713751,\n",
       "        0.70155228, 0.83284812, 0.85651752, 0.97169084, 0.84791274,\n",
       "        0.9076381 , 0.89908329, 0.87121562, 0.71737492, 0.88506408,\n",
       "        0.72235619, 0.96060375, 0.87035348, 0.88376461, 0.51734076,\n",
       "        0.88958721, 0.82368523, 0.71692927, 0.71764147, 0.96960837,\n",
       "        0.90184882, 0.89530152, 0.92689266, 0.89965806, 0.92967901]),\n",
       " 'split2_test_score': array([0.78580086, 0.87630519, 0.46289656, 0.86426432, 0.67722898,\n",
       "        0.7833602 , 0.68750807, 0.90419369, 0.85280239, 0.88518903,\n",
       "        0.73385978, 0.89341896, 0.82134036, 0.88063674, 0.90117826,\n",
       "        0.89275257, 0.8701494 , 0.82648408, 0.93331084, 0.74249372,\n",
       "        0.87411859, 0.91050775, 0.89187793, 0.91469352, 0.67729562,\n",
       "        0.67722898, 0.78062799, 0.85507228, 0.88968301, 0.92464358,\n",
       "        0.83190684, 0.67156881, 0.67889912, 0.67776209, 0.88903744,\n",
       "        0.68019025, 0.95301938, 0.67719982, 0.87906655, 0.88415612,\n",
       "        0.95914185, 0.90136569, 0.67718733, 0.6778079 , 0.96220726,\n",
       "        0.78511364, 0.84571781, 0.81903715, 0.88683002, 0.82468898]),\n",
       " 'split3_test_score': array([0.92901262, 0.94883777, 0.89715076, 0.90235694, 0.92338993,\n",
       "        0.82878729, 0.89648853, 0.95718016, 0.90143649, 0.94352746,\n",
       "        0.92867525, 0.97255715, 0.91956651, 0.97175748, 0.97497282,\n",
       "        0.97453967, 0.96720936, 0.89632193, 0.93643039, 0.93483938,\n",
       "        0.96141175, 0.95537674, 0.94693855, 0.96496029, 0.92372313,\n",
       "        0.92370231, 0.93089934, 0.88048263, 0.97437724, 0.91964148,\n",
       "        0.9436066 , 0.97382746, 0.92466024, 0.92402717, 0.97264462,\n",
       "        0.92530998, 0.94337336, 0.89331068, 0.92408965, 0.94248206,\n",
       "        0.97136598, 0.93070358, 0.89337315, 0.89326486, 0.97338598,\n",
       "        0.8993915 , 0.89545979, 0.90311913, 0.97404404, 0.90364808]),\n",
       " 'split4_test_score': array([0.53313328, 0.78386364, 0.53367166, 0.67989383, 0.532958  ,\n",
       "        0.71776401, 0.76268322, 0.7695486 , 0.55092484, 0.78125939,\n",
       "        0.80709743, 0.70575273, 0.88005826, 0.59826884, 0.56204718,\n",
       "        0.71658709, 0.55490217, 0.53325849, 0.65105506, 0.54446429,\n",
       "        0.78147224, 0.69011886, 0.56867467, 0.72321458, 0.7463482 ,\n",
       "        0.53296635, 0.53441454, 0.73374428, 0.93487697, 0.55398401,\n",
       "        0.89594254, 0.67457681, 0.53375096, 0.53330022, 0.57272712,\n",
       "        0.53517412, 0.912962  , 0.53292878, 0.78751962, 0.59059798,\n",
       "        0.5444476 , 0.53521168, 0.5330206 , 0.53307903, 0.64869287,\n",
       "        0.5343895 , 0.71215903, 0.85454993, 0.92940136, 0.55290308]),\n",
       " 'split5_test_score': array([0.48937014, 0.77772862, 0.48944109, 0.66342943, 0.48839354,\n",
       "        0.69152115, 0.49321809, 0.76606374, 0.81664218, 0.77930203,\n",
       "        0.48908217, 0.70174201, 0.50597225, 0.57363277, 0.53460235,\n",
       "        0.53939768, 0.51243698, 0.48854379, 0.63527929, 0.49746252,\n",
       "        0.77185653, 0.89208624, 0.54747755, 0.70700477, 0.48842693,\n",
       "        0.48839772, 0.49135672, 0.54043688, 0.69801509, 0.50691129,\n",
       "        0.72918684, 0.52531635, 0.71641598, 0.71501369, 0.73553053,\n",
       "        0.48946613, 0.58174602, 0.48837268, 0.77365113, 0.5639169 ,\n",
       "        0.50960736, 0.49012554, 0.4883852 , 0.48856883, 0.63179026,\n",
       "        0.7902449 , 0.8833261 , 0.50565507, 0.66562051, 0.50301743]),\n",
       " 'split6_test_score': array([0.50454906, 0.92919745, 0.77851091, 0.69473728, 0.6993865 ,\n",
       "        0.71531238, 0.50865156, 0.79897333, 0.81957765, 0.61976963,\n",
       "        0.77016402, 0.91708192, 0.52725679, 0.89357289, 0.85104545,\n",
       "        0.74612913, 0.87504278, 0.69955344, 0.87216727, 0.75973457,\n",
       "        0.79754184, 0.70123534, 0.58517591, 0.57677476, 0.69906515,\n",
       "        0.50406911, 0.79217896, 0.72729853, 0.74269855, 0.79907349,\n",
       "        0.81436918, 0.53325404, 0.70124369, 0.5045115 , 0.84386294,\n",
       "        0.50645215, 0.61926046, 0.5040399 , 0.85954676, 0.60690706,\n",
       "        0.82774509, 0.50513752, 0.69924461, 0.69977881, 0.53215642,\n",
       "        0.50609323, 0.5248195 , 0.52102583, 0.91321731, 0.80204082]),\n",
       " 'mean_test_score': array([0.70962976, 0.89230461, 0.69262741, 0.80930503, 0.70214637,\n",
       "        0.77557576, 0.68485106, 0.86146648, 0.83204086, 0.82944672,\n",
       "        0.75428709, 0.81200108, 0.76883486, 0.82741129, 0.81430673,\n",
       "        0.82303344, 0.8024285 , 0.71659475, 0.83632352, 0.73734888,\n",
       "        0.86277725, 0.85702491, 0.76004373, 0.82442973, 0.70534066,\n",
       "        0.6501806 , 0.74674258, 0.78942393, 0.88400435, 0.77383891,\n",
       "        0.86054334, 0.74230684, 0.73592009, 0.68516596, 0.83863978,\n",
       "        0.67414439, 0.80402413, 0.68863435, 0.86932108, 0.72129214,\n",
       "        0.81257155, 0.71982715, 0.69461373, 0.67631318, 0.81081134,\n",
       "        0.76167859, 0.81025566, 0.77035285, 0.88969295, 0.7685536 ]),\n",
       " 'std_test_score': array([0.18057543, 0.07597054, 0.17772763, 0.11824713, 0.14765811,\n",
       "        0.07102937, 0.13188638, 0.07457989, 0.12468099, 0.10337706,\n",
       "        0.12268222, 0.15918734, 0.16238154, 0.156155  , 0.17299139,\n",
       "        0.14984332, 0.17429714, 0.14606522, 0.12600343, 0.15295535,\n",
       "        0.07825665, 0.10781754, 0.16840232, 0.14209523, 0.1181931 ,\n",
       "        0.1438251 , 0.15528791, 0.12334843, 0.10798557, 0.15944882,\n",
       "        0.06785102, 0.17304471, 0.11937222, 0.12887342, 0.13185615,\n",
       "        0.16104564, 0.16173337, 0.16940766, 0.06651452, 0.1778515 ,\n",
       "        0.18771256, 0.18468784, 0.13857679, 0.12385004, 0.18211619,\n",
       "        0.16052054, 0.13264278, 0.16572519, 0.09589853, 0.15792838]),\n",
       " 'rank_test_score': array([40,  1, 44, 21, 42, 25, 47,  6, 11, 12, 32, 18, 28, 13, 16, 15, 23,\n",
       "        39, 10, 35,  5,  8, 31, 14, 41, 50, 33, 24,  3, 26,  7, 34, 36, 46,\n",
       "         9, 49, 22, 45,  4, 37, 17, 38, 43, 48, 19, 30, 20, 27,  2, 29],\n",
       "       dtype=int32)}"
      ]
     },
     "execution_count": 304,
     "metadata": {},
     "output_type": "execute_result"
    }
   ],
   "source": [
    "dict['banana'][f\"cv_{1}\"]"
   ]
  },
  {
   "cell_type": "code",
   "execution_count": null,
   "metadata": {},
   "outputs": [
    {
     "name": "stdout",
     "output_type": "stream",
     "text": [
      "elevators difference: 0.0054693537366080625\n",
      "elevators difference: 0.0034617059402449746\n",
      "elevators difference: 0.007507479151824592\n",
      "elevators difference: 0.0025852775875505607\n",
      "elevators difference: 0.0027762781655673585\n",
      "elevators difference: 0.010906169653598918\n",
      "elevators difference: 0.0076496665611861525\n"
     ]
    }
   ],
   "source": [
    "wyniki=[]\n",
    "optimal=[]\n",
    "for i in range(1,n_cv_folds+1):\n",
    "    scores_sum = {}\n",
    "    for key in dict.keys():\n",
    "        for param in dict[key][f\"cv_{i}\"]['params']:\n",
    "            score = dict[key][f\"cv_{i}\"]['mean_test_score'][dict[key][f\"cv_{i}\"]['params'].index(param)]\n",
    "            if str(param) in scores_sum:\n",
    "                scores_sum[str(param)] += float(score)\n",
    "            else:\n",
    "                scores_sum[str(param)] = float(score)\n",
    "        \n",
    "\n",
    "    best_params = max(scores_sum, key=scores_sum.get)\n",
    "    best_params = ast.literal_eval(best_params)\n",
    "    wyniki.append(best_params)\n",
    "\n",
    "tun0=[] \n",
    "for i in range(1,n_cv_folds+1):     \n",
    "    for key in dict.keys():\n",
    "        tunability = dict[key][f'search_results_{i}']-  dict[key][f\"cv_{i}\"]['mean_test_score'][dict[key][f\"cv_{i}\"]['params'].index(wyniki[i-1])]\n",
    "        tun0.append(tunability)\n",
    "    print(f\"{key} difference: {tunability}\")"
   ]
  },
  {
   "cell_type": "code",
   "execution_count": null,
   "metadata": {},
   "outputs": [
    {
     "data": {
      "text/plain": [
       "[{'model__C': 862.5770359398903, 'model__gamma': 0.5456663341311205},\n",
       " {'model__C': 862.5770359398903, 'model__gamma': 0.5456663341311205},\n",
       " {'model__C': 862.5770359398903, 'model__gamma': 0.5456663341311205},\n",
       " {'model__C': 862.5770359398903, 'model__gamma': 0.5456663341311205},\n",
       " {'model__C': 862.5770359398903, 'model__gamma': 0.5456663341311205},\n",
       " {'model__C': 76.23698886277853, 'model__gamma': 4.758547712365127},\n",
       " {'model__C': 862.5770359398903, 'model__gamma': 0.5456663341311205}]"
      ]
     },
     "execution_count": 307,
     "metadata": {},
     "output_type": "execute_result"
    }
   ],
   "source": [
    "print(f\"optimal params na kazdym foldzie{wyniki}\")"
   ]
  },
  {
   "cell_type": "code",
   "execution_count": null,
   "metadata": {},
   "outputs": [
    {
     "name": "stdout",
     "output_type": "stream",
     "text": [
      "           banana    credit      wind  elevators\n",
      "Kfold 1  0.008300  0.077277  0.006988   0.005469\n",
      "Kfold 2  0.045934  0.060032  0.005750   0.003462\n",
      "Kfold 3  0.054606  0.126122  0.005216   0.007507\n",
      "Kfold 4  0.043429  0.068610  0.006919   0.002585\n",
      "Kfold 5  0.043462  0.116450  0.005423   0.002776\n",
      "Kfold 6  0.000000  0.102368  0.017628   0.010906\n",
      "Kfold 7  0.022556  0.029112  0.002577   0.007650\n"
     ]
    }
   ],
   "source": [
    "data = {\n",
    "    'Kfold 1': tun0[:4],    \n",
    "    'Kfold 2': tun0[4:8],   \n",
    "    'Kfold 3': tun0[8:12] , \n",
    "    'Kfold 4': tun0[12:16] , \n",
    "    'Kfold 5': tun0[16:20]  ,\n",
    "    'Kfold 6': tun0[20:24]  ,\n",
    "    'Kfold 7': tun0[24:28]   \n",
    "}\n",
    "\n",
    "df = pd.DataFrame(data)\n",
    "df.index = ['banana','credit', 'wind', 'elevators']\n",
    "df = df.T\n",
    "print(df)\n",
    "df.to_csv('dane/bias_samping_tunowalnosc.csv', index=False)"
   ]
  },
  {
   "cell_type": "code",
   "execution_count": null,
   "metadata": {},
   "outputs": [
    {
     "data": {
      "image/png": "[encoded data removed]",
      "text/plain": [
       "<Figure size 1000x600 with 1 Axes>"
      ]
     },
     "metadata": {},
     "output_type": "display_data"
    }
   ],
   "source": [
    "plt.figure(figsize=(10, 6))\n",
    "\n",
    "sns.boxplot(df, color = color)#,fill=False)\n",
    "plt.grid(False) \n",
    "\n",
    "#plt.savefig('plots/svmmm_boxplot.pdf', transparent=True)\n",
    "#plt.close()"
   ]
  }
 ],
 "metadata": {
  "kernelspec": {
   "display_name": "python311",
   "language": "python",
   "name": "python3"
  },
  "language_info": {
   "codemirror_mode": {
    "name": "ipython",
    "version": 3
   },
   "file_extension": ".py",
   "mimetype": "text/x-python",
   "name": "python",
   "nbconvert_exporter": "python",
   "pygments_lexer": "ipython3",
   "version": "3.11.5"
  }
 },
 "nbformat": 4,
 "nbformat_minor": 5
}
