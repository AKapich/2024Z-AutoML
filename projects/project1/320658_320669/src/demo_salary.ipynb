{
 "cells": [
  {
   "cell_type": "code",
   "id": "initial_id",
   "metadata": {
    "collapsed": true,
    "ExecuteTime": {
     "end_time": "2024-11-16T22:26:48.592268Z",
     "start_time": "2024-11-16T22:26:46.538211Z"
    }
   },
   "source": [
    "import pandas as pd\n",
    "import numpy as np\n",
    "from sklearn.pipeline import Pipeline\n",
    "from sklearn.preprocessing import OneHotEncoder, MinMaxScaler\n",
    "from sklearn.compose import ColumnTransformer, make_column_selector\n",
    "from sklearn.linear_model import ElasticNet\n",
    "from sklearn.ensemble import RandomForestRegressor\n",
    "from sklearn.impute import SimpleImputer\n",
    "from sklearn.model_selection import train_test_split\n",
    "from scipy.stats import uniform, randint\n",
    "from xgboost import XGBRegressor\n",
    "from paramFunctions import *\n",
    "import warnings\n",
    "\n",
    "warnings.filterwarnings(\"ignore\")"
   ],
   "execution_count": 1,
   "outputs": []
  },
  {
   "metadata": {
    "ExecuteTime": {
     "end_time": "2024-11-16T22:26:48.623691Z",
     "start_time": "2024-11-16T22:26:48.594263Z"
    }
   },
   "cell_type": "code",
   "source": [
    "df_Salary = pd.read_csv(\"../data/salary_prediction_data.csv\")\n",
    "\n",
    "X_salary = df_Salary.drop(columns=[\"Salary\"], axis=1)\n",
    "Y_salary = df_Salary['Salary']\n",
    "\n",
    "X_salary_train, X_salary_test, y_salary_train, y_salary_test = train_test_split(X_salary, Y_salary, test_size=0.3, random_state=42)"
   ],
   "id": "21e360ce5b0220a9",
   "execution_count": 2,
   "outputs": []
  },
  {
   "metadata": {
    "ExecuteTime": {
     "end_time": "2024-11-16T22:26:48.981557Z",
     "start_time": "2024-11-16T22:26:48.964094Z"
    }
   },
   "cell_type": "code",
   "source": [
    "si_cat=SimpleImputer(strategy=\"constant\", fill_value='NO INFORMATION')\n",
    "si_num = SimpleImputer(strategy='median')\n",
    "scaler=MinMaxScaler()\n",
    "\n",
    "numerical_pipeline = Pipeline(steps=[\n",
    "    ('imputer', si_num),\n",
    "    ('scaler', scaler)\n",
    "    ])\n",
    "    \n",
    "category_pipeline = Pipeline(steps=[\n",
    "    ('imputer', si_cat),\n",
    "    ('encoder', OneHotEncoder(handle_unknown='ignore'))\n",
    "    ])\n",
    "\n",
    "col_transformer = ColumnTransformer(transformers=[\n",
    "    ('num', numerical_pipeline, make_column_selector(dtype_include=np.number)),\n",
    "    ('cat', category_pipeline, make_column_selector(dtype_include='object'))\n",
    "    ],\n",
    "    remainder='drop',\n",
    "    n_jobs=-1)  "
   ],
   "id": "9ebff26f9b0ed3d5",
   "execution_count": 3,
   "outputs": []
  },
  {
   "metadata": {
    "ExecuteTime": {
     "end_time": "2024-11-16T22:26:51.287192Z",
     "start_time": "2024-11-16T22:26:51.272230Z"
    }
   },
   "cell_type": "code",
   "source": [
    "RF_regressor = Pipeline([('preprocessor', col_transformer),\n",
    "                         ('model', RandomForestRegressor())])\n",
    "ElasticNet_regressor = Pipeline([('preprocessor', col_transformer),\n",
    "                                 ('model', ElasticNet())])    \n",
    "XGB_regressor = Pipeline([('preprocessor', col_transformer),\n",
    "                          ('model', XGBRegressor())])  "
   ],
   "id": "5ff0b77f8e7376eb",
   "execution_count": 4,
   "outputs": []
  },
  {
   "metadata": {
    "ExecuteTime": {
     "end_time": "2024-11-16T22:26:52.551004Z",
     "start_time": "2024-11-16T22:26:52.532055Z"
    }
   },
   "cell_type": "code",
   "source": [
    "param_distribution_rf = {\n",
    "    'model__n_estimators': randint(1,500),\n",
    "    'model__min_samples_split': randint(2, 10),\n",
    "    'model__min_samples_leaf': randint(2, 10)\n",
    "}\n",
    "\n",
    "param_distributions_enet = {\n",
    "    'model__alpha': uniform(0, 1),\n",
    "    'model__l1_ratio': uniform(0, 1),\n",
    "}\n",
    "\n",
    "param_distributions_xgb = {\n",
    "    'model__min_child_weight': [2 ** uniform.rvs(0, 7) for _ in range(100)],\n",
    "    'model__max_depth': randint(1, 15),\n",
    "    'model__colsample_bytree': uniform(0, 1)\n",
    "}"
   ],
   "id": "e5d0e97591bc5adb",
   "execution_count": 5,
   "outputs": []
  },
  {
   "metadata": {
    "ExecuteTime": {
     "end_time": "2024-11-16T20:52:01.349300Z",
     "start_time": "2024-11-16T20:49:16.272628Z"
    }
   },
   "cell_type": "code",
   "source": "param_list_xgb, score_list_xgb = get_param_score_list(X_salary_train,y_salary_train,X_salary_test, y_salary_test, XGB_regressor, param_distributions_xgb, 160)",
   "id": "15f6ca9a97de9cbc",
   "execution_count": 8,
   "outputs": []
  },
  {
   "metadata": {
    "ExecuteTime": {
     "end_time": "2024-11-16T20:49:16.270634Z",
     "start_time": "2024-11-16T20:46:43.977604Z"
    }
   },
   "cell_type": "code",
   "source": "param_list_enet, score_list_enet = get_param_score_list(X_salary_train,y_salary_train,X_salary_test, y_salary_test, ElasticNet_regressor, param_distributions_enet, 160)",
   "id": "8b0485f8d7f40136",
   "execution_count": 7,
   "outputs": []
  },
  {
   "metadata": {
    "ExecuteTime": {
     "end_time": "2024-11-16T22:22:38.639637Z",
     "start_time": "2024-11-16T22:03:08.408497Z"
    }
   },
   "cell_type": "code",
   "source": "param_list_rf, score_list_rf = get_param_score_list(X_salary_train,y_salary_train,X_salary_test, y_salary_test, RF_regressor, param_distribution_rf, 160)",
   "id": "a57704075e9563d2",
   "execution_count": 6,
   "outputs": []
  },
  {
   "metadata": {
    "ExecuteTime": {
     "end_time": "2024-11-16T22:27:05.994153Z",
     "start_time": "2024-11-16T22:27:05.975204Z"
    }
   },
   "cell_type": "code",
   "source": [
    "list_1 = list(range(2, 12, 2))  \n",
    "list_2 = list(range(20, 151, 10))  \n",
    "\n",
    "iter_number = list_1 + list_2"
   ],
   "id": "717e9188bda0f0b3",
   "execution_count": 10,
   "outputs": []
  },
  {
   "metadata": {
    "ExecuteTime": {
     "end_time": "2024-11-16T22:23:16.959433Z",
     "start_time": "2024-11-16T22:23:16.659527Z"
    }
   },
   "cell_type": "code",
   "source": "r2_iteration_plot(iter_number, score_list_rf,'salary', 'rf')",
   "id": "477745aeacba45ed",
   "execution_count": 9,
   "outputs": []
  },
  {
   "metadata": {
    "ExecuteTime": {
     "end_time": "2024-11-16T20:52:01.695800Z",
     "start_time": "2024-11-16T20:52:01.367249Z"
    }
   },
   "cell_type": "code",
   "source": "r2_iteration_plot(iter_number, score_list_enet,'salary', 'enet')",
   "id": "37bc6c76a6489a46",
   "execution_count": 10,
   "outputs": []
  },
  {
   "metadata": {
    "ExecuteTime": {
     "end_time": "2024-11-16T20:56:39.341563Z",
     "start_time": "2024-11-16T20:56:39.085733Z"
    }
   },
   "cell_type": "code",
   "source": "r2_iteration_plot(iter_number, score_list_xgb,'salary', 'xgb')",
   "id": "d70ceb14110d0409",
   "execution_count": 13,
   "outputs": []
  },
  {
   "metadata": {
    "ExecuteTime": {
     "end_time": "2024-11-16T22:27:09.273597Z",
     "start_time": "2024-11-16T22:27:08.842785Z"
    }
   },
   "cell_type": "code",
   "source": "r2_all_models(iter_number, score_list_rf,score_list_xgb, score_list_enet, 'salary')",
   "id": "230a6eb46da477e1",
   "execution_count": 11,
   "outputs": []
  }
 ],
 "metadata": {
  "kernelspec": {
   "display_name": "Python 3",
   "language": "python",
   "name": "python3"
  },
  "language_info": {
   "codemirror_mode": {
    "name": "ipython",
    "version": 2
   },
   "file_extension": ".py",
   "mimetype": "text/x-python",
   "name": "python",
   "nbconvert_exporter": "python",
   "pygments_lexer": "ipython2",
   "version": "2.7.6"
  }
 },
 "nbformat": 4,
 "nbformat_minor": 5
}
