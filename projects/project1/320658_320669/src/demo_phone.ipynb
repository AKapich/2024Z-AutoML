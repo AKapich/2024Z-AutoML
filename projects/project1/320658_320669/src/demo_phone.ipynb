{
 "cells": [
  {
   "cell_type": "code",
   "id": "initial_id",
   "metadata": {
    "collapsed": true,
    "ExecuteTime": {
     "end_time": "2024-11-16T22:29:45.452705Z",
     "start_time": "2024-11-16T22:29:43.563824Z"
    }
   },
   "source": [
    "import pandas as pd\n",
    "import numpy as np\n",
    "from sklearn.pipeline import Pipeline\n",
    "from sklearn.preprocessing import OneHotEncoder, MinMaxScaler\n",
    "from sklearn.compose import ColumnTransformer, make_column_selector\n",
    "from sklearn.linear_model import ElasticNet\n",
    "from sklearn.ensemble import RandomForestRegressor\n",
    "from sklearn.impute import SimpleImputer\n",
    "from sklearn.model_selection import train_test_split\n",
    "from scipy.stats import uniform, randint\n",
    "from xgboost import XGBRegressor\n",
    "from paramFunctions import *\n",
    "\n",
    "import warnings\n",
    "\n",
    "warnings.filterwarnings(\"ignore\")"
   ],
   "execution_count": 1,
   "outputs": []
  },
  {
   "metadata": {
    "ExecuteTime": {
     "end_time": "2024-11-16T22:29:45.468663Z",
     "start_time": "2024-11-16T22:29:45.454700Z"
    }
   },
   "cell_type": "code",
   "source": "df_phone = pd.read_csv(\"../data/Cellphone.csv\")",
   "id": "429e827c375cd521",
   "execution_count": 2,
   "outputs": []
  },
  {
   "metadata": {
    "ExecuteTime": {
     "end_time": "2024-11-16T22:29:45.483622Z",
     "start_time": "2024-11-16T22:29:45.470659Z"
    }
   },
   "cell_type": "code",
   "source": [
    "df_phone = pd.read_csv(\"../data/Cellphone.csv\")\n",
    "X_phone = df_phone.drop(columns=[\"Price\", \"Product_id\"], axis=1)\n",
    "Y_phone = df_phone['Price']\n",
    "\n",
    "X_phone_train, X_phone_test, y_phone_train, y_phone_test = train_test_split(X_phone, Y_phone, test_size=0.3, random_state=42)"
   ],
   "id": "d714e1e1d3aab8bf",
   "execution_count": 3,
   "outputs": []
  },
  {
   "metadata": {
    "ExecuteTime": {
     "end_time": "2024-11-16T22:29:49.840671Z",
     "start_time": "2024-11-16T22:29:49.826709Z"
    }
   },
   "cell_type": "code",
   "source": [
    "si_cat=SimpleImputer(strategy=\"constant\", fill_value='NO INFORMATION')\n",
    "si_num = SimpleImputer(strategy='median')\n",
    "scaler=MinMaxScaler()\n",
    "\n",
    "numerical_pipeline = Pipeline(steps=[\n",
    "    ('imputer', si_num),\n",
    "    ('scaler', scaler)\n",
    "    ])\n",
    "    \n",
    "category_pipeline = Pipeline(steps=[\n",
    "    ('imputer', si_cat),\n",
    "    ('encoder', OneHotEncoder(handle_unknown='ignore'))\n",
    "    ])\n",
    "\n",
    "col_transformer = ColumnTransformer(transformers=[\n",
    "    ('num', numerical_pipeline, make_column_selector(dtype_include=np.number)),\n",
    "    ('cat', category_pipeline, make_column_selector(dtype_include='object'))\n",
    "    ],\n",
    "    remainder='drop',\n",
    "    n_jobs=-1)  "
   ],
   "id": "4b14ac7bb0b9842f",
   "execution_count": 4,
   "outputs": []
  },
  {
   "metadata": {
    "ExecuteTime": {
     "end_time": "2024-11-16T22:29:51.234131Z",
     "start_time": "2024-11-16T22:29:51.218173Z"
    }
   },
   "cell_type": "code",
   "source": [
    "RF_regressor = Pipeline([('preprocessor', col_transformer),\n",
    "                         ('model', RandomForestRegressor())])\n",
    "ElasticNet_regressor = Pipeline([('preprocessor', col_transformer),\n",
    "                                 ('model', ElasticNet())])    \n",
    "XGB_regressor = Pipeline([('preprocessor', col_transformer),\n",
    "                          ('model', XGBRegressor())])  "
   ],
   "id": "dfde145a83ebd085",
   "execution_count": 5,
   "outputs": []
  },
  {
   "metadata": {
    "ExecuteTime": {
     "end_time": "2024-11-16T22:30:30.233399Z",
     "start_time": "2024-11-16T22:30:30.217442Z"
    }
   },
   "cell_type": "code",
   "source": [
    "param_distributions_rf = {\n",
    "    'model__n_estimators': randint(1,500),\n",
    "    'model__min_samples_split': randint(2, 10),\n",
    "    'model__min_samples_leaf': randint(2, 10)\n",
    "}\n",
    "\n",
    "param_distributions_enet = {\n",
    "    'model__alpha': uniform(0, 1),\n",
    "    'model__l1_ratio': uniform(0, 1),\n",
    "}\n",
    "\n",
    "param_distributions_xgb = {\n",
    "    'model__min_child_weight': [2 ** uniform.rvs(0, 7) for _ in range(100)],\n",
    "    'model__max_depth': randint(1, 15),\n",
    "    'model__colsample_bytree': uniform(0, 1)\n",
    "}"
   ],
   "id": "b579eec1c9202406",
   "execution_count": 9,
   "outputs": []
  },
  {
   "metadata": {
    "ExecuteTime": {
     "end_time": "2024-11-16T21:51:17.613666Z",
     "start_time": "2024-11-16T21:49:39.931185Z"
    }
   },
   "cell_type": "code",
   "source": "param_list_enet, score_list_enet = get_param_score_list(X_phone_train,y_phone_train,X_phone_test, y_phone_test, ElasticNet_regressor, param_distributions_enet, 160)",
   "id": "3ecd33bb66d37b0",
   "execution_count": 30,
   "outputs": []
  },
  {
   "metadata": {
    "ExecuteTime": {
     "end_time": "2024-11-16T21:46:26.696986Z",
     "start_time": "2024-11-16T21:44:11.386776Z"
    }
   },
   "cell_type": "code",
   "source": "param_list_xgb, score_list_xgb = get_param_score_list(X_phone_train,y_phone_train,X_phone_test, y_phone_test, XGB_regressor, param_distributions_enet, 160)",
   "id": "7722e2f6bc67bb4e",
   "execution_count": 25,
   "outputs": []
  },
  {
   "metadata": {
    "ExecuteTime": {
     "end_time": "2024-11-16T22:42:35.905427Z",
     "start_time": "2024-11-16T22:30:35.208055Z"
    }
   },
   "cell_type": "code",
   "source": "param_list_rf, score_list_rf = get_param_score_list(X_phone_train,y_phone_train,X_phone_test, y_phone_test, RF_regressor, param_distributions_rf, 160)",
   "id": "29016f5a26a09e1",
   "execution_count": 10,
   "outputs": []
  },
  {
   "metadata": {
    "ExecuteTime": {
     "end_time": "2024-11-16T22:53:51.440691Z",
     "start_time": "2024-11-16T22:53:51.432684Z"
    }
   },
   "cell_type": "code",
   "source": [
    "list_1 = list(range(2, 12, 2))  \n",
    "list_2 = list(range(20, 151, 10))  \n",
    "\n",
    "iter_number = list_1 + list_2"
   ],
   "id": "e31dc76a03799535",
   "execution_count": 13,
   "outputs": []
  },
  {
   "metadata": {
    "ExecuteTime": {
     "end_time": "2024-11-16T22:53:52.866915Z",
     "start_time": "2024-11-16T22:53:52.491050Z"
    }
   },
   "cell_type": "code",
   "source": "r2_iteration_plot(iter_number, score_list_rf,'phone', 'rf')",
   "id": "4625f332d937b251",
   "execution_count": 14,
   "outputs": []
  },
  {
   "metadata": {
    "ExecuteTime": {
     "end_time": "2024-11-16T21:56:51.553306Z",
     "start_time": "2024-11-16T21:56:51.288007Z"
    }
   },
   "cell_type": "code",
   "source": "r2_iteration_plot(iter_number, score_list_enet,'phone', 'enet')",
   "id": "7dd38583ec18407b",
   "execution_count": 31,
   "outputs": []
  },
  {
   "metadata": {
    "ExecuteTime": {
     "end_time": "2024-11-16T21:57:08.771016Z",
     "start_time": "2024-11-16T21:57:08.549597Z"
    }
   },
   "cell_type": "code",
   "source": "r2_iteration_plot(iter_number, score_list_xgb,'phone', 'xgb')",
   "id": "e950945618dfe19e",
   "execution_count": 32,
   "outputs": []
  },
  {
   "metadata": {
    "ExecuteTime": {
     "end_time": "2024-11-16T22:54:19.519005Z",
     "start_time": "2024-11-16T22:54:19.248930Z"
    }
   },
   "cell_type": "code",
   "source": "r2_all_models(iter_number, score_list_rf,score_list_xgb, score_list_enet, 'phone')",
   "id": "22d3fb5e8c21940f",
   "execution_count": 16,
   "outputs": []
  }
 ],
 "metadata": {
  "kernelspec": {
   "display_name": "Python 3",
   "language": "python",
   "name": "python3"
  },
  "language_info": {
   "codemirror_mode": {
    "name": "ipython",
    "version": 2
   },
   "file_extension": ".py",
   "mimetype": "text/x-python",
   "name": "python",
   "nbconvert_exporter": "python",
   "pygments_lexer": "ipython2",
   "version": "2.7.6"
  }
 },
 "nbformat": 4,
 "nbformat_minor": 5
}
